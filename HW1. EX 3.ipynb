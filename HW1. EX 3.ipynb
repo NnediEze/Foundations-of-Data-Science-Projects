{
 "cells": [
  {
   "cell_type": "code",
   "execution_count": 1,
   "metadata": {},
   "outputs": [],
   "source": [
    "import numpy as np"
   ]
  },
  {
   "cell_type": "markdown",
   "metadata": {},
   "source": [
    "## Setting\n",
    "\n",
    "Now, let's work on a different data science project. In this study, we will look at hurricanes.\n",
    " \n",
    "**Hurricane **\n",
    "\n",
    "The following table gives the Top 10 costliest Atlantic hurricanes between 1900 and 2020.  \n",
    " \n",
    "\n",
    "|ranking|Hurricane|Damage(in Billions USD)|Season| \n",
    "|---|---|---|---|\n",
    "| 1|Katrina | 125| 2005| \n",
    "| 9|Ivan | 26.1|2004| \n",
    "| 1|Harvey | 125|2017| \n",
    "| 6|Ike | 38.0|2008| \n",
    "| 3|Maria | 91.6|2017| \n",
    "| 10|Michael\t | 25.1|2018| \n",
    "| 4|Sandy | 68.7|2012| \n",
    "| 5|Irma | 64.8|2017| \n",
    "| 7 |Wilma |27.4 |2005| \n",
    "| 8|Andrew | 27.3|1992| \n",
    "\n",
    "\n"
   ]
  },
  {
   "cell_type": "markdown",
   "metadata": {},
   "source": [
    "## Q1. [4 points]\n",
    "\n",
    "Generate 4 arrays, one corresponding to each column."
   ]
  },
  {
   "cell_type": "code",
   "execution_count": 2,
   "metadata": {},
   "outputs": [
    {
     "name": "stdout",
     "output_type": "stream",
     "text": [
      "Rankings =  [ 1  9  1  6  3 10  4  5  7  8]\n",
      "Hurricanes =  ['Katrina' 'Ivan' 'Harvey' 'Ike' 'Maria' 'Michael' 'Sandy' 'Irma' 'Wilma'\n",
      " 'Andrew']\n",
      "Damage (in billions of USD) =  [125.   26.1 125.   38.   91.6  25.1  68.7  64.8  27.4  27.3]\n",
      "Season =  [2005 2004 2017 2008 2017 2018 2012 2017 2005 1992]\n"
     ]
    }
   ],
   "source": [
    "ranking = np.array([1,9,1,6,3,10,4,5,7,8])\n",
    "hurricane = np.array(['Katrina','Ivan','Harvey','Ike','Maria','Michael','Sandy','Irma','Wilma','Andrew'])\n",
    "damage  = np.array([125,26.1,125,38.0,91.6,25.1,68.7,64.8,27.4,27.3])\n",
    "season = np.array([2005,2004,2017,2008,2017,2018,2012,2017,2005,1992])\n",
    "\n",
    "print(\"Rankings = \", ranking)\n",
    "print(\"Hurricanes = \", hurricane)\n",
    "print(\"Damage (in billions of USD) = \", damage)\n",
    "print(\"Season = \", season)"
   ]
  },
  {
   "cell_type": "markdown",
   "metadata": {},
   "source": [
    "## Q2. [12 points]\n",
    "\n",
    "Inflation and deflation are important concepts in economics.  They refer to a sustained increase (or decrease) in the price level of goods and services. Because of inflation and deflation, the value of the money today will not be the same one year after. In order to fairly compare the damage, one might want to adjust the dollar value. We use inflation rate to adjust the dollar amount. \n",
    "\n",
    "The way we adjust the dollar amount is as follows: \n",
    "\n",
    "if the inflation rate in year 1 is $r_1$ and the inflation rate in year 2 is $r_2$. Then $x$ dollars in year 1 will worth $x\\times(1+r_1)\\times(1+r_2)$ measured in year 3. \n",
    "\n",
    "The inflation rate from 2000 to 2020 is given in array \"inflation_rate\", where the first element corresponds to the inflation rate in 2000, the second elements correspond to the inflation rate in 2001, and so on.\n",
    "\n",
    "*   Based on this, use the `NumPy` functions (including) and operations to compute the value of damage brought by hurricane Katrina measured in 2021. \n",
    "\n",
    "* Use `round` function to keep three digits after the decimal points. When calling this function, use position argument for `number`, use keyword argument for `ndigits`.\n",
    "\n",
    "*   Also do the same thing for hurricane Harvey and Maria. Keep three digits after the decimal points. When calling this function, use position argument for `number`, use keyword argument for `ndigits`.\n",
    "\n",
    "*   Based on what you get in the past two steps, use comparison and Boolean operators to test if the statement is true: \n",
    ">* The damage of hurricane Harvey is higher than or equal to both the damage of hurricane Katrina and Maria when all three are measured in 2021 values.\n",
    "\n",
    "\n",
    "\n",
    "\n",
    "\n",
    "\n",
    "\n"
   ]
  },
  {
   "cell_type": "code",
   "execution_count": 3,
   "metadata": {},
   "outputs": [],
   "source": [
    "inflation_rate=np.array([3.40/100, 1.60/100, 2.40/100, 1.90/100, 3.30/100, 3.40/100, \n",
    "                         2.50/100, 4.10/100, 0.10/100, 2.70/100, 1.50/100, 3.00/100,  \n",
    "                         1.70/100, 1.50/100, 0.80/100, 0.70/100, 2.10/100, 2.10/100,\n",
    "                         1.90/100, 2.30/100, 1.40/100\n",
    "                        ])"
   ]
  },
  {
   "cell_type": "code",
   "execution_count": 4,
   "metadata": {},
   "outputs": [
    {
     "name": "stdout",
     "output_type": "stream",
     "text": [
      "Damage of hurricane Katrina (in Billions of 2021 USD) =  171.131\n"
     ]
    }
   ],
   "source": [
    "#Katrina\n",
    "kat_total_inflation = np.product((inflation_rate[np.arange(start=5,stop=21,step=1)]) + 1)\n",
    "kat_damage = round((kat_total_inflation * damage[0]), ndigits=3)\n",
    "print(\"Damage of hurricane Katrina (in Billions of 2021 USD) = \", kat_damage)"
   ]
  },
  {
   "cell_type": "code",
   "execution_count": 5,
   "metadata": {},
   "outputs": [
    {
     "name": "stdout",
     "output_type": "stream",
     "text": [
      "Damage of hurricane Harvey (in Billions 2021 USD) =  134.904\n",
      "Damage of hurricane Maria (in Billions of 2021 USD) =  98.857\n"
     ]
    }
   ],
   "source": [
    "#Harvey\n",
    "har_total_inflation = np.product((inflation_rate[np.arange(start=17,stop=21,step=1)]) + 1)\n",
    "har_damage = round((har_total_inflation * damage[2]), ndigits=3)\n",
    "print(\"Damage of hurricane Harvey (in Billions 2021 USD) = \", har_damage)\n",
    "\n",
    "#Maria\n",
    "mar_total_inflation = np.product((inflation_rate[np.arange(start=17,stop=21,step=1)]) + 1)\n",
    "mar_damage = round((mar_total_inflation * damage[4]), ndigits=3)\n",
    "print(\"Damage of hurricane Maria (in Billions of 2021 USD) = \", mar_damage)"
   ]
  },
  {
   "cell_type": "code",
   "execution_count": 6,
   "metadata": {},
   "outputs": [
    {
     "name": "stdout",
     "output_type": "stream",
     "text": [
      "Is the damage of hurricane Harvey higher/equal to the damages of hurricanes Katrina and Maria in 2021 USD?\n",
      "Answer: False\n"
     ]
    }
   ],
   "source": [
    "print(\"Is the damage of hurricane Harvey higher/equal to the damages of hurricanes Katrina and Maria in 2021 USD?\")\n",
    "print(\"Answer:\", ((har_damage >= kat_damage) * (har_damage >= mar_damage)))"
   ]
  },
  {
   "cell_type": "markdown",
   "metadata": {},
   "source": [
    "## Q3. [8 points]\n",
    "Creating four arrays that separately store the information for the top **5** costliest hurricanes:\n",
    "\n",
    "* ranking\n",
    "* Hurricane\t\n",
    "* Damage(in Billions USD)\t\n",
    "* Season\n",
    "\n",
    "Your answer should not be based on eyeballing the answer. That is, your algorithm should be robust enough to deal with a table contains 10000 observations.\n",
    "\n",
    "\n"
   ]
  },
  {
   "cell_type": "code",
   "execution_count": 7,
   "metadata": {},
   "outputs": [
    {
     "name": "stdout",
     "output_type": "stream",
     "text": [
      "Ranking of top 5 costliest hurricanes =  [1 1 3 4 5]\n",
      "Top 5 costliest hurricanes =  ['Harvey' 'Katrina' 'Maria' 'Sandy' 'Irma']\n",
      "Damage of top 5 costliest hurricanes (in Billions USD) =  [125.  125.   91.6  68.7  64.8]\n",
      "Seasons of top 5 costliest hurricanes =  [2017 2005 2017 2012 2017]\n"
     ]
    }
   ],
   "source": [
    "top5_indices = np.argsort(damage)[[-1,-2,-3,-4,-5]]\n",
    "top5_ranking = ranking[top5_indices]\n",
    "top5_hurricane = hurricane[top5_indices]\n",
    "top5_damage = damage[top5_indices]\n",
    "top5_season = season[top5_indices]\n",
    "\n",
    "print(\"Ranking of top 5 costliest hurricanes = \", top5_ranking)\n",
    "print(\"Top 5 costliest hurricanes = \", top5_hurricane)\n",
    "print(\"Damage of top 5 costliest hurricanes (in Billions USD) = \", top5_damage)\n",
    "print(\"Seasons of top 5 costliest hurricanes = \", top5_season)"
   ]
  },
  {
   "cell_type": "code",
   "execution_count": null,
   "metadata": {},
   "outputs": [],
   "source": []
  },
  {
   "cell_type": "markdown",
   "metadata": {},
   "source": [
    "## Q4. [6 points]\n",
    "\n",
    "With the help of Boolean mask, calculate the maximum and the minimum of damage (no need to adjust the inflation） of the costliest hurricanes happened between 2000 (inclusive) and 2010 (inclusive).  \n",
    "\n",
    "Your answer should not be based on eyeballing the answer. That is, your algorithm should be robust enough  to deal with a table contains 10000 observations.\n"
   ]
  },
  {
   "cell_type": "code",
   "execution_count": 8,
   "metadata": {},
   "outputs": [
    {
     "name": "stdout",
     "output_type": "stream",
     "text": [
      "Maximum damage of costliest 2000-2010 hurricanes (in Billions USD) =  125.0\n",
      "Minimum damage of costliest 2000-2010 hurricanes (in Billions USD) =  26.1\n"
     ]
    }
   ],
   "source": [
    "is_2000s_hurricane = (season >= 2000) * (season <= 2010)\n",
    "damage_of_2000s_hurricanes = damage[is_2000s_hurricane]\n",
    "print(\"Maximum damage of costliest 2000-2010 hurricanes (in Billions USD) = \", np.max(damage_of_2000s_hurricanes))\n",
    "print(\"Minimum damage of costliest 2000-2010 hurricanes (in Billions USD) = \", np.min(damage_of_2000s_hurricanes))"
   ]
  },
  {
   "cell_type": "code",
   "execution_count": null,
   "metadata": {},
   "outputs": [],
   "source": []
  },
  {
   "cell_type": "code",
   "execution_count": null,
   "metadata": {},
   "outputs": [],
   "source": []
  }
 ],
 "metadata": {
  "kernelspec": {
   "display_name": "Python 3",
   "language": "python",
   "name": "python3"
  },
  "language_info": {
   "codemirror_mode": {
    "name": "ipython",
    "version": 3
   },
   "file_extension": ".py",
   "mimetype": "text/x-python",
   "name": "python",
   "nbconvert_exporter": "python",
   "pygments_lexer": "ipython3",
   "version": "3.9.1"
  }
 },
 "nbformat": 4,
 "nbformat_minor": 4
}
