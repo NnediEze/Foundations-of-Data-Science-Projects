{
    "metadata": {
        "kernelspec": {
            "name": "python3",
            "display_name": "Python 3",
            "language": "python"
        }
    },
    "nbformat": 4,
    "nbformat_minor": 4,
    "cells": [
        {
            "cell_type": "code",
            "execution_count": 33,
            "metadata": {},
            "outputs": [],
            "source": [
                "import numpy as np"
            ]
        },
        {
            "attachments": {},
            "cell_type": "markdown",
            "metadata": {},
            "source": [
                "## Q1. [2 points]\n",
                "\n",
                "\n",
                "Construct the following array using `numpy.arange` and `np.insert` only\n",
                "\n",
                "`array([9. , 8. , 7. , 6. , 5. , 4. , 3. , 2. , 1.9, 1.8, 1.7, 1.6, 1.5,\n",
                "       1.4, 1.3, 1.2, 1. , 0. ])`\n",
                "\n",
                "\n",
                "\n",
                ""
            ]
        },
        {
            "cell_type": "code",
            "execution_count": 34,
            "metadata": {},
            "outputs": [
                {
                    "data": {
                        "text/plain": "array([9. , 8. , 7. , 6. , 5. , 4. , 3. , 2. , 1.9, 1.8, 1.7, 1.6, 1.5,\n       1.4, 1.3, 1.2, 1.1, 1. , 0. ])"
                    },
                    "execution_count": 34,
                    "metadata": {},
                    "output_type": "execute_result"
                }
            ],
            "source": [
                "array1 = np.arange(9,1,-1)\n",
                "array2 = np.arange(1.9, 0.9, -0.1)\n",
                "array = np.insert(array2, 0, array1)\n",
                "array = np.insert(array,len(array),0)\n",
                "array"
            ]
        },
        {
            "attachments": {},
            "cell_type": "markdown",
            "metadata": {},
            "source": [
                "## Q2. [3 points]\n",
                "\n",
                "Someone wants to replace all the elements with **even** indices in the array above with 10 times their original values. Help them do so.  "
            ]
        },
        {
            "cell_type": "code",
            "execution_count": 37,
            "metadata": {},
            "outputs": [
                {
                    "data": {
                        "text/plain": "array([90. ,  8. , 70. ,  6. , 50. ,  4. , 30. ,  2. , 19. ,  1.8, 17. ,\n        1.6, 15. ,  1.4, 13. ,  1.2, 11. ,  1. ,  0. ])"
                    },
                    "execution_count": 37,
                    "metadata": {},
                    "output_type": "execute_result"
                }
            ],
            "source": [
                "array[::2] = array[::2] * 10 \n",
                "array"
            ]
        },
        {
            "cell_type": "code",
            "execution_count": 38,
            "metadata": {},
            "outputs": [],
            "source": [
                ""
            ]
        },
        {
            "attachments": {},
            "cell_type": "markdown",
            "metadata": {},
            "source": [
                "## Q3. [3 Points]\n",
                "\n",
                "For the array from Q2, Use at most two `Numpy` functions to check if 6.6 is inserted into the array, what is the ranking of 6.6 if we rank the elements from smallest to largest. [smallest value has ranking 1, next smallest value has ranking 2 ..]\n",
                "\n",
                "If you need to know the number of elements in the array, use `len(a)`\n",
                ""
            ]
        },
        {
            "cell_type": "code",
            "execution_count": 39,
            "metadata": {},
            "outputs": [
                {
                    "data": {
                        "text/plain": "10"
                    },
                    "execution_count": 39,
                    "metadata": {},
                    "output_type": "execute_result"
                }
            ],
            "source": [
                "a_sorted = np.sort(array)\n",
                "np.searchsorted(a_sorted,6.6,side='left')+1"
            ]
        },
        {
            "attachments": {},
            "cell_type": "markdown",
            "metadata": {},
            "source": [
                "## Q4. [5 Points]\n",
                "\n",
                "`np.mean(A)` can compute the average of all the elements in array `A`. For the array in Q2, print out the value of an element is the closest to the average of all the elements."
            ]
        },
        {
            "cell_type": "code",
            "execution_count": 40,
            "metadata": {},
            "outputs": [
                {
                    "data": {
                        "text/plain": "19.0"
                    },
                    "execution_count": 40,
                    "metadata": {},
                    "output_type": "execute_result"
                }
            ],
            "source": [
                "mean = np.mean(array)\n",
                "index = np.searchsorted(a_sorted,mean,side='left')\n",
                "a_sorted[index]"
            ]
        },
        {
            "cell_type": "code",
            "execution_count": 41,
            "metadata": {},
            "outputs": [
                {
                    "name": "stdout",
                    "output_type": "stream",
                    "text": "[ 0.   1.   1.2  1.4  1.6  1.8  2.   4.   6.   8.  11.  13.  15.  17.\n 19.  30.  50.  70.  90. ]\n"
                }
            ],
            "source": [
                "print(a_sorted)"
            ]
        }
    ]
}
