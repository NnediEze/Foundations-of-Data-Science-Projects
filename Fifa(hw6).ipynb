{
    "metadata": {
        "kernelspec": {
            "name": "python3",
            "display_name": "Python 3",
            "language": "python"
        }
    },
    "nbformat": 4,
    "nbformat_minor": 2,
    "cells": [
        {
            "cell_type": "code",
            "execution_count": 1,
            "metadata": {},
            "outputs": [],
            "source": [
                "import pandas as pd \n",
                "import numpy as np\n",
                "import matplotlib.pyplot as plt \n",
                "%matplotlib inline"
            ]
        },
        {
            "attachments": {},
            "cell_type": "markdown",
            "metadata": {},
            "source": [
                "## Setting\n",
                "\n",
                "![alt text](https://encrypted-tbn0.gstatic.com/images?q=tbn:ANd9GcR-XgX51fuEq5eo_mPQmHvDdAOMnOb9bv0JqA\u0026usqp=CAU)\n",
                "\n",
                "\n",
                "In this exercise, we work with a data set that contains the soccer game performance of countries. from Fédération Internationale de Football Association (FIFA) has a method to compute the points each country gets. The points indicate the performance of countries and are re-calculated several times a year. \n",
                "\n",
                "In this dataset, each row presents the performance data for a given country in a given ranking date. The data goes from 2/3/2010 to 12/10/2020 for over 200 participating countries.\n",
                ""
            ]
        },
        {
            "cell_type": "code",
            "execution_count": 2,
            "metadata": {},
            "outputs": [
                {
                    "data": {
                        "text/html": "\u003cdiv\u003e\n\u003cstyle scoped\u003e\n    .dataframe tbody tr th:only-of-type {\n        vertical-align: middle;\n    }\n\n    .dataframe tbody tr th {\n        vertical-align: top;\n    }\n\n    .dataframe thead th {\n        text-align: right;\n    }\n\u003c/style\u003e\n\u003ctable border=\"1\" class=\"dataframe\"\u003e\n  \u003cthead\u003e\n    \u003ctr style=\"text-align: right;\"\u003e\n      \u003cth\u003e\u003c/th\u003e\n      \u003cth\u003ecountry_full\u003c/th\u003e\n      \u003cth\u003ecountry_abrv\u003c/th\u003e\n      \u003cth\u003etotal_points\u003c/th\u003e\n      \u003cth\u003econfederation\u003c/th\u003e\n      \u003cth\u003erank_date\u003c/th\u003e\n    \u003c/tr\u003e\n  \u003c/thead\u003e\n  \u003ctbody\u003e\n    \u003ctr\u003e\n      \u003cth\u003e0\u003c/th\u003e\n      \u003ctd\u003eSpain\u003c/td\u003e\n      \u003ctd\u003eESP\u003c/td\u003e\n      \u003ctd\u003e1627\u003c/td\u003e\n      \u003ctd\u003eUEFA\u003c/td\u003e\n      \u003ctd\u003e2/3/2010\u003c/td\u003e\n    \u003c/tr\u003e\n    \u003ctr\u003e\n      \u003cth\u003e1\u003c/th\u003e\n      \u003ctd\u003eNetherlands\u003c/td\u003e\n      \u003ctd\u003eNED\u003c/td\u003e\n      \u003ctd\u003e1288\u003c/td\u003e\n      \u003ctd\u003eUEFA\u003c/td\u003e\n      \u003ctd\u003e2/3/2010\u003c/td\u003e\n    \u003c/tr\u003e\n    \u003ctr\u003e\n      \u003cth\u003e2\u003c/th\u003e\n      \u003ctd\u003eItaly\u003c/td\u003e\n      \u003ctd\u003eITA\u003c/td\u003e\n      \u003ctd\u003e1209\u003c/td\u003e\n      \u003ctd\u003eUEFA\u003c/td\u003e\n      \u003ctd\u003e2/3/2010\u003c/td\u003e\n    \u003c/tr\u003e\n    \u003ctr\u003e\n      \u003cth\u003e3\u003c/th\u003e\n      \u003ctd\u003eIndonesia\u003c/td\u003e\n      \u003ctd\u003eIDN\u003c/td\u003e\n      \u003ctd\u003e155\u003c/td\u003e\n      \u003ctd\u003eAFC\u003c/td\u003e\n      \u003ctd\u003e2/3/2010\u003c/td\u003e\n    \u003c/tr\u003e\n    \u003ctr\u003e\n      \u003cth\u003e4\u003c/th\u003e\n      \u003ctd\u003eHong Kong\u003c/td\u003e\n      \u003ctd\u003eHKG\u003c/td\u003e\n      \u003ctd\u003e153\u003c/td\u003e\n      \u003ctd\u003eAFC\u003c/td\u003e\n      \u003ctd\u003e2/3/2010\u003c/td\u003e\n    \u003c/tr\u003e\n    \u003ctr\u003e\n      \u003cth\u003e...\u003c/th\u003e\n      \u003ctd\u003e...\u003c/td\u003e\n      \u003ctd\u003e...\u003c/td\u003e\n      \u003ctd\u003e...\u003c/td\u003e\n      \u003ctd\u003e...\u003c/td\u003e\n      \u003ctd\u003e...\u003c/td\u003e\n    \u003c/tr\u003e\n    \u003ctr\u003e\n      \u003cth\u003e25740\u003c/th\u003e\n      \u003ctd\u003eUnited Arab Emirates\u003c/td\u003e\n      \u003ctd\u003eUAE\u003c/td\u003e\n      \u003ctd\u003e1326\u003c/td\u003e\n      \u003ctd\u003eAFC\u003c/td\u003e\n      \u003ctd\u003e12/10/2020\u003c/td\u003e\n    \u003c/tr\u003e\n    \u003ctr\u003e\n      \u003cth\u003e25741\u003c/th\u003e\n      \u003ctd\u003eChina PR\u003c/td\u003e\n      \u003ctd\u003eCHN\u003c/td\u003e\n      \u003ctd\u003e1323\u003c/td\u003e\n      \u003ctd\u003eAFC\u003c/td\u003e\n      \u003ctd\u003e12/10/2020\u003c/td\u003e\n    \u003c/tr\u003e\n    \u003ctr\u003e\n      \u003cth\u003e25742\u003c/th\u003e\n      \u003ctd\u003eCuraçao\u003c/td\u003e\n      \u003ctd\u003eCUW\u003c/td\u003e\n      \u003ctd\u003e1313\u003c/td\u003e\n      \u003ctd\u003eCONCACAF\u003c/td\u003e\n      \u003ctd\u003e12/10/2020\u003c/td\u003e\n    \u003c/tr\u003e\n    \u003ctr\u003e\n      \u003cth\u003e25743\u003c/th\u003e\n      \u003ctd\u003eCosta Rica\u003c/td\u003e\n      \u003ctd\u003eCRC\u003c/td\u003e\n      \u003ctd\u003e1427\u003c/td\u003e\n      \u003ctd\u003eCONCACAF\u003c/td\u003e\n      \u003ctd\u003e12/10/2020\u003c/td\u003e\n    \u003c/tr\u003e\n    \u003ctr\u003e\n      \u003cth\u003e25744\u003c/th\u003e\n      \u003ctd\u003eSan Marino\u003c/td\u003e\n      \u003ctd\u003eSMR\u003c/td\u003e\n      \u003ctd\u003e810\u003c/td\u003e\n      \u003ctd\u003eUEFA\u003c/td\u003e\n      \u003ctd\u003e12/10/2020\u003c/td\u003e\n    \u003c/tr\u003e\n  \u003c/tbody\u003e\n\u003c/table\u003e\n\u003cp\u003e25745 rows × 5 columns\u003c/p\u003e\n\u003c/div\u003e",
                        "text/plain": "               country_full country_abrv  total_points confederation  \\\n0                     Spain          ESP          1627          UEFA   \n1               Netherlands          NED          1288          UEFA   \n2                     Italy          ITA          1209          UEFA   \n3                 Indonesia          IDN           155           AFC   \n4                 Hong Kong          HKG           153           AFC   \n...                     ...          ...           ...           ...   \n25740  United Arab Emirates          UAE          1326           AFC   \n25741              China PR          CHN          1323           AFC   \n25742               Curaçao          CUW          1313      CONCACAF   \n25743            Costa Rica          CRC          1427      CONCACAF   \n25744            San Marino          SMR           810          UEFA   \n\n        rank_date  \n0        2/3/2010  \n1        2/3/2010  \n2        2/3/2010  \n3        2/3/2010  \n4        2/3/2010  \n...           ...  \n25740  12/10/2020  \n25741  12/10/2020  \n25742  12/10/2020  \n25743  12/10/2020  \n25744  12/10/2020  \n\n[25745 rows x 5 columns]"
                    },
                    "execution_count": 2,
                    "metadata": {},
                    "output_type": "execute_result"
                }
            ],
            "source": [
                "Fifa=pd.read_csv(\"Fifa.csv\")\n",
                "Fifa"
            ]
        },
        {
            "attachments": {},
            "cell_type": "markdown",
            "metadata": {},
            "source": [
                "## Q1. [10 Points]\n",
                "\n",
                "\n",
                "The `confederation` column gives us the confederation a country belongs to.  Each country can only belong to at most one of the following confederations based on its geographic location.\n",
                "\n",
                "|Abberation|Full Name|\n",
                "|---|---|\n",
                "|AFC |Asian Football Confederation in Asia and Australia|\n",
                "|CAF| Confédération Africaine de Football in Africa|\n",
                "|CONCACAF|Confederation of North, Central American and Caribbean Association Football in North America and Central America|\n",
                "|CONMEBOL|Confederación Sudamericana de Fútbol in South America|\n",
                "|OFC | Oceania Football Confederation in Oceania|\n",
                "|UEFA |Union of European Football Associations in Europe|\n",
                "\n",
                "* For each confederation, calculate how many countries **have ever** joined that confederation between 2010 and 2020. Remember that a country might join later than 2010 and leave before 2020.\n",
                "* Visualize this information using a bar chart. On the x-axis, give the names of the confederations. On the y-axis, give the number of countries that ever joined this confederation between 2010 and 2020. Make sure to add the title and the axis labels.\n",
                " "
            ]
        },
        {
            "cell_type": "code",
            "execution_count": 3,
            "metadata": {},
            "outputs": [
                {
                    "name": "stdout",
                    "output_type": "stream",
                    "text": "[46, 54, 36, 10, 11, 55]\n"
                }
            ],
            "source": [
                "y = []\n",
                "\n",
                "#AFC\n",
                "Filter = (Fifa.confederation.values == \"AFC\")\n",
                "fifa = Fifa.loc[Filter, [\"country_abrv\"]]\n",
                "afc = np.unique(fifa.country_abrv)\n",
                "afc_count = afc.size\n",
                "y.append(afc_count)\n",
                "\n",
                "#CAF\n",
                "Filter = (Fifa.confederation.values == \"CAF\")\n",
                "fifa = Fifa.loc[Filter, [\"country_abrv\"]]\n",
                "caf = np.unique(fifa.country_abrv)\n",
                "caf_count = caf.size\n",
                "y.append(caf_count)\n",
                "\n",
                "#CONCACAF\n",
                "Filter = (Fifa.confederation.values == \"CONCACAF\")\n",
                "fifa = Fifa.loc[Filter, [\"country_abrv\"]]\n",
                "concacaf = np.unique(fifa.country_abrv)\n",
                "concacaf_count = concacaf.size\n",
                "y.append(concacaf_count)\n",
                "\n",
                "#CONMEBOL\n",
                "Filter = (Fifa.confederation.values == \"CONMEBOL\")\n",
                "fifa = Fifa.loc[Filter, [\"country_abrv\"]]\n",
                "conmebol= np.unique(fifa.country_abrv)\n",
                "conmebol_count = conmebol.size\n",
                "y.append(conmebol_count)\n",
                "\n",
                "#OFC\n",
                "Filter = (Fifa.confederation.values == \"OFC\")\n",
                "fifa = Fifa.loc[Filter, [\"country_abrv\"]]\n",
                "ofc = np.unique(fifa.country_abrv)\n",
                "ofc_count = ofc.size\n",
                "y.append(ofc_count) \n",
                "\n",
                "#UEFA\n",
                "Filter = (Fifa.confederation.values == \"UEFA\")\n",
                "fifa = Fifa.loc[Filter, [\"country_abrv\"]]\n",
                "uefa = np.unique(fifa.country_abrv)\n",
                "uefa_count = uefa.size\n",
                "y.append(uefa_count)\n",
                "\n",
                "print(y)"
            ]
        },
        {
            "cell_type": "code",
            "execution_count": 4,
            "metadata": {},
            "outputs": [
                {
                    "data": {
                        "image/png": "[encoded data removed]",
                        "text/plain": "\u003cFigure size 576x288 with 1 Axes\u003e"
                    },
                    "metadata": {
                        "needs_background": "light"
                    },
                    "output_type": "display_data"
                }
            ],
            "source": [
                "#make the plot larger\n",
                "plt.figure(figsize=(8,4))\n",
                "x = [\"AFC\", \"CAF\", \"CONCACAF\", \"CONMEBOL\", \"OFC\", \"UEFA\"]\n",
                "plt.bar(x,y)\n",
                "plt.xlabel(\"Confederations\")\n",
                "plt.ylabel(\"Number of Countries\")\n",
                "plt.title(\"Country Participation in FIFA Confederations between 2010-2020\")\n",
                "plt.show()"
            ]
        },
        {
            "attachments": {},
            "cell_type": "markdown",
            "metadata": {},
            "source": [
                "## Q2. [10 Points]\n",
                "* Add a column called `ranking` to the original table. This column gives the ranking of a country based on the total_points. A country with a higher total points value on a ranking date is ranked higher (a lower value). \n",
                "\n",
                "A toy example of conversion from points to ranking is as follows:\n",
                "\n",
                "|Country|Hypothetical total points|Hypothetical date|Hypothetical confederation|ranking|\n",
                "|---|---|---|---|---|\n",
                "|A|10|May 1, 2010|1|1|\n",
                "|B|8|May 1, 2010|1|2|\n",
                "|C|8|May 1, 2010|2|2|\n",
                "|D|7|May 1, 2010|2|4|\n",
                "|A|10|Jun 1, 2010|1|2|\n",
                "|B|12|Jun 1, 2010|1|1|\n",
                "|C|8|Jun 1, 2010|2|3|\n",
                "|D|8|Jun 1, 2010|2|3|\n",
                "\n",
                "[hint, you will find [rank](https://pandas.pydata.org/docs/reference/api/pandas.DataFrame.rank.html) method helpful.]\n",
                "\n",
                "* Sort updated the table based on\n",
                "\u003e* level 1: rank date: oldest to newest\n",
                "\u003e* level 2: ranking: lowest **value** to highest **value**\n",
                "\u003e* level 3: Country full name: ascending order \n",
                "* Modify the row labels to make sure it follows 0, 1, 2, ...\n",
                "* Show the table just by type the table name. Do not use print() function\n",
                "\n",
                "\n",
                ""
            ]
        },
        {
            "cell_type": "code",
            "execution_count": 5,
            "metadata": {},
            "outputs": [],
            "source": [
                "#rank_date to datetime\n",
                "replacex = lambda x: \"0\" + x[0][:]\n",
                "Fifa.rank_date = Fifa.rank_date.str.replace(r\"^\\d/\\d{1,2}/\\d{4}\", replacex, regex=True)\n",
                "replacex = lambda x: x[0][0:3] + \"0\" + x[0][3:]\n",
                "Fifa.rank_date = Fifa.rank_date.str.replace(r\"^\\d{2}/\\d/\\d{4}\", replacex, regex=True)\n",
                "Fifa.rank_date = pd.to_datetime(Fifa.rank_date, format=\"%m/%d/%Y\")"
            ]
        },
        {
            "cell_type": "code",
            "execution_count": 6,
            "metadata": {},
            "outputs": [
                {
                    "data": {
                        "text/html": "\u003cdiv\u003e\n\u003cstyle scoped\u003e\n    .dataframe tbody tr th:only-of-type {\n        vertical-align: middle;\n    }\n\n    .dataframe tbody tr th {\n        vertical-align: top;\n    }\n\n    .dataframe thead th {\n        text-align: right;\n    }\n\u003c/style\u003e\n\u003ctable border=\"1\" class=\"dataframe\"\u003e\n  \u003cthead\u003e\n    \u003ctr style=\"text-align: right;\"\u003e\n      \u003cth\u003e\u003c/th\u003e\n      \u003cth\u003eCountry\u003c/th\u003e\n      \u003cth\u003etotal points\u003c/th\u003e\n      \u003cth\u003edate\u003c/th\u003e\n      \u003cth\u003econfederation\u003c/th\u003e\n      \u003cth\u003eranking\u003c/th\u003e\n    \u003c/tr\u003e\n  \u003c/thead\u003e\n  \u003ctbody\u003e\n    \u003ctr\u003e\n      \u003cth\u003e0\u003c/th\u003e\n      \u003ctd\u003eSpain\u003c/td\u003e\n      \u003ctd\u003e1627\u003c/td\u003e\n      \u003ctd\u003eFeb 03, 2010\u003c/td\u003e\n      \u003ctd\u003eUEFA\u003c/td\u003e\n      \u003ctd\u003e1.0\u003c/td\u003e\n    \u003c/tr\u003e\n    \u003ctr\u003e\n      \u003cth\u003e1\u003c/th\u003e\n      \u003ctd\u003eBrazil\u003c/td\u003e\n      \u003ctd\u003e1568\u003c/td\u003e\n      \u003ctd\u003eFeb 03, 2010\u003c/td\u003e\n      \u003ctd\u003eCONMEBOL\u003c/td\u003e\n      \u003ctd\u003e2.0\u003c/td\u003e\n    \u003c/tr\u003e\n    \u003ctr\u003e\n      \u003cth\u003e2\u003c/th\u003e\n      \u003ctd\u003eNetherlands\u003c/td\u003e\n      \u003ctd\u003e1288\u003c/td\u003e\n      \u003ctd\u003eFeb 03, 2010\u003c/td\u003e\n      \u003ctd\u003eUEFA\u003c/td\u003e\n      \u003ctd\u003e3.0\u003c/td\u003e\n    \u003c/tr\u003e\n    \u003ctr\u003e\n      \u003cth\u003e3\u003c/th\u003e\n      \u003ctd\u003eItaly\u003c/td\u003e\n      \u003ctd\u003e1209\u003c/td\u003e\n      \u003ctd\u003eFeb 03, 2010\u003c/td\u003e\n      \u003ctd\u003eUEFA\u003c/td\u003e\n      \u003ctd\u003e4.0\u003c/td\u003e\n    \u003c/tr\u003e\n    \u003ctr\u003e\n      \u003cth\u003e4\u003c/th\u003e\n      \u003ctd\u003ePortugal\u003c/td\u003e\n      \u003ctd\u003e1176\u003c/td\u003e\n      \u003ctd\u003eFeb 03, 2010\u003c/td\u003e\n      \u003ctd\u003eUEFA\u003c/td\u003e\n      \u003ctd\u003e5.0\u003c/td\u003e\n    \u003c/tr\u003e\n    \u003ctr\u003e\n      \u003cth\u003e...\u003c/th\u003e\n      \u003ctd\u003e...\u003c/td\u003e\n      \u003ctd\u003e...\u003c/td\u003e\n      \u003ctd\u003e...\u003c/td\u003e\n      \u003ctd\u003e...\u003c/td\u003e\n      \u003ctd\u003e...\u003c/td\u003e\n    \u003c/tr\u003e\n    \u003ctr\u003e\n      \u003cth\u003e25740\u003c/th\u003e\n      \u003ctd\u003eSri Lanka\u003c/td\u003e\n      \u003ctd\u003e853\u003c/td\u003e\n      \u003ctd\u003eDec 10, 2020\u003c/td\u003e\n      \u003ctd\u003eAFC\u003c/td\u003e\n      \u003ctd\u003e206.0\u003c/td\u003e\n    \u003c/tr\u003e\n    \u003ctr\u003e\n      \u003cth\u003e25741\u003c/th\u003e\n      \u003ctd\u003eUS Virgin Islands\u003c/td\u003e\n      \u003ctd\u003e844\u003c/td\u003e\n      \u003ctd\u003eDec 10, 2020\u003c/td\u003e\n      \u003ctd\u003eCONCACAF\u003c/td\u003e\n      \u003ctd\u003e207.0\u003c/td\u003e\n    \u003c/tr\u003e\n    \u003ctr\u003e\n      \u003cth\u003e25742\u003c/th\u003e\n      \u003ctd\u003eBritish Virgin Islands\u003c/td\u003e\n      \u003ctd\u003e842\u003c/td\u003e\n      \u003ctd\u003eDec 10, 2020\u003c/td\u003e\n      \u003ctd\u003eCONCACAF\u003c/td\u003e\n      \u003ctd\u003e208.0\u003c/td\u003e\n    \u003c/tr\u003e\n    \u003ctr\u003e\n      \u003cth\u003e25743\u003c/th\u003e\n      \u003ctd\u003eAnguilla\u003c/td\u003e\n      \u003ctd\u003e821\u003c/td\u003e\n      \u003ctd\u003eDec 10, 2020\u003c/td\u003e\n      \u003ctd\u003eCONCACAF\u003c/td\u003e\n      \u003ctd\u003e209.0\u003c/td\u003e\n    \u003c/tr\u003e\n    \u003ctr\u003e\n      \u003cth\u003e25744\u003c/th\u003e\n      \u003ctd\u003eSan Marino\u003c/td\u003e\n      \u003ctd\u003e810\u003c/td\u003e\n      \u003ctd\u003eDec 10, 2020\u003c/td\u003e\n      \u003ctd\u003eUEFA\u003c/td\u003e\n      \u003ctd\u003e210.0\u003c/td\u003e\n    \u003c/tr\u003e\n  \u003c/tbody\u003e\n\u003c/table\u003e\n\u003cp\u003e25745 rows × 5 columns\u003c/p\u003e\n\u003c/div\u003e",
                        "text/plain": "                      Country  total points          date confederation  \\\n0                       Spain          1627  Feb 03, 2010          UEFA   \n1                      Brazil          1568  Feb 03, 2010      CONMEBOL   \n2                 Netherlands          1288  Feb 03, 2010          UEFA   \n3                       Italy          1209  Feb 03, 2010          UEFA   \n4                    Portugal          1176  Feb 03, 2010          UEFA   \n...                       ...           ...           ...           ...   \n25740               Sri Lanka           853  Dec 10, 2020           AFC   \n25741       US Virgin Islands           844  Dec 10, 2020      CONCACAF   \n25742  British Virgin Islands           842  Dec 10, 2020      CONCACAF   \n25743                Anguilla           821  Dec 10, 2020      CONCACAF   \n25744              San Marino           810  Dec 10, 2020          UEFA   \n\n       ranking  \n0          1.0  \n1          2.0  \n2          3.0  \n3          4.0  \n4          5.0  \n...        ...  \n25740    206.0  \n25741    207.0  \n25742    208.0  \n25743    209.0  \n25744    210.0  \n\n[25745 rows x 5 columns]"
                    },
                    "execution_count": 6,
                    "metadata": {},
                    "output_type": "execute_result"
                }
            ],
            "source": [
                "groupedby_date = Fifa.groupby(by=\"rank_date\")\n",
                "rank = groupedby_date.rank(method=\"min\", ascending=False)\n",
                "\n",
                "Fifa = Fifa.assign(rank=rank)\n",
                "Fifa.sort_values(by=[\"rank_date\",\"rank\",\"country_full\"], ascending=[True,True,True], inplace=True)\n",
                "\n",
                "fifa = Fifa.loc[:,[\"country_full\",\"total_points\",\"rank_date\",\"confederation\",\"rank\"]]\n",
                "fifa.rank_date = fifa.loc[:,\"rank_date\"].dt.strftime(\"%b %d, %Y\")\n",
                "\n",
                "fifa.reset_index(drop=True, inplace=True)\n",
                "fifa.columns = [\"Country\",\"total points\", \"date\", \"confederation\", \"ranking\"]\n",
                "\n",
                "fifa"
            ]
        },
        {
            "attachments": {},
            "cell_type": "markdown",
            "metadata": {},
            "source": [
                "## Q3. [12 Points]\n",
                "\n",
                "* Calculate the relationship between rank year and average rank for Spain. Here, rank year values are equal to $2010, 2011, 2012, \\dots$. The average rank is equal to the average of all the rankings observed in that year for Spain.\n",
                "* Visualize the relationship using a line plot with markers.  \n",
                "* In the same graph, add a line plot to present the information about Germany. Add legend, axis labels, and title to the graph."
            ]
        },
        {
            "cell_type": "code",
            "execution_count": 7,
            "metadata": {},
            "outputs": [],
            "source": [
                "#Spain\n",
                "Filter = (Fifa.country_full.values == \"Spain\")\n",
                "esp_avg_rank = Fifa.loc[Filter, [\"rank_date\",\"rank\"]]\n",
                "esp_avg_rank.rank_date = esp_avg_rank.loc[:,\"rank_date\"].dt.year\n",
                "esp_avg_rank = esp_avg_rank.groupby(by=\"rank_date\").mean()\n",
                "esp_avg_rank.reset_index(inplace=True)\n",
                "\n",
                "#Germany\n",
                "Filter = (Fifa.country_full.values == \"Germany\")\n",
                "deu_avg_rank = Fifa.loc[Filter, [\"rank_date\",\"rank\"]]\n",
                "deu_avg_rank.rank_date = deu_avg_rank.loc[:,\"rank_date\"].dt.year\n",
                "deu_avg_rank = deu_avg_rank.groupby(by=\"rank_date\").mean()\n",
                "deu_avg_rank.reset_index(inplace=True)"
            ]
        },
        {
            "cell_type": "code",
            "execution_count": 8,
            "metadata": {},
            "outputs": [
                {
                    "data": {
                        "image/png": "[encoded data removed]",
                        "text/plain": "\u003cFigure size 432x288 with 1 Axes\u003e"
                    },
                    "metadata": {
                        "needs_background": "light"
                    },
                    "output_type": "display_data"
                }
            ],
            "source": [
                "x1 = esp_avg_rank.rank_date.values \n",
                "y1 = esp_avg_rank[\"rank\"].values\n",
                "x2 = deu_avg_rank.rank_date.values \n",
                "y2 = deu_avg_rank[\"rank\"].values\n",
                "\n",
                "plt.plot(x1,y1,marker=\"o\",label=\"Spain\")\n",
                "plt.plot(x2,y2,marker=\"o\",label=\"Germany\")\n",
                "plt.xlabel(\"Rank Year\")\n",
                "plt.ylabel(\"Average Rank\")\n",
                "plt.title(\"Average Rank in Years from 2010-2020 (Spain v.s. Germany)\")\n",
                "plt.legend()\n",
                "plt.show()"
            ]
        },
        {
            "attachments": {},
            "cell_type": "markdown",
            "metadata": {},
            "source": [
                "## Q4. [13 Points]\n",
                "\n",
                "* Get all the total points data for the United States and save the values in an array.\n",
                "* Visualize the **normalized** histogram information when bins=15.\n",
                "* Print the height of the third bar (interval) based on `NumPy`.\n",
                "* Calculate the percentage of points falling below the mid-point of the third bar (interval).\n",
                ""
            ]
        },
        {
            "cell_type": "code",
            "execution_count": 9,
            "metadata": {},
            "outputs": [
                {
                    "data": {
                        "image/png": "[encoded data removed]",
                        "text/plain": "\u003cFigure size 432x288 with 1 Axes\u003e"
                    },
                    "metadata": {
                        "needs_background": "light"
                    },
                    "output_type": "display_data"
                }
            ],
            "source": [
                "Filter = (Fifa.country_full.values == \"USA\")\n",
                "US_points = Fifa.loc[Filter, \"total_points\"].values\n",
                "\n",
                "plt.hist(US_points, bins=15, density=True)\n",
                "plt.title(\"Distribution of US Total Points (Normalized)\")\n",
                "plt.xlabel(\"Total Points\")\n",
                "plt.ylabel(\"Density\")\n",
                "plt.show()"
            ]
        },
        {
            "cell_type": "code",
            "execution_count": 10,
            "metadata": {},
            "outputs": [
                {
                    "name": "stdout",
                    "output_type": "stream",
                    "text": "0.002769370759401023\n"
                }
            ],
            "source": [
                "#height 0f 3rd bar\n",
                "Density, Intervals = np.histogram(US_points,bins=15,density=True)\n",
                "print(Density[2])"
            ]
        },
        {
            "cell_type": "code",
            "execution_count": 11,
            "metadata": {},
            "outputs": [
                {
                    "name": "stdout",
                    "output_type": "stream",
                    "text": "51.261235625931064 %\n"
                }
            ],
            "source": [
                "#percentage of points falling below the mid-point of the third bar (interval)\n",
                "Count, Intervals = np.histogram(US_points,bins=15,density=False)\n",
                "midpoint = (np.diff(Intervals)[0]/2) + Intervals[2]\n",
                "Filter = (US_points \u003c midpoint)\n",
                "denom = np.sum(US_points)\n",
                "num = US_points[Filter]\n",
                "num = np.sum(num)\n",
                "print((num/denom * 100), \"%\")"
            ]
        },
        {
            "attachments": {},
            "cell_type": "markdown",
            "metadata": {},
            "source": [
                "## Q5 [15 Points]\n",
                "\n",
                "* Construct a table with the following 3 columns:\n",
                "\n",
                "|rank_date|SpainhigherthanGermany|GermanyhigherthanArgentina|\n",
                "|---|---|---|\n",
                "|2010-02-03|1|0|\n",
                "|2010-03-03|1|0|\n",
                "|...|...|...|\n",
                "|2020-12-10|1|1|\n",
                "\n",
                "For column 2, the value is 1 if Spain ranks strictly higher than Germany.\n",
                "\n",
                "For column 3, the value is 1 if Germany ranks strictly higher than Argentina.\n",
                "\n",
                "\n",
                "* Use the table to infer the probability of observing Spain ranks strictly higher than Germany at a random time\n",
                "* Use the table to infer the probability of observing Germany ranks strictly higher than Argentina at a random time\n",
                "* Use the table to infer the probability of observing Germany ranks strictly higher than Argentina a random time given Spain ranks strictly higher than Germany.\n",
                "* Use the table to infer the probability of observing Spain ranks strictly higher than Germany **and** Germany ranks strictly higher than Argentina at a random time\n",
                "\n",
                "* Use the table to infer the probability of observing Spain ranks strictly higher than Germany **or** Germany ranks strictly higher than Argentina at a random time\n",
                ""
            ]
        },
        {
            "cell_type": "code",
            "execution_count": 12,
            "metadata": {},
            "outputs": [
                {
                    "data": {
                        "text/html": "\u003cdiv\u003e\n\u003cstyle scoped\u003e\n    .dataframe tbody tr th:only-of-type {\n        vertical-align: middle;\n    }\n\n    .dataframe tbody tr th {\n        vertical-align: top;\n    }\n\n    .dataframe thead th {\n        text-align: right;\n    }\n\u003c/style\u003e\n\u003ctable border=\"1\" class=\"dataframe\"\u003e\n  \u003cthead\u003e\n    \u003ctr style=\"text-align: right;\"\u003e\n      \u003cth\u003e\u003c/th\u003e\n      \u003cth\u003erank_date\u003c/th\u003e\n      \u003cth\u003eSpainhigherthanGermany\u003c/th\u003e\n      \u003cth\u003eGermanyhigherthanArgentina\u003c/th\u003e\n    \u003c/tr\u003e\n  \u003c/thead\u003e\n  \u003ctbody\u003e\n    \u003ctr\u003e\n      \u003cth\u003e0\u003c/th\u003e\n      \u003ctd\u003e2010-02-03\u003c/td\u003e\n      \u003ctd\u003e0.0\u003c/td\u003e\n      \u003ctd\u003e0.0\u003c/td\u003e\n    \u003c/tr\u003e\n    \u003ctr\u003e\n      \u003cth\u003e1\u003c/th\u003e\n      \u003ctd\u003e2010-03-03\u003c/td\u003e\n      \u003ctd\u003e0.0\u003c/td\u003e\n      \u003ctd\u003e0.0\u003c/td\u003e\n    \u003c/tr\u003e\n    \u003ctr\u003e\n      \u003cth\u003e2\u003c/th\u003e\n      \u003ctd\u003e2010-03-31\u003c/td\u003e\n      \u003ctd\u003e0.0\u003c/td\u003e\n      \u003ctd\u003e0.0\u003c/td\u003e\n    \u003c/tr\u003e\n    \u003ctr\u003e\n      \u003cth\u003e3\u003c/th\u003e\n      \u003ctd\u003e2010-04-28\u003c/td\u003e\n      \u003ctd\u003e0.0\u003c/td\u003e\n      \u003ctd\u003e0.0\u003c/td\u003e\n    \u003c/tr\u003e\n    \u003ctr\u003e\n      \u003cth\u003e4\u003c/th\u003e\n      \u003ctd\u003e2010-05-26\u003c/td\u003e\n      \u003ctd\u003e0.0\u003c/td\u003e\n      \u003ctd\u003e0.0\u003c/td\u003e\n    \u003c/tr\u003e\n    \u003ctr\u003e\n      \u003cth\u003e...\u003c/th\u003e\n      \u003ctd\u003e...\u003c/td\u003e\n      \u003ctd\u003e...\u003c/td\u003e\n      \u003ctd\u003e...\u003c/td\u003e\n    \u003c/tr\u003e\n    \u003ctr\u003e\n      \u003cth\u003e118\u003c/th\u003e\n      \u003ctd\u003e2020-07-16\u003c/td\u003e\n      \u003ctd\u003e0.0\u003c/td\u003e\n      \u003ctd\u003e1.0\u003c/td\u003e\n    \u003c/tr\u003e\n    \u003ctr\u003e\n      \u003cth\u003e119\u003c/th\u003e\n      \u003ctd\u003e2020-09-17\u003c/td\u003e\n      \u003ctd\u003e0.0\u003c/td\u003e\n      \u003ctd\u003e1.0\u003c/td\u003e\n    \u003c/tr\u003e\n    \u003ctr\u003e\n      \u003cth\u003e120\u003c/th\u003e\n      \u003ctd\u003e2020-10-22\u003c/td\u003e\n      \u003ctd\u003e0.0\u003c/td\u003e\n      \u003ctd\u003e1.0\u003c/td\u003e\n    \u003c/tr\u003e\n    \u003ctr\u003e\n      \u003cth\u003e121\u003c/th\u003e\n      \u003ctd\u003e2020-11-26\u003c/td\u003e\n      \u003ctd\u003e0.0\u003c/td\u003e\n      \u003ctd\u003e1.0\u003c/td\u003e\n    \u003c/tr\u003e\n    \u003ctr\u003e\n      \u003cth\u003e122\u003c/th\u003e\n      \u003ctd\u003e2020-12-10\u003c/td\u003e\n      \u003ctd\u003e0.0\u003c/td\u003e\n      \u003ctd\u003e1.0\u003c/td\u003e\n    \u003c/tr\u003e\n  \u003c/tbody\u003e\n\u003c/table\u003e\n\u003cp\u003e123 rows × 3 columns\u003c/p\u003e\n\u003c/div\u003e",
                        "text/plain": "     rank_date  SpainhigherthanGermany  GermanyhigherthanArgentina\n0   2010-02-03                     0.0                         0.0\n1   2010-03-03                     0.0                         0.0\n2   2010-03-31                     0.0                         0.0\n3   2010-04-28                     0.0                         0.0\n4   2010-05-26                     0.0                         0.0\n..         ...                     ...                         ...\n118 2020-07-16                     0.0                         1.0\n119 2020-09-17                     0.0                         1.0\n120 2020-10-22                     0.0                         1.0\n121 2020-11-26                     0.0                         1.0\n122 2020-12-10                     0.0                         1.0\n\n[123 rows x 3 columns]"
                    },
                    "execution_count": 12,
                    "metadata": {},
                    "output_type": "execute_result"
                }
            ],
            "source": [
                "Filter1 = (Fifa.country_full.values == \"Spain\")\n",
                "Filter2 = (Fifa.country_full.values == \"Germany\")\n",
                "Filter3 = (Fifa.country_full.values == \"Argentina\")\n",
                "\n",
                "esp_rank = Fifa.loc[Filter1, [\"rank_date\",\"rank\"]]\n",
                "deu_rank = Fifa.loc[Filter2, [\"rank_date\",\"rank\"]]\n",
                "arg_rank = Fifa.loc[Filter3, [\"rank_date\",\"rank\"]]\n",
                "\n",
                "esp_rank_val = esp_rank[\"rank\"].values\n",
                "deu_rank_val = deu_rank[\"rank\"].values\n",
                "arg_rank_val = arg_rank[\"rank\"].values\n",
                "\n",
                "esp_bool = esp_rank_val \u003e deu_rank_val\n",
                "idx1 = np.where(esp_bool == True)\n",
                "idx0 = np.where(esp_bool == False)\n",
                "\n",
                "esp_rank_val[idx1] = 1\n",
                "esp_rank_val[idx0] = 0\n",
                "\n",
                "deu_bool = deu_rank_val \u003e arg_rank_val\n",
                "idx1 = np.where(deu_bool == True)\n",
                "idx0 = np.where(deu_bool == False)\n",
                "\n",
                "deu_rank_val[idx1] = 1\n",
                "deu_rank_val[idx0] = 0\n",
                "\n",
                "esp_rank.loc[:,\"rank\"] = esp_rank_val\n",
                "deu_rank.loc[:,\"rank\"] = deu_rank_val\n",
                "\n",
                "table = pd.merge(esp_rank, deu_rank, on=\"rank_date\")\n",
                "table.columns = [\"rank_date\", \"SpainhigherthanGermany\", \"GermanyhigherthanArgentina\"]\n",
                "table"
            ]
        },
        {
            "cell_type": "code",
            "execution_count": 13,
            "metadata": {},
            "outputs": [
                {
                    "name": "stdout",
                    "output_type": "stream",
                    "text": "0.36585365853658536\n"
                }
            ],
            "source": [
                "#probability of observing Spain ranks strictly higher than Germany at a random time\n",
                "sample_space = table.rank_date.size\n",
                "event1 = np.sum(table.SpainhigherthanGermany)\n",
                "pr_event1 = event1/sample_space\n",
                "print(pr_event1)"
            ]
        },
        {
            "cell_type": "code",
            "execution_count": 14,
            "metadata": {},
            "outputs": [
                {
                    "name": "stdout",
                    "output_type": "stream",
                    "text": "0.35772357723577236\n"
                }
            ],
            "source": [
                "#probability of observing Germany ranks strictly higher than Argentina at a random time\n",
                "sample_space = table.rank_date.size\n",
                "event2 = np.sum(table.GermanyhigherthanArgentina)\n",
                "pr_event2 = event2/sample_space\n",
                "print(pr_event2)"
            ]
        },
        {
            "cell_type": "code",
            "execution_count": 15,
            "metadata": {},
            "outputs": [
                {
                    "name": "stdout",
                    "output_type": "stream",
                    "text": "0.4222222222222223\n"
                }
            ],
            "source": [
                "#probability of observing Germany ranks strictly higher than Argentina a random time given Spain ranks strictly higher than Germany\n",
                "# P(G \u003e A | S \u003e G) = P((G \u003e A) AND (S \u003e G)) / P(S \u003e G)\n",
                "sample_space = table.rank_date.size\n",
                "Filter = (table.SpainhigherthanGermany.values == 1) \u0026 (table.GermanyhigherthanArgentina.values == 1)\n",
                "event3 = table[Filter].rank_date.size\n",
                "pr_event3 = event3/sample_space\n",
                "pr_event4 = pr_event3/pr_event1\n",
                "print(pr_event4)"
            ]
        },
        {
            "cell_type": "code",
            "execution_count": 16,
            "metadata": {},
            "outputs": [
                {
                    "name": "stdout",
                    "output_type": "stream",
                    "text": "0.15447154471544716\n"
                }
            ],
            "source": [
                "#probability of observing Spain ranks strictly higher than Germany and Germany ranks strictly higher than Argentina at a random time\n",
                "#P((G \u003e A) AND (S \u003e G))\n",
                "sample_space = table.rank_date.size\n",
                "sample_space = table.rank_date.size\n",
                "Filter = (table.SpainhigherthanGermany.values == 1) \u0026 (table.GermanyhigherthanArgentina.values == 1)\n",
                "event3 = table[Filter].rank_date.size\n",
                "pr_event3 = event3/sample_space\n",
                "print(pr_event3)"
            ]
        },
        {
            "cell_type": "code",
            "execution_count": 17,
            "metadata": {},
            "outputs": [
                {
                    "name": "stdout",
                    "output_type": "stream",
                    "text": "0.5691056910569106\n"
                }
            ],
            "source": [
                "pr_event5 = pr_event1 + pr_event2 - pr_event3\n",
                "print(pr_event5)"
            ]
        }
    ]
}
