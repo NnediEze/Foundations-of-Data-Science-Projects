{
 "cells": [
  {
   "cell_type": "code",
   "execution_count": 1,
   "metadata": {},
   "outputs": [],
   "source": [
    "import numpy as np"
   ]
  },
  {
   "cell_type": "markdown",
   "metadata": {},
   "source": [
    "## Q1. [4 points]\n",
    "\n",
    "Assume we have the following number\n",
    "\n",
    "$2^{60}$ \n",
    "\n",
    " \n",
    "* Use a list `L1` to store this value as an `int` value. (This list has one element)\n",
    "* This element in `L1` has two indices (one non-negative and one negative). Show how to use each index to check the data type of the element in `L1`.\n",
    "* Based on list indexing and L1, compute $2^{60} \\times 2^{60}$, report the value. \n"
   ]
  },
  {
   "cell_type": "code",
   "execution_count": 2,
   "metadata": {},
   "outputs": [],
   "source": [
    "L1 = [2**60]"
   ]
  },
  {
   "cell_type": "code",
   "execution_count": 3,
   "metadata": {},
   "outputs": [
    {
     "data": {
      "text/plain": [
       "(int, int)"
      ]
     },
     "execution_count": 3,
     "metadata": {},
     "output_type": "execute_result"
    }
   ],
   "source": [
    "type(L1[0]),type(L1[-1])"
   ]
  },
  {
   "cell_type": "code",
   "execution_count": 4,
   "metadata": {},
   "outputs": [
    {
     "name": "stdout",
     "output_type": "stream",
     "text": [
      "2^60 * 2^60 = 1329227995784915872903807060280344576\n"
     ]
    }
   ],
   "source": [
    "print(\"2^60 * 2^60 =\", L1[0] * L1[0])"
   ]
  },
  {
   "cell_type": "markdown",
   "metadata": {},
   "source": [
    "## Q2. [6 points]\n",
    "\n",
    "Assume we have the following number\n",
    "\n",
    "$2^{60}$ \n",
    "\n",
    " \n",
    "* Use an array `A1` to store this value as `np.int64` type. (This array has one element)\n",
    "* This element in `A1` has two indices (one non-negative and one negative). Show how to use each index to check the data type of the element in `A1`.\n",
    "* Based on array operations (without using indexing), compute $2^{60} \\times 2^{60}$, report the value. \n",
    "* Do you see the same results in Q1 and Q2 for $2^{60} \\times 2^{60}$? Explain why."
   ]
  },
  {
   "cell_type": "code",
   "execution_count": 5,
   "metadata": {},
   "outputs": [],
   "source": [
    "A1 = np.array([2**60])"
   ]
  },
  {
   "cell_type": "code",
   "execution_count": 6,
   "metadata": {},
   "outputs": [
    {
     "data": {
      "text/plain": [
       "(numpy.int64, numpy.int64)"
      ]
     },
     "execution_count": 6,
     "metadata": {},
     "output_type": "execute_result"
    }
   ],
   "source": [
    "type(A1[0]),type(A1[-1])"
   ]
  },
  {
   "cell_type": "code",
   "execution_count": 7,
   "metadata": {},
   "outputs": [
    {
     "name": "stdout",
     "output_type": "stream",
     "text": [
      "2^60 * 2^60 = 0\n"
     ]
    },
    {
     "name": "stderr",
     "output_type": "stream",
     "text": [
      "<ipython-input-7-39fbd3545157>:1: RuntimeWarning: overflow encountered in long_scalars\n",
      "  print(\"2^60 * 2^60 =\", A1[0] * A1[0])\n",
      "<ipython-input-7-39fbd3545157>:2: RuntimeWarning: overflow encountered in long_scalars\n",
      "  (A1[0] * A1[0]) == (L1[0] * L1[0])\n"
     ]
    },
    {
     "data": {
      "text/plain": [
       "False"
      ]
     },
     "execution_count": 7,
     "metadata": {},
     "output_type": "execute_result"
    }
   ],
   "source": [
    "print(\"2^60 * 2^60 =\", A1[0] * A1[0])\n",
    "(A1[0] * A1[0]) == (L1[0] * L1[0])"
   ]
  },
  {
   "cell_type": "markdown",
   "metadata": {},
   "source": [
    "**Double click the next cell and edit your answer to the last step**"
   ]
  },
  {
   "cell_type": "markdown",
   "metadata": {},
   "source": [
    "Answer: No, the comparison operater returned false so the results are not the same. This is because the numpy.int64 data type can only store up to a 64-bits or at most the value $2^{63}$. The numpy array was initialized with the value $2^{60}$, which is less than $2^{63}$, so numpy classifies this value as type numpy.int.64 and initializes the A1 array to only hold values of numpy.int64. The product of $2^{60} \\times 2^{60} (2^{120})$ is greater than $2^{63}$, so the bit representation is too big for the A1 array. This causes an overflow error and python returns 0."
   ]
  },
  {
   "cell_type": "markdown",
   "metadata": {},
   "source": [
    "# Q3. [5 points]\n",
    "\n",
    "Assume we have the following number\n",
    "\n",
    "$2^{60}$ \n",
    "\n",
    " \n",
    "* Use an array `A2` to store this value as `np.float64` type. (This array has one element)\n",
    "* Based on array operations (without using indexing), compute $2^{60} \\times 2^{60}$, report the value. \n",
    "* Do you see the same results in Q1 and Q3 for $2^{60} \\times 2^{60}$? Explain why."
   ]
  },
  {
   "cell_type": "code",
   "execution_count": 8,
   "metadata": {},
   "outputs": [
    {
     "data": {
      "text/plain": [
       "numpy.float64"
      ]
     },
     "execution_count": 8,
     "metadata": {},
     "output_type": "execute_result"
    }
   ],
   "source": [
    "A2 = np.array([2**60],dtype = np.float64)\n",
    "type(A2[0])"
   ]
  },
  {
   "cell_type": "code",
   "execution_count": 9,
   "metadata": {
    "scrolled": true
   },
   "outputs": [
    {
     "name": "stdout",
     "output_type": "stream",
     "text": [
      "2^60 * 2^60 = 1.329227995784916e+36\n"
     ]
    },
    {
     "data": {
      "text/plain": [
       "True"
      ]
     },
     "execution_count": 9,
     "metadata": {},
     "output_type": "execute_result"
    }
   ],
   "source": [
    "print(\"2^60 * 2^60 =\", A2[0] * A2[0])\n",
    "(A2[0] * A2[0]) == (L1[0] * L1[0])"
   ]
  },
  {
   "cell_type": "code",
   "execution_count": null,
   "metadata": {},
   "outputs": [],
   "source": []
  },
  {
   "cell_type": "markdown",
   "metadata": {},
   "source": [
    "**Double click the next cell and edit your answer to the last step**"
   ]
  },
  {
   "cell_type": "markdown",
   "metadata": {},
   "source": [
    "Answer: Yes, they are the same because the comparison operator returned true. This is because the np.float64 can store a wide range of values, at most the number $1.79769 \\times 10^{308}$ specifically, and the product of $2^{60} \\times 2^{60} (2^{120})$ is within that range."
   ]
  }
 ],
 "metadata": {
  "kernelspec": {
   "display_name": "Python 3",
   "language": "python",
   "name": "python3"
  },
  "language_info": {
   "codemirror_mode": {
    "name": "ipython",
    "version": 3
   },
   "file_extension": ".py",
   "mimetype": "text/x-python",
   "name": "python",
   "nbconvert_exporter": "python",
   "pygments_lexer": "ipython3",
   "version": "3.9.1"
  }
 },
 "nbformat": 4,
 "nbformat_minor": 4
}
