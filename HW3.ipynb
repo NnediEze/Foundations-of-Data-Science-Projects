{
    "metadata": {
        "kernelspec": {
            "name": "python3",
            "display_name": "Python 3",
            "language": "python"
        }
    },
    "nbformat": 4,
    "nbformat_minor": 4,
    "cells": [
        {
            "cell_type": "code",
            "execution_count": 2,
            "metadata": {},
            "outputs": [],
            "source": [
                "import numpy as np\n",
                "import pandas as pd"
            ]
        },
        {
            "attachments": {},
            "cell_type": "markdown",
            "metadata": {},
            "source": [
                "## Setting\n",
                "\n",
                "The dataset we work with for the second homework contains the information of  a video game. \n",
                "\n",
                "\n",
                "\u003cimg src=\"https://http2.mlstatic.com/poster-pokemon-full-hd-42x29cm-frete-gratis-D_NQ_NP_752705-MLB25053489227_092016-F.jpg\" alt=\"Italian Trulli\" width=\"500\" height=\"300\"\u003e\n",
                "\n",
                "Pokémon is a very popular video game, in which the trainer catches pokemon and use them for battling. A pokémon has the following properties:\n",
                "\n",
                "* Each Pokémon has a name and pokedex. A Pokémon belongs to at least 1 and at most 2 Pokémon types. If a Pokemon has Type 2=NaN (`np.nan`), this pokemon belongs to only 1 type.\n",
                "* There are different stats to measure the combat power of a Pokémon, which include HP, Attack, Defense, Special Attack Strength, Special Defensive Strength, and Speed. \n",
                "* Pokémon are usually released in batches. Thus, they belong to different generations.\n",
                "* A Pokémon can either be a regular Pokémon and legendary Pokémon. \n",
                "\n",
                "\n",
                "\n",
                "|Variable| Description|\n",
                "|---|---|\n",
                "|PokeDex |PokeDex index number|\n",
                "| Name | Name of the Pokemon  |  \n",
                "| Type 1 | Type of pokemon  |  \n",
                "| Type 2 | Other Type of Pokemon  |  \n",
                "| HP |  Hit Points  |  \n",
                "| Attack |  Attack Strength  |  \n",
                "| Defense |  Defensive Strength  |  \n",
                "| Sp_Atk |  Special Attack Strength  |  \n",
                "| Sp_Def |  Special Defensive Strength  |  \n",
                "| Speed | Speed  |  \n",
                "| Generation | Number of generation  |  \n",
                "| Legendary |  True if Legendary Pokemon False if not | "
            ]
        },
        {
            "cell_type": "code",
            "execution_count": 3,
            "metadata": {},
            "outputs": [
                {
                    "data": {
                        "text/html": "\u003cdiv\u003e\n\u003cstyle scoped\u003e\n    .dataframe tbody tr th:only-of-type {\n        vertical-align: middle;\n    }\n\n    .dataframe tbody tr th {\n        vertical-align: top;\n    }\n\n    .dataframe thead th {\n        text-align: right;\n    }\n\u003c/style\u003e\n\u003ctable border=\"1\" class=\"dataframe\"\u003e\n  \u003cthead\u003e\n    \u003ctr style=\"text-align: right;\"\u003e\n      \u003cth\u003e\u003c/th\u003e\n      \u003cth\u003ePokeDex\u003c/th\u003e\n      \u003cth\u003eName\u003c/th\u003e\n      \u003cth\u003eType_1\u003c/th\u003e\n      \u003cth\u003eType_2\u003c/th\u003e\n      \u003cth\u003eHP\u003c/th\u003e\n      \u003cth\u003eAttack\u003c/th\u003e\n      \u003cth\u003eDefense\u003c/th\u003e\n      \u003cth\u003eSp_Atk\u003c/th\u003e\n      \u003cth\u003eSp_Def\u003c/th\u003e\n      \u003cth\u003eSpeed\u003c/th\u003e\n      \u003cth\u003eGeneration\u003c/th\u003e\n      \u003cth\u003eLegendary\u003c/th\u003e\n    \u003c/tr\u003e\n  \u003c/thead\u003e\n  \u003ctbody\u003e\n    \u003ctr\u003e\n      \u003cth\u003e0\u003c/th\u003e\n      \u003ctd\u003e1\u003c/td\u003e\n      \u003ctd\u003eBulbasaur\u003c/td\u003e\n      \u003ctd\u003eGrass\u003c/td\u003e\n      \u003ctd\u003ePoison\u003c/td\u003e\n      \u003ctd\u003e45\u003c/td\u003e\n      \u003ctd\u003e49\u003c/td\u003e\n      \u003ctd\u003e49\u003c/td\u003e\n      \u003ctd\u003e65\u003c/td\u003e\n      \u003ctd\u003e65\u003c/td\u003e\n      \u003ctd\u003e45\u003c/td\u003e\n      \u003ctd\u003e1\u003c/td\u003e\n      \u003ctd\u003eFalse\u003c/td\u003e\n    \u003c/tr\u003e\n    \u003ctr\u003e\n      \u003cth\u003e1\u003c/th\u003e\n      \u003ctd\u003e2\u003c/td\u003e\n      \u003ctd\u003eIvysaur\u003c/td\u003e\n      \u003ctd\u003eGrass\u003c/td\u003e\n      \u003ctd\u003ePoison\u003c/td\u003e\n      \u003ctd\u003e60\u003c/td\u003e\n      \u003ctd\u003e62\u003c/td\u003e\n      \u003ctd\u003e63\u003c/td\u003e\n      \u003ctd\u003e80\u003c/td\u003e\n      \u003ctd\u003e80\u003c/td\u003e\n      \u003ctd\u003e60\u003c/td\u003e\n      \u003ctd\u003e1\u003c/td\u003e\n      \u003ctd\u003eFalse\u003c/td\u003e\n    \u003c/tr\u003e\n    \u003ctr\u003e\n      \u003cth\u003e2\u003c/th\u003e\n      \u003ctd\u003e3\u003c/td\u003e\n      \u003ctd\u003eVenusaur\u003c/td\u003e\n      \u003ctd\u003eGrass\u003c/td\u003e\n      \u003ctd\u003ePoison\u003c/td\u003e\n      \u003ctd\u003e80\u003c/td\u003e\n      \u003ctd\u003e82\u003c/td\u003e\n      \u003ctd\u003e83\u003c/td\u003e\n      \u003ctd\u003e100\u003c/td\u003e\n      \u003ctd\u003e100\u003c/td\u003e\n      \u003ctd\u003e80\u003c/td\u003e\n      \u003ctd\u003e1\u003c/td\u003e\n      \u003ctd\u003eFalse\u003c/td\u003e\n    \u003c/tr\u003e\n    \u003ctr\u003e\n      \u003cth\u003e3\u003c/th\u003e\n      \u003ctd\u003e4\u003c/td\u003e\n      \u003ctd\u003eCharmander\u003c/td\u003e\n      \u003ctd\u003eFire\u003c/td\u003e\n      \u003ctd\u003eNaN\u003c/td\u003e\n      \u003ctd\u003e39\u003c/td\u003e\n      \u003ctd\u003e52\u003c/td\u003e\n      \u003ctd\u003e43\u003c/td\u003e\n      \u003ctd\u003e60\u003c/td\u003e\n      \u003ctd\u003e50\u003c/td\u003e\n      \u003ctd\u003e65\u003c/td\u003e\n      \u003ctd\u003e1\u003c/td\u003e\n      \u003ctd\u003eFalse\u003c/td\u003e\n    \u003c/tr\u003e\n    \u003ctr\u003e\n      \u003cth\u003e4\u003c/th\u003e\n      \u003ctd\u003e5\u003c/td\u003e\n      \u003ctd\u003eCharmeleon\u003c/td\u003e\n      \u003ctd\u003eFire\u003c/td\u003e\n      \u003ctd\u003eNaN\u003c/td\u003e\n      \u003ctd\u003e58\u003c/td\u003e\n      \u003ctd\u003e64\u003c/td\u003e\n      \u003ctd\u003e58\u003c/td\u003e\n      \u003ctd\u003e80\u003c/td\u003e\n      \u003ctd\u003e65\u003c/td\u003e\n      \u003ctd\u003e80\u003c/td\u003e\n      \u003ctd\u003e1\u003c/td\u003e\n      \u003ctd\u003eFalse\u003c/td\u003e\n    \u003c/tr\u003e\n    \u003ctr\u003e\n      \u003cth\u003e...\u003c/th\u003e\n      \u003ctd\u003e...\u003c/td\u003e\n      \u003ctd\u003e...\u003c/td\u003e\n      \u003ctd\u003e...\u003c/td\u003e\n      \u003ctd\u003e...\u003c/td\u003e\n      \u003ctd\u003e...\u003c/td\u003e\n      \u003ctd\u003e...\u003c/td\u003e\n      \u003ctd\u003e...\u003c/td\u003e\n      \u003ctd\u003e...\u003c/td\u003e\n      \u003ctd\u003e...\u003c/td\u003e\n      \u003ctd\u003e...\u003c/td\u003e\n      \u003ctd\u003e...\u003c/td\u003e\n      \u003ctd\u003e...\u003c/td\u003e\n    \u003c/tr\u003e\n    \u003ctr\u003e\n      \u003cth\u003e716\u003c/th\u003e\n      \u003ctd\u003e717\u003c/td\u003e\n      \u003ctd\u003eYveltal\u003c/td\u003e\n      \u003ctd\u003eDark\u003c/td\u003e\n      \u003ctd\u003eFlying\u003c/td\u003e\n      \u003ctd\u003e126\u003c/td\u003e\n      \u003ctd\u003e131\u003c/td\u003e\n      \u003ctd\u003e95\u003c/td\u003e\n      \u003ctd\u003e131\u003c/td\u003e\n      \u003ctd\u003e98\u003c/td\u003e\n      \u003ctd\u003e99\u003c/td\u003e\n      \u003ctd\u003e6\u003c/td\u003e\n      \u003ctd\u003eTrue\u003c/td\u003e\n    \u003c/tr\u003e\n    \u003ctr\u003e\n      \u003cth\u003e717\u003c/th\u003e\n      \u003ctd\u003e718\u003c/td\u003e\n      \u003ctd\u003eZygarde50% Forme\u003c/td\u003e\n      \u003ctd\u003eDragon\u003c/td\u003e\n      \u003ctd\u003eGround\u003c/td\u003e\n      \u003ctd\u003e108\u003c/td\u003e\n      \u003ctd\u003e100\u003c/td\u003e\n      \u003ctd\u003e121\u003c/td\u003e\n      \u003ctd\u003e81\u003c/td\u003e\n      \u003ctd\u003e95\u003c/td\u003e\n      \u003ctd\u003e95\u003c/td\u003e\n      \u003ctd\u003e6\u003c/td\u003e\n      \u003ctd\u003eTrue\u003c/td\u003e\n    \u003c/tr\u003e\n    \u003ctr\u003e\n      \u003cth\u003e718\u003c/th\u003e\n      \u003ctd\u003e719\u003c/td\u003e\n      \u003ctd\u003eDiancie\u003c/td\u003e\n      \u003ctd\u003eRock\u003c/td\u003e\n      \u003ctd\u003eFairy\u003c/td\u003e\n      \u003ctd\u003e50\u003c/td\u003e\n      \u003ctd\u003e100\u003c/td\u003e\n      \u003ctd\u003e150\u003c/td\u003e\n      \u003ctd\u003e100\u003c/td\u003e\n      \u003ctd\u003e150\u003c/td\u003e\n      \u003ctd\u003e50\u003c/td\u003e\n      \u003ctd\u003e6\u003c/td\u003e\n      \u003ctd\u003eTrue\u003c/td\u003e\n    \u003c/tr\u003e\n    \u003ctr\u003e\n      \u003cth\u003e719\u003c/th\u003e\n      \u003ctd\u003e720\u003c/td\u003e\n      \u003ctd\u003eHoopaHoopa Confined\u003c/td\u003e\n      \u003ctd\u003ePsychic\u003c/td\u003e\n      \u003ctd\u003eGhost\u003c/td\u003e\n      \u003ctd\u003e80\u003c/td\u003e\n      \u003ctd\u003e110\u003c/td\u003e\n      \u003ctd\u003e60\u003c/td\u003e\n      \u003ctd\u003e150\u003c/td\u003e\n      \u003ctd\u003e130\u003c/td\u003e\n      \u003ctd\u003e70\u003c/td\u003e\n      \u003ctd\u003e6\u003c/td\u003e\n      \u003ctd\u003eTrue\u003c/td\u003e\n    \u003c/tr\u003e\n    \u003ctr\u003e\n      \u003cth\u003e720\u003c/th\u003e\n      \u003ctd\u003e721\u003c/td\u003e\n      \u003ctd\u003eVolcanion\u003c/td\u003e\n      \u003ctd\u003eFire\u003c/td\u003e\n      \u003ctd\u003eWater\u003c/td\u003e\n      \u003ctd\u003e80\u003c/td\u003e\n      \u003ctd\u003e110\u003c/td\u003e\n      \u003ctd\u003e120\u003c/td\u003e\n      \u003ctd\u003e130\u003c/td\u003e\n      \u003ctd\u003e90\u003c/td\u003e\n      \u003ctd\u003e70\u003c/td\u003e\n      \u003ctd\u003e6\u003c/td\u003e\n      \u003ctd\u003eTrue\u003c/td\u003e\n    \u003c/tr\u003e\n  \u003c/tbody\u003e\n\u003c/table\u003e\n\u003cp\u003e721 rows × 12 columns\u003c/p\u003e\n\u003c/div\u003e",
                        "text/plain": "     PokeDex                 Name   Type_1  Type_2   HP  Attack  Defense  \\\n0          1            Bulbasaur    Grass  Poison   45      49       49   \n1          2              Ivysaur    Grass  Poison   60      62       63   \n2          3             Venusaur    Grass  Poison   80      82       83   \n3          4           Charmander     Fire     NaN   39      52       43   \n4          5           Charmeleon     Fire     NaN   58      64       58   \n..       ...                  ...      ...     ...  ...     ...      ...   \n716      717              Yveltal     Dark  Flying  126     131       95   \n717      718     Zygarde50% Forme   Dragon  Ground  108     100      121   \n718      719              Diancie     Rock   Fairy   50     100      150   \n719      720  HoopaHoopa Confined  Psychic   Ghost   80     110       60   \n720      721            Volcanion     Fire   Water   80     110      120   \n\n     Sp_Atk  Sp_Def  Speed  Generation  Legendary  \n0        65      65     45           1      False  \n1        80      80     60           1      False  \n2       100     100     80           1      False  \n3        60      50     65           1      False  \n4        80      65     80           1      False  \n..      ...     ...    ...         ...        ...  \n716     131      98     99           6       True  \n717      81      95     95           6       True  \n718     100     150     50           6       True  \n719     150     130     70           6       True  \n720     130      90     70           6       True  \n\n[721 rows x 12 columns]"
                    },
                    "execution_count": 3,
                    "metadata": {},
                    "output_type": "execute_result"
                }
            ],
            "source": [
                "pokemon=pd.read_csv(\"pokemon.csv\")\n",
                "pokemon\n",
                ""
            ]
        },
        {
            "attachments": {},
            "cell_type": "markdown",
            "metadata": {},
            "source": [
                "## Q1. [5 Points]\n",
                "Create a table named `pokemon_legend24`. This table should have the four columns that include the following information for all the **legendary** Pokémon belonging to **the second generation** or **the fourth generation**.\n",
                "\n",
                "* Name\n",
                "* Type_1\n",
                "* Type_2\n",
                "* Generation\n",
                "\n",
                "Do not change row labels."
            ]
        },
        {
            "cell_type": "code",
            "execution_count": 4,
            "metadata": {},
            "outputs": [
                {
                    "data": {
                        "text/html": "\u003cdiv\u003e\n\u003cstyle scoped\u003e\n    .dataframe tbody tr th:only-of-type {\n        vertical-align: middle;\n    }\n\n    .dataframe tbody tr th {\n        vertical-align: top;\n    }\n\n    .dataframe thead th {\n        text-align: right;\n    }\n\u003c/style\u003e\n\u003ctable border=\"1\" class=\"dataframe\"\u003e\n  \u003cthead\u003e\n    \u003ctr style=\"text-align: right;\"\u003e\n      \u003cth\u003e\u003c/th\u003e\n      \u003cth\u003eName\u003c/th\u003e\n      \u003cth\u003eType_1\u003c/th\u003e\n      \u003cth\u003eType_2\u003c/th\u003e\n      \u003cth\u003eGeneration\u003c/th\u003e\n    \u003c/tr\u003e\n  \u003c/thead\u003e\n  \u003ctbody\u003e\n    \u003ctr\u003e\n      \u003cth\u003e242\u003c/th\u003e\n      \u003ctd\u003eRaikou\u003c/td\u003e\n      \u003ctd\u003eElectric\u003c/td\u003e\n      \u003ctd\u003eNaN\u003c/td\u003e\n      \u003ctd\u003e2\u003c/td\u003e\n    \u003c/tr\u003e\n    \u003ctr\u003e\n      \u003cth\u003e243\u003c/th\u003e\n      \u003ctd\u003eEntei\u003c/td\u003e\n      \u003ctd\u003eFire\u003c/td\u003e\n      \u003ctd\u003eNaN\u003c/td\u003e\n      \u003ctd\u003e2\u003c/td\u003e\n    \u003c/tr\u003e\n    \u003ctr\u003e\n      \u003cth\u003e244\u003c/th\u003e\n      \u003ctd\u003eSuicune\u003c/td\u003e\n      \u003ctd\u003eWater\u003c/td\u003e\n      \u003ctd\u003eNaN\u003c/td\u003e\n      \u003ctd\u003e2\u003c/td\u003e\n    \u003c/tr\u003e\n    \u003ctr\u003e\n      \u003cth\u003e248\u003c/th\u003e\n      \u003ctd\u003eLugia\u003c/td\u003e\n      \u003ctd\u003ePsychic\u003c/td\u003e\n      \u003ctd\u003eFlying\u003c/td\u003e\n      \u003ctd\u003e2\u003c/td\u003e\n    \u003c/tr\u003e\n    \u003ctr\u003e\n      \u003cth\u003e249\u003c/th\u003e\n      \u003ctd\u003eHo-oh\u003c/td\u003e\n      \u003ctd\u003eFire\u003c/td\u003e\n      \u003ctd\u003eFlying\u003c/td\u003e\n      \u003ctd\u003e2\u003c/td\u003e\n    \u003c/tr\u003e\n    \u003ctr\u003e\n      \u003cth\u003e479\u003c/th\u003e\n      \u003ctd\u003eUxie\u003c/td\u003e\n      \u003ctd\u003ePsychic\u003c/td\u003e\n      \u003ctd\u003eNaN\u003c/td\u003e\n      \u003ctd\u003e4\u003c/td\u003e\n    \u003c/tr\u003e\n    \u003ctr\u003e\n      \u003cth\u003e480\u003c/th\u003e\n      \u003ctd\u003eMesprit\u003c/td\u003e\n      \u003ctd\u003ePsychic\u003c/td\u003e\n      \u003ctd\u003eNaN\u003c/td\u003e\n      \u003ctd\u003e4\u003c/td\u003e\n    \u003c/tr\u003e\n    \u003ctr\u003e\n      \u003cth\u003e481\u003c/th\u003e\n      \u003ctd\u003eAzelf\u003c/td\u003e\n      \u003ctd\u003ePsychic\u003c/td\u003e\n      \u003ctd\u003eNaN\u003c/td\u003e\n      \u003ctd\u003e4\u003c/td\u003e\n    \u003c/tr\u003e\n    \u003ctr\u003e\n      \u003cth\u003e482\u003c/th\u003e\n      \u003ctd\u003eDialga\u003c/td\u003e\n      \u003ctd\u003eSteel\u003c/td\u003e\n      \u003ctd\u003eDragon\u003c/td\u003e\n      \u003ctd\u003e4\u003c/td\u003e\n    \u003c/tr\u003e\n    \u003ctr\u003e\n      \u003cth\u003e483\u003c/th\u003e\n      \u003ctd\u003ePalkia\u003c/td\u003e\n      \u003ctd\u003eWater\u003c/td\u003e\n      \u003ctd\u003eDragon\u003c/td\u003e\n      \u003ctd\u003e4\u003c/td\u003e\n    \u003c/tr\u003e\n    \u003ctr\u003e\n      \u003cth\u003e484\u003c/th\u003e\n      \u003ctd\u003eHeatran\u003c/td\u003e\n      \u003ctd\u003eFire\u003c/td\u003e\n      \u003ctd\u003eSteel\u003c/td\u003e\n      \u003ctd\u003e4\u003c/td\u003e\n    \u003c/tr\u003e\n    \u003ctr\u003e\n      \u003cth\u003e485\u003c/th\u003e\n      \u003ctd\u003eRegigigas\u003c/td\u003e\n      \u003ctd\u003eNormal\u003c/td\u003e\n      \u003ctd\u003eNaN\u003c/td\u003e\n      \u003ctd\u003e4\u003c/td\u003e\n    \u003c/tr\u003e\n    \u003ctr\u003e\n      \u003cth\u003e486\u003c/th\u003e\n      \u003ctd\u003eGiratinaAltered Forme\u003c/td\u003e\n      \u003ctd\u003eGhost\u003c/td\u003e\n      \u003ctd\u003eDragon\u003c/td\u003e\n      \u003ctd\u003e4\u003c/td\u003e\n    \u003c/tr\u003e\n    \u003ctr\u003e\n      \u003cth\u003e490\u003c/th\u003e\n      \u003ctd\u003eDarkrai\u003c/td\u003e\n      \u003ctd\u003eDark\u003c/td\u003e\n      \u003ctd\u003eNaN\u003c/td\u003e\n      \u003ctd\u003e4\u003c/td\u003e\n    \u003c/tr\u003e\n    \u003ctr\u003e\n      \u003cth\u003e491\u003c/th\u003e\n      \u003ctd\u003eShayminLand Forme\u003c/td\u003e\n      \u003ctd\u003eGrass\u003c/td\u003e\n      \u003ctd\u003eNaN\u003c/td\u003e\n      \u003ctd\u003e4\u003c/td\u003e\n    \u003c/tr\u003e\n    \u003ctr\u003e\n      \u003cth\u003e492\u003c/th\u003e\n      \u003ctd\u003eArceus\u003c/td\u003e\n      \u003ctd\u003eNormal\u003c/td\u003e\n      \u003ctd\u003eNaN\u003c/td\u003e\n      \u003ctd\u003e4\u003c/td\u003e\n    \u003c/tr\u003e\n  \u003c/tbody\u003e\n\u003c/table\u003e\n\u003c/div\u003e",
                        "text/plain": "                      Name    Type_1  Type_2  Generation\n242                 Raikou  Electric     NaN           2\n243                  Entei      Fire     NaN           2\n244                Suicune     Water     NaN           2\n248                  Lugia   Psychic  Flying           2\n249                  Ho-oh      Fire  Flying           2\n479                   Uxie   Psychic     NaN           4\n480                Mesprit   Psychic     NaN           4\n481                  Azelf   Psychic     NaN           4\n482                 Dialga     Steel  Dragon           4\n483                 Palkia     Water  Dragon           4\n484                Heatran      Fire   Steel           4\n485              Regigigas    Normal     NaN           4\n486  GiratinaAltered Forme     Ghost  Dragon           4\n490                Darkrai      Dark     NaN           4\n491      ShayminLand Forme     Grass     NaN           4\n492                 Arceus    Normal     NaN           4"
                    },
                    "execution_count": 4,
                    "metadata": {},
                    "output_type": "execute_result"
                }
            ],
            "source": [
                "generation = pokemon[\"Generation\"].values\n",
                "legendary = pokemon[\"Legendary\"].values\n",
                "Filter = ((generation == 2) | (generation == 4)) * (legendary == True)\n",
                "pokemon_legend24 = pokemon.loc[Filter, [\"Name\", \"Type_1\", \"Type_2\", \"Generation\"]]\n",
                "pokemon_legend24"
            ]
        },
        {
            "attachments": {},
            "cell_type": "markdown",
            "metadata": {},
            "source": [
                "## Q2. [6 Points]\n",
                "With help of melting (unpivoting), create a table `pokemon_legend24_long`. This table should include four columns presenting the following information for Pokémon included in table `pokemon_legend24`.\n",
                "\n",
                "|ColumnName|Description|\n",
                "|---|---|\n",
                "|Name|name of a Pokémon|\n",
                "|Generation|2 or 4 depending on which generation the Pokémon belongs to|\n",
                "|Type12|\"Type_1\" or \"Type_2\"|\n",
                "|TypeValue|type 1 value or type 2 value of the Pokémon| \n",
                "\n",
                "\n",
                "For your melting function, set `id_vars=[\"Name\",\"Generation\"]` to use the combination of `Name` and `Generation` as the ID. \n",
                "\n",
                "For this table, the order of rows should follow:\n",
                "* Show the second generation first  \n",
                "* For the second generation Pokémon, sort them based names following the decsending order \n",
                "* For each pokemon, present Type_1 information first and then Type_2 information\n",
                "\n",
                "In your final table, you can use any values for row labels.\n",
                ""
            ]
        },
        {
            "cell_type": "code",
            "execution_count": 5,
            "metadata": {},
            "outputs": [
                {
                    "data": {
                        "text/html": "\u003cdiv\u003e\n\u003cstyle scoped\u003e\n    .dataframe tbody tr th:only-of-type {\n        vertical-align: middle;\n    }\n\n    .dataframe tbody tr th {\n        vertical-align: top;\n    }\n\n    .dataframe thead th {\n        text-align: right;\n    }\n\u003c/style\u003e\n\u003ctable border=\"1\" class=\"dataframe\"\u003e\n  \u003cthead\u003e\n    \u003ctr style=\"text-align: right;\"\u003e\n      \u003cth\u003e\u003c/th\u003e\n      \u003cth\u003eName\u003c/th\u003e\n      \u003cth\u003eGeneration\u003c/th\u003e\n      \u003cth\u003eType12\u003c/th\u003e\n      \u003cth\u003eTypeValue\u003c/th\u003e\n    \u003c/tr\u003e\n  \u003c/thead\u003e\n  \u003ctbody\u003e\n    \u003ctr\u003e\n      \u003cth\u003e2\u003c/th\u003e\n      \u003ctd\u003eSuicune\u003c/td\u003e\n      \u003ctd\u003e2\u003c/td\u003e\n      \u003ctd\u003eType_1\u003c/td\u003e\n      \u003ctd\u003eWater\u003c/td\u003e\n    \u003c/tr\u003e\n    \u003ctr\u003e\n      \u003cth\u003e18\u003c/th\u003e\n      \u003ctd\u003eSuicune\u003c/td\u003e\n      \u003ctd\u003e2\u003c/td\u003e\n      \u003ctd\u003eType_2\u003c/td\u003e\n      \u003ctd\u003eNaN\u003c/td\u003e\n    \u003c/tr\u003e\n    \u003ctr\u003e\n      \u003cth\u003e0\u003c/th\u003e\n      \u003ctd\u003eRaikou\u003c/td\u003e\n      \u003ctd\u003e2\u003c/td\u003e\n      \u003ctd\u003eType_1\u003c/td\u003e\n      \u003ctd\u003eElectric\u003c/td\u003e\n    \u003c/tr\u003e\n    \u003ctr\u003e\n      \u003cth\u003e16\u003c/th\u003e\n      \u003ctd\u003eRaikou\u003c/td\u003e\n      \u003ctd\u003e2\u003c/td\u003e\n      \u003ctd\u003eType_2\u003c/td\u003e\n      \u003ctd\u003eNaN\u003c/td\u003e\n    \u003c/tr\u003e\n    \u003ctr\u003e\n      \u003cth\u003e3\u003c/th\u003e\n      \u003ctd\u003eLugia\u003c/td\u003e\n      \u003ctd\u003e2\u003c/td\u003e\n      \u003ctd\u003eType_1\u003c/td\u003e\n      \u003ctd\u003ePsychic\u003c/td\u003e\n    \u003c/tr\u003e\n    \u003ctr\u003e\n      \u003cth\u003e19\u003c/th\u003e\n      \u003ctd\u003eLugia\u003c/td\u003e\n      \u003ctd\u003e2\u003c/td\u003e\n      \u003ctd\u003eType_2\u003c/td\u003e\n      \u003ctd\u003eFlying\u003c/td\u003e\n    \u003c/tr\u003e\n    \u003ctr\u003e\n      \u003cth\u003e4\u003c/th\u003e\n      \u003ctd\u003eHo-oh\u003c/td\u003e\n      \u003ctd\u003e2\u003c/td\u003e\n      \u003ctd\u003eType_1\u003c/td\u003e\n      \u003ctd\u003eFire\u003c/td\u003e\n    \u003c/tr\u003e\n    \u003ctr\u003e\n      \u003cth\u003e20\u003c/th\u003e\n      \u003ctd\u003eHo-oh\u003c/td\u003e\n      \u003ctd\u003e2\u003c/td\u003e\n      \u003ctd\u003eType_2\u003c/td\u003e\n      \u003ctd\u003eFlying\u003c/td\u003e\n    \u003c/tr\u003e\n    \u003ctr\u003e\n      \u003cth\u003e1\u003c/th\u003e\n      \u003ctd\u003eEntei\u003c/td\u003e\n      \u003ctd\u003e2\u003c/td\u003e\n      \u003ctd\u003eType_1\u003c/td\u003e\n      \u003ctd\u003eFire\u003c/td\u003e\n    \u003c/tr\u003e\n    \u003ctr\u003e\n      \u003cth\u003e17\u003c/th\u003e\n      \u003ctd\u003eEntei\u003c/td\u003e\n      \u003ctd\u003e2\u003c/td\u003e\n      \u003ctd\u003eType_2\u003c/td\u003e\n      \u003ctd\u003eNaN\u003c/td\u003e\n    \u003c/tr\u003e\n    \u003ctr\u003e\n      \u003cth\u003e5\u003c/th\u003e\n      \u003ctd\u003eUxie\u003c/td\u003e\n      \u003ctd\u003e4\u003c/td\u003e\n      \u003ctd\u003eType_1\u003c/td\u003e\n      \u003ctd\u003ePsychic\u003c/td\u003e\n    \u003c/tr\u003e\n    \u003ctr\u003e\n      \u003cth\u003e14\u003c/th\u003e\n      \u003ctd\u003eShayminLand Forme\u003c/td\u003e\n      \u003ctd\u003e4\u003c/td\u003e\n      \u003ctd\u003eType_1\u003c/td\u003e\n      \u003ctd\u003eGrass\u003c/td\u003e\n    \u003c/tr\u003e\n    \u003ctr\u003e\n      \u003cth\u003e13\u003c/th\u003e\n      \u003ctd\u003eDarkrai\u003c/td\u003e\n      \u003ctd\u003e4\u003c/td\u003e\n      \u003ctd\u003eType_1\u003c/td\u003e\n      \u003ctd\u003eDark\u003c/td\u003e\n    \u003c/tr\u003e\n    \u003ctr\u003e\n      \u003cth\u003e12\u003c/th\u003e\n      \u003ctd\u003eGiratinaAltered Forme\u003c/td\u003e\n      \u003ctd\u003e4\u003c/td\u003e\n      \u003ctd\u003eType_1\u003c/td\u003e\n      \u003ctd\u003eGhost\u003c/td\u003e\n    \u003c/tr\u003e\n    \u003ctr\u003e\n      \u003cth\u003e11\u003c/th\u003e\n      \u003ctd\u003eRegigigas\u003c/td\u003e\n      \u003ctd\u003e4\u003c/td\u003e\n      \u003ctd\u003eType_1\u003c/td\u003e\n      \u003ctd\u003eNormal\u003c/td\u003e\n    \u003c/tr\u003e\n    \u003ctr\u003e\n      \u003cth\u003e15\u003c/th\u003e\n      \u003ctd\u003eArceus\u003c/td\u003e\n      \u003ctd\u003e4\u003c/td\u003e\n      \u003ctd\u003eType_1\u003c/td\u003e\n      \u003ctd\u003eNormal\u003c/td\u003e\n    \u003c/tr\u003e\n    \u003ctr\u003e\n      \u003cth\u003e9\u003c/th\u003e\n      \u003ctd\u003ePalkia\u003c/td\u003e\n      \u003ctd\u003e4\u003c/td\u003e\n      \u003ctd\u003eType_1\u003c/td\u003e\n      \u003ctd\u003eWater\u003c/td\u003e\n    \u003c/tr\u003e\n    \u003ctr\u003e\n      \u003cth\u003e8\u003c/th\u003e\n      \u003ctd\u003eDialga\u003c/td\u003e\n      \u003ctd\u003e4\u003c/td\u003e\n      \u003ctd\u003eType_1\u003c/td\u003e\n      \u003ctd\u003eSteel\u003c/td\u003e\n    \u003c/tr\u003e\n    \u003ctr\u003e\n      \u003cth\u003e7\u003c/th\u003e\n      \u003ctd\u003eAzelf\u003c/td\u003e\n      \u003ctd\u003e4\u003c/td\u003e\n      \u003ctd\u003eType_1\u003c/td\u003e\n      \u003ctd\u003ePsychic\u003c/td\u003e\n    \u003c/tr\u003e\n    \u003ctr\u003e\n      \u003cth\u003e6\u003c/th\u003e\n      \u003ctd\u003eMesprit\u003c/td\u003e\n      \u003ctd\u003e4\u003c/td\u003e\n      \u003ctd\u003eType_1\u003c/td\u003e\n      \u003ctd\u003ePsychic\u003c/td\u003e\n    \u003c/tr\u003e\n    \u003ctr\u003e\n      \u003cth\u003e10\u003c/th\u003e\n      \u003ctd\u003eHeatran\u003c/td\u003e\n      \u003ctd\u003e4\u003c/td\u003e\n      \u003ctd\u003eType_1\u003c/td\u003e\n      \u003ctd\u003eFire\u003c/td\u003e\n    \u003c/tr\u003e\n    \u003ctr\u003e\n      \u003cth\u003e30\u003c/th\u003e\n      \u003ctd\u003eShayminLand Forme\u003c/td\u003e\n      \u003ctd\u003e4\u003c/td\u003e\n      \u003ctd\u003eType_2\u003c/td\u003e\n      \u003ctd\u003eNaN\u003c/td\u003e\n    \u003c/tr\u003e\n    \u003ctr\u003e\n      \u003cth\u003e21\u003c/th\u003e\n      \u003ctd\u003eUxie\u003c/td\u003e\n      \u003ctd\u003e4\u003c/td\u003e\n      \u003ctd\u003eType_2\u003c/td\u003e\n      \u003ctd\u003eNaN\u003c/td\u003e\n    \u003c/tr\u003e\n    \u003ctr\u003e\n      \u003cth\u003e22\u003c/th\u003e\n      \u003ctd\u003eMesprit\u003c/td\u003e\n      \u003ctd\u003e4\u003c/td\u003e\n      \u003ctd\u003eType_2\u003c/td\u003e\n      \u003ctd\u003eNaN\u003c/td\u003e\n    \u003c/tr\u003e\n    \u003ctr\u003e\n      \u003cth\u003e23\u003c/th\u003e\n      \u003ctd\u003eAzelf\u003c/td\u003e\n      \u003ctd\u003e4\u003c/td\u003e\n      \u003ctd\u003eType_2\u003c/td\u003e\n      \u003ctd\u003eNaN\u003c/td\u003e\n    \u003c/tr\u003e\n    \u003ctr\u003e\n      \u003cth\u003e24\u003c/th\u003e\n      \u003ctd\u003eDialga\u003c/td\u003e\n      \u003ctd\u003e4\u003c/td\u003e\n      \u003ctd\u003eType_2\u003c/td\u003e\n      \u003ctd\u003eDragon\u003c/td\u003e\n    \u003c/tr\u003e\n    \u003ctr\u003e\n      \u003cth\u003e25\u003c/th\u003e\n      \u003ctd\u003ePalkia\u003c/td\u003e\n      \u003ctd\u003e4\u003c/td\u003e\n      \u003ctd\u003eType_2\u003c/td\u003e\n      \u003ctd\u003eDragon\u003c/td\u003e\n    \u003c/tr\u003e\n    \u003ctr\u003e\n      \u003cth\u003e26\u003c/th\u003e\n      \u003ctd\u003eHeatran\u003c/td\u003e\n      \u003ctd\u003e4\u003c/td\u003e\n      \u003ctd\u003eType_2\u003c/td\u003e\n      \u003ctd\u003eSteel\u003c/td\u003e\n    \u003c/tr\u003e\n    \u003ctr\u003e\n      \u003cth\u003e27\u003c/th\u003e\n      \u003ctd\u003eRegigigas\u003c/td\u003e\n      \u003ctd\u003e4\u003c/td\u003e\n      \u003ctd\u003eType_2\u003c/td\u003e\n      \u003ctd\u003eNaN\u003c/td\u003e\n    \u003c/tr\u003e\n    \u003ctr\u003e\n      \u003cth\u003e28\u003c/th\u003e\n      \u003ctd\u003eGiratinaAltered Forme\u003c/td\u003e\n      \u003ctd\u003e4\u003c/td\u003e\n      \u003ctd\u003eType_2\u003c/td\u003e\n      \u003ctd\u003eDragon\u003c/td\u003e\n    \u003c/tr\u003e\n    \u003ctr\u003e\n      \u003cth\u003e29\u003c/th\u003e\n      \u003ctd\u003eDarkrai\u003c/td\u003e\n      \u003ctd\u003e4\u003c/td\u003e\n      \u003ctd\u003eType_2\u003c/td\u003e\n      \u003ctd\u003eNaN\u003c/td\u003e\n    \u003c/tr\u003e\n    \u003ctr\u003e\n      \u003cth\u003e31\u003c/th\u003e\n      \u003ctd\u003eArceus\u003c/td\u003e\n      \u003ctd\u003e4\u003c/td\u003e\n      \u003ctd\u003eType_2\u003c/td\u003e\n      \u003ctd\u003eNaN\u003c/td\u003e\n    \u003c/tr\u003e\n  \u003c/tbody\u003e\n\u003c/table\u003e\n\u003c/div\u003e",
                        "text/plain": "                     Name  Generation  Type12 TypeValue\n2                 Suicune           2  Type_1     Water\n18                Suicune           2  Type_2       NaN\n0                  Raikou           2  Type_1  Electric\n16                 Raikou           2  Type_2       NaN\n3                   Lugia           2  Type_1   Psychic\n19                  Lugia           2  Type_2    Flying\n4                   Ho-oh           2  Type_1      Fire\n20                  Ho-oh           2  Type_2    Flying\n1                   Entei           2  Type_1      Fire\n17                  Entei           2  Type_2       NaN\n5                    Uxie           4  Type_1   Psychic\n14      ShayminLand Forme           4  Type_1     Grass\n13                Darkrai           4  Type_1      Dark\n12  GiratinaAltered Forme           4  Type_1     Ghost\n11              Regigigas           4  Type_1    Normal\n15                 Arceus           4  Type_1    Normal\n9                  Palkia           4  Type_1     Water\n8                  Dialga           4  Type_1     Steel\n7                   Azelf           4  Type_1   Psychic\n6                 Mesprit           4  Type_1   Psychic\n10                Heatran           4  Type_1      Fire\n30      ShayminLand Forme           4  Type_2       NaN\n21                   Uxie           4  Type_2       NaN\n22                Mesprit           4  Type_2       NaN\n23                  Azelf           4  Type_2       NaN\n24                 Dialga           4  Type_2    Dragon\n25                 Palkia           4  Type_2    Dragon\n26                Heatran           4  Type_2     Steel\n27              Regigigas           4  Type_2       NaN\n28  GiratinaAltered Forme           4  Type_2    Dragon\n29                Darkrai           4  Type_2       NaN\n31                 Arceus           4  Type_2       NaN"
                    },
                    "execution_count": 5,
                    "metadata": {},
                    "output_type": "execute_result"
                }
            ],
            "source": [
                "pokemon_legend24_long = pd.melt(pokemon_legend24, id_vars=[\"Name\", \"Generation\"], var_name=\"Type12\", value_name=\"TypeValue\")\n",
                "generation = pokemon_legend24_long[\"Generation\"].values\n",
                "Filter1 = (generation == 2)\n",
                "Filter2 = (generation == 4)\n",
                "gen2 = pokemon_legend24_long.loc[Filter1, [\"Name\", \"Generation\", \"Type12\", \"TypeValue\"]]\n",
                "gen2.sort_values([\"Name\",\"Type12\"], ascending=[False,True], inplace=True)\n",
                "gen4 = pokemon_legend24_long.loc[Filter2, [\"Name\", \"Generation\", \"Type12\", \"TypeValue\"]]\n",
                "gen4.sort_values(\"Type12\", inplace=True)\n",
                "pokemon_legend24_long = pd.concat([gen2,gen4])\n",
                "pokemon_legend24_long"
            ]
        },
        {
            "attachments": {},
            "cell_type": "markdown",
            "metadata": {},
            "source": [
                "## **For the following questions, we will use `pokemon` table.**"
            ]
        },
        {
            "attachments": {},
            "cell_type": "markdown",
            "metadata": {},
            "source": [
                "## Q3. [5 Points]\n",
                "\n",
                "* Add one additional column `Total` to table `pokemon`. The value of `Total` for a  Pokémon is equal to the sum of all the stats numbers for the Pokémon (HP+Attack+Defense+Sp_Atk+Sp_Def+ Speed)\n",
                "* Exclude the stats columns that are used to compute \"Total\" from \"pokemon\" table.\n",
                ""
            ]
        },
        {
            "cell_type": "code",
            "execution_count": 6,
            "metadata": {},
            "outputs": [
                {
                    "data": {
                        "text/html": "\u003cdiv\u003e\n\u003cstyle scoped\u003e\n    .dataframe tbody tr th:only-of-type {\n        vertical-align: middle;\n    }\n\n    .dataframe tbody tr th {\n        vertical-align: top;\n    }\n\n    .dataframe thead th {\n        text-align: right;\n    }\n\u003c/style\u003e\n\u003ctable border=\"1\" class=\"dataframe\"\u003e\n  \u003cthead\u003e\n    \u003ctr style=\"text-align: right;\"\u003e\n      \u003cth\u003e\u003c/th\u003e\n      \u003cth\u003ePokeDex\u003c/th\u003e\n      \u003cth\u003eName\u003c/th\u003e\n      \u003cth\u003eType_1\u003c/th\u003e\n      \u003cth\u003eType_2\u003c/th\u003e\n      \u003cth\u003eGeneration\u003c/th\u003e\n      \u003cth\u003eLegendary\u003c/th\u003e\n      \u003cth\u003eTotal\u003c/th\u003e\n    \u003c/tr\u003e\n  \u003c/thead\u003e\n  \u003ctbody\u003e\n    \u003ctr\u003e\n      \u003cth\u003e0\u003c/th\u003e\n      \u003ctd\u003e1\u003c/td\u003e\n      \u003ctd\u003eBulbasaur\u003c/td\u003e\n      \u003ctd\u003eGrass\u003c/td\u003e\n      \u003ctd\u003ePoison\u003c/td\u003e\n      \u003ctd\u003e1\u003c/td\u003e\n      \u003ctd\u003eFalse\u003c/td\u003e\n      \u003ctd\u003e318\u003c/td\u003e\n    \u003c/tr\u003e\n    \u003ctr\u003e\n      \u003cth\u003e1\u003c/th\u003e\n      \u003ctd\u003e2\u003c/td\u003e\n      \u003ctd\u003eIvysaur\u003c/td\u003e\n      \u003ctd\u003eGrass\u003c/td\u003e\n      \u003ctd\u003ePoison\u003c/td\u003e\n      \u003ctd\u003e1\u003c/td\u003e\n      \u003ctd\u003eFalse\u003c/td\u003e\n      \u003ctd\u003e405\u003c/td\u003e\n    \u003c/tr\u003e\n    \u003ctr\u003e\n      \u003cth\u003e2\u003c/th\u003e\n      \u003ctd\u003e3\u003c/td\u003e\n      \u003ctd\u003eVenusaur\u003c/td\u003e\n      \u003ctd\u003eGrass\u003c/td\u003e\n      \u003ctd\u003ePoison\u003c/td\u003e\n      \u003ctd\u003e1\u003c/td\u003e\n      \u003ctd\u003eFalse\u003c/td\u003e\n      \u003ctd\u003e525\u003c/td\u003e\n    \u003c/tr\u003e\n    \u003ctr\u003e\n      \u003cth\u003e3\u003c/th\u003e\n      \u003ctd\u003e4\u003c/td\u003e\n      \u003ctd\u003eCharmander\u003c/td\u003e\n      \u003ctd\u003eFire\u003c/td\u003e\n      \u003ctd\u003eNaN\u003c/td\u003e\n      \u003ctd\u003e1\u003c/td\u003e\n      \u003ctd\u003eFalse\u003c/td\u003e\n      \u003ctd\u003e309\u003c/td\u003e\n    \u003c/tr\u003e\n    \u003ctr\u003e\n      \u003cth\u003e4\u003c/th\u003e\n      \u003ctd\u003e5\u003c/td\u003e\n      \u003ctd\u003eCharmeleon\u003c/td\u003e\n      \u003ctd\u003eFire\u003c/td\u003e\n      \u003ctd\u003eNaN\u003c/td\u003e\n      \u003ctd\u003e1\u003c/td\u003e\n      \u003ctd\u003eFalse\u003c/td\u003e\n      \u003ctd\u003e405\u003c/td\u003e\n    \u003c/tr\u003e\n    \u003ctr\u003e\n      \u003cth\u003e...\u003c/th\u003e\n      \u003ctd\u003e...\u003c/td\u003e\n      \u003ctd\u003e...\u003c/td\u003e\n      \u003ctd\u003e...\u003c/td\u003e\n      \u003ctd\u003e...\u003c/td\u003e\n      \u003ctd\u003e...\u003c/td\u003e\n      \u003ctd\u003e...\u003c/td\u003e\n      \u003ctd\u003e...\u003c/td\u003e\n    \u003c/tr\u003e\n    \u003ctr\u003e\n      \u003cth\u003e716\u003c/th\u003e\n      \u003ctd\u003e717\u003c/td\u003e\n      \u003ctd\u003eYveltal\u003c/td\u003e\n      \u003ctd\u003eDark\u003c/td\u003e\n      \u003ctd\u003eFlying\u003c/td\u003e\n      \u003ctd\u003e6\u003c/td\u003e\n      \u003ctd\u003eTrue\u003c/td\u003e\n      \u003ctd\u003e680\u003c/td\u003e\n    \u003c/tr\u003e\n    \u003ctr\u003e\n      \u003cth\u003e717\u003c/th\u003e\n      \u003ctd\u003e718\u003c/td\u003e\n      \u003ctd\u003eZygarde50% Forme\u003c/td\u003e\n      \u003ctd\u003eDragon\u003c/td\u003e\n      \u003ctd\u003eGround\u003c/td\u003e\n      \u003ctd\u003e6\u003c/td\u003e\n      \u003ctd\u003eTrue\u003c/td\u003e\n      \u003ctd\u003e600\u003c/td\u003e\n    \u003c/tr\u003e\n    \u003ctr\u003e\n      \u003cth\u003e718\u003c/th\u003e\n      \u003ctd\u003e719\u003c/td\u003e\n      \u003ctd\u003eDiancie\u003c/td\u003e\n      \u003ctd\u003eRock\u003c/td\u003e\n      \u003ctd\u003eFairy\u003c/td\u003e\n      \u003ctd\u003e6\u003c/td\u003e\n      \u003ctd\u003eTrue\u003c/td\u003e\n      \u003ctd\u003e600\u003c/td\u003e\n    \u003c/tr\u003e\n    \u003ctr\u003e\n      \u003cth\u003e719\u003c/th\u003e\n      \u003ctd\u003e720\u003c/td\u003e\n      \u003ctd\u003eHoopaHoopa Confined\u003c/td\u003e\n      \u003ctd\u003ePsychic\u003c/td\u003e\n      \u003ctd\u003eGhost\u003c/td\u003e\n      \u003ctd\u003e6\u003c/td\u003e\n      \u003ctd\u003eTrue\u003c/td\u003e\n      \u003ctd\u003e600\u003c/td\u003e\n    \u003c/tr\u003e\n    \u003ctr\u003e\n      \u003cth\u003e720\u003c/th\u003e\n      \u003ctd\u003e721\u003c/td\u003e\n      \u003ctd\u003eVolcanion\u003c/td\u003e\n      \u003ctd\u003eFire\u003c/td\u003e\n      \u003ctd\u003eWater\u003c/td\u003e\n      \u003ctd\u003e6\u003c/td\u003e\n      \u003ctd\u003eTrue\u003c/td\u003e\n      \u003ctd\u003e600\u003c/td\u003e\n    \u003c/tr\u003e\n  \u003c/tbody\u003e\n\u003c/table\u003e\n\u003cp\u003e721 rows × 7 columns\u003c/p\u003e\n\u003c/div\u003e",
                        "text/plain": "     PokeDex                 Name   Type_1  Type_2  Generation  Legendary  \\\n0          1            Bulbasaur    Grass  Poison           1      False   \n1          2              Ivysaur    Grass  Poison           1      False   \n2          3             Venusaur    Grass  Poison           1      False   \n3          4           Charmander     Fire     NaN           1      False   \n4          5           Charmeleon     Fire     NaN           1      False   \n..       ...                  ...      ...     ...         ...        ...   \n716      717              Yveltal     Dark  Flying           6       True   \n717      718     Zygarde50% Forme   Dragon  Ground           6       True   \n718      719              Diancie     Rock   Fairy           6       True   \n719      720  HoopaHoopa Confined  Psychic   Ghost           6       True   \n720      721            Volcanion     Fire   Water           6       True   \n\n     Total  \n0      318  \n1      405  \n2      525  \n3      309  \n4      405  \n..     ...  \n716    680  \n717    600  \n718    600  \n719    600  \n720    600  \n\n[721 rows x 7 columns]"
                    },
                    "execution_count": 6,
                    "metadata": {},
                    "output_type": "execute_result"
                }
            ],
            "source": [
                "pokemon_with_total = pokemon.assign(Total = lambda y: y.HP + y.Attack + y.Defense + y.Sp_Atk + y.Sp_Def + y.Speed)\n",
                "pokemon_minus_stats = pokemon_with_total.drop(columns = [\"HP\", \"Attack\", \"Defense\", \"Sp_Atk\", \"Sp_Def\", \"Speed\"])\n",
                "pokemon_minus_stats"
            ]
        },
        {
            "attachments": {},
            "cell_type": "markdown",
            "metadata": {},
            "source": [
                "## Q4. [8 Points]\n",
                "\n",
                "Create a `DataFrame` that lists the following information of the **top 10 Grass type**  Pokémon ranked by their total combat power\n",
                "\n",
                "|ColumnName|Description|\n",
                "|---|---|\n",
                "|Name|Name of the Pokémon|\n",
                "|Total|The Pokémon's total combat power |\n",
                " \n",
                "Make row labels equal $1, 2, 3,\\dots , 10$\n",
                "\n",
                "[hint: you might find `pd.concat` helpful]"
            ]
        },
        {
            "cell_type": "code",
            "execution_count": 7,
            "metadata": {},
            "outputs": [
                {
                    "data": {
                        "text/html": "\u003cdiv\u003e\n\u003cstyle scoped\u003e\n    .dataframe tbody tr th:only-of-type {\n        vertical-align: middle;\n    }\n\n    .dataframe tbody tr th {\n        vertical-align: top;\n    }\n\n    .dataframe thead th {\n        text-align: right;\n    }\n\u003c/style\u003e\n\u003ctable border=\"1\" class=\"dataframe\"\u003e\n  \u003cthead\u003e\n    \u003ctr style=\"text-align: right;\"\u003e\n      \u003cth\u003e\u003c/th\u003e\n      \u003cth\u003eName\u003c/th\u003e\n      \u003cth\u003eTotal\u003c/th\u003e\n    \u003c/tr\u003e\n  \u003c/thead\u003e\n  \u003ctbody\u003e\n    \u003ctr\u003e\n      \u003cth\u003e1\u003c/th\u003e\n      \u003ctd\u003eShayminLand Forme\u003c/td\u003e\n      \u003ctd\u003e600\u003c/td\u003e\n    \u003c/tr\u003e\n    \u003ctr\u003e\n      \u003cth\u003e2\u003c/th\u003e\n      \u003ctd\u003eCelebi\u003c/td\u003e\n      \u003ctd\u003e600\u003c/td\u003e\n    \u003c/tr\u003e\n    \u003ctr\u003e\n      \u003cth\u003e3\u003c/th\u003e\n      \u003ctd\u003eVirizion\u003c/td\u003e\n      \u003ctd\u003e580\u003c/td\u003e\n    \u003c/tr\u003e\n    \u003ctr\u003e\n      \u003cth\u003e4\u003c/th\u003e\n      \u003ctd\u003eTangrowth\u003c/td\u003e\n      \u003ctd\u003e535\u003c/td\u003e\n    \u003c/tr\u003e\n    \u003ctr\u003e\n      \u003cth\u003e5\u003c/th\u003e\n      \u003ctd\u003eGogoat\u003c/td\u003e\n      \u003ctd\u003e531\u003c/td\u003e\n    \u003c/tr\u003e\n    \u003ctr\u003e\n      \u003cth\u003e6\u003c/th\u003e\n      \u003ctd\u003eChesnaught\u003c/td\u003e\n      \u003ctd\u003e530\u003c/td\u003e\n    \u003c/tr\u003e\n    \u003ctr\u003e\n      \u003cth\u003e7\u003c/th\u003e\n      \u003ctd\u003eSceptile\u003c/td\u003e\n      \u003ctd\u003e530\u003c/td\u003e\n    \u003c/tr\u003e\n    \u003ctr\u003e\n      \u003cth\u003e8\u003c/th\u003e\n      \u003ctd\u003eSerperior\u003c/td\u003e\n      \u003ctd\u003e528\u003c/td\u003e\n    \u003c/tr\u003e\n    \u003ctr\u003e\n      \u003cth\u003e9\u003c/th\u003e\n      \u003ctd\u003eMeganium\u003c/td\u003e\n      \u003ctd\u003e525\u003c/td\u003e\n    \u003c/tr\u003e\n    \u003ctr\u003e\n      \u003cth\u003e10\u003c/th\u003e\n      \u003ctd\u003eVenusaur\u003c/td\u003e\n      \u003ctd\u003e525\u003c/td\u003e\n    \u003c/tr\u003e\n  \u003c/tbody\u003e\n\u003c/table\u003e\n\u003c/div\u003e",
                        "text/plain": "                 Name  Total\n1   ShayminLand Forme    600\n2              Celebi    600\n3            Virizion    580\n4           Tangrowth    535\n5              Gogoat    531\n6          Chesnaught    530\n7            Sceptile    530\n8           Serperior    528\n9            Meganium    525\n10           Venusaur    525"
                    },
                    "execution_count": 7,
                    "metadata": {},
                    "output_type": "execute_result"
                }
            ],
            "source": [
                "#pd.concat???\n",
                "type1 = pokemon[\"Type_1\"].values\n",
                "type2 = pokemon[\"Type_2\"].values\n",
                "Filter = (type1 == \"Grass\") | (type2 == \"Grass\")\n",
                "grass_pokemon = pokemon_minus_stats.loc[Filter, [\"Name\",\"Total\"]]\n",
                "grass_pokemon.sort_values([\"Total\"], ascending=False, inplace=True)\n",
                "top10_grass = grass_pokemon.iloc[0:10,:]\n",
                "row_labels = [1,2,3,4,5,6,7,8,9,10]\n",
                "top10_grass.set_index([row_labels], drop=True, inplace=True)\n",
                "top10_grass"
            ]
        },
        {
            "attachments": {},
            "cell_type": "markdown",
            "metadata": {},
            "source": [
                "## Q5. [8 Points]\n",
                "\n",
                "Which of the following names in the NamePossible arrays are the name of a pokemon?\n",
                "\n",
                "Based on Merge, provide your answer using an array that contains only the names that are pokemon names."
            ]
        },
        {
            "cell_type": "code",
            "execution_count": 8,
            "metadata": {},
            "outputs": [
                {
                    "name": "stdout",
                    "output_type": "stream",
                    "text": "['Charmander' 'Snorlax' 'Chansey' 'Groudon']\n"
                }
            ],
            "source": [
                "NamePossible=[\"Charmander\",\"Piggy\",\"Snorlax\",\"Chansey\",\"Hamsta\", \"Growleth\",\"Groudon\",\"Shawty\"]\n",
                "NamePossible_df = pd.DataFrame({\"Name\": NamePossible})\n",
                "Table = pd.merge(NamePossible_df,pokemon,left_on=\"Name\",right_on=\"Name\")\n",
                "names = Table[\"Name\"].values\n",
                "print(names)"
            ]
        },
        {
            "attachments": {},
            "cell_type": "markdown",
            "metadata": {},
            "source": [
                "## Q6. [5 Points]\n",
                "\n",
                "Pandas series has a method `isin()` that gives whether each element in the DataFrame is contained in values.\n",
                "\n",
                "Study the method [here](https://pandas.pydata.org/pandas-docs/stable/reference/api/pandas.DataFrame.isin.html) and perform Q5 task using `isin()` instead. "
            ]
        },
        {
            "cell_type": "code",
            "execution_count": 9,
            "metadata": {},
            "outputs": [
                {
                    "name": "stdout",
                    "output_type": "stream",
                    "text": "['Charmander' 'Snorlax' 'Chansey' 'Groudon']\n"
                }
            ],
            "source": [
                "NamePossible =[\"Charmander\",\"Piggy\",\"Snorlax\",\"Chansey\",\"Hamsta\", \"Growleth\",\"Groudon\",\"Shawty\"]\n",
                "NamePossible_df = pd.DataFrame({\"Name\": NamePossible})\n",
                "NamePossible_array = np.array(NamePossible)\n",
                "Bool = NamePossible_df.isin(pokemon[\"Name\"].values)\n",
                "print(NamePossible_array[Bool[\"Name\"].values])"
            ]
        },
        {
            "attachments": {},
            "cell_type": "markdown",
            "metadata": {},
            "source": [
                "## Q7. [8 Points]\n",
                "\n",
                "For all  Pokémon included in table `pokemon`, how many Pokémon belong to each type? If a Pokémon belongs to two types, it will be counted towards both the number of Pokémon belonging to the first type and also the number of Pokémon belonging to the second type. For example, Bulbasaur has \"Type 1\" equals \"Grass\" and \"Type 2\" equals \"Poison\". Thus, Bulbasaur is both a Grass type Pokémon and a Poison type Pokémon.\n",
                "\n",
                "Answer this question by presenting a table with two columns. \n",
                "\n",
                "|ColumnName|Description|\n",
                "|---|---|\n",
                "|Type|Type name of Pokémon|\n",
                "|Counts|Number of Pokémon belonging to this type|\n",
                ""
            ]
        },
        {
            "cell_type": "code",
            "execution_count": 10,
            "metadata": {},
            "outputs": [
                {
                    "data": {
                        "text/html": "\u003cdiv\u003e\n\u003cstyle scoped\u003e\n    .dataframe tbody tr th:only-of-type {\n        vertical-align: middle;\n    }\n\n    .dataframe tbody tr th {\n        vertical-align: top;\n    }\n\n    .dataframe thead th {\n        text-align: right;\n    }\n\u003c/style\u003e\n\u003ctable border=\"1\" class=\"dataframe\"\u003e\n  \u003cthead\u003e\n    \u003ctr style=\"text-align: right;\"\u003e\n      \u003cth\u003e\u003c/th\u003e\n      \u003cth\u003eType\u003c/th\u003e\n      \u003cth\u003eCounts\u003c/th\u003e\n    \u003c/tr\u003e\n  \u003c/thead\u003e\n  \u003ctbody\u003e\n    \u003ctr\u003e\n      \u003cth\u003e0\u003c/th\u003e\n      \u003ctd\u003eBug\u003c/td\u003e\n      \u003ctd\u003e66\u003c/td\u003e\n    \u003c/tr\u003e\n    \u003ctr\u003e\n      \u003cth\u003e1\u003c/th\u003e\n      \u003ctd\u003eDark\u003c/td\u003e\n      \u003ctd\u003e44\u003c/td\u003e\n    \u003c/tr\u003e\n    \u003ctr\u003e\n      \u003cth\u003e2\u003c/th\u003e\n      \u003ctd\u003eDragon\u003c/td\u003e\n      \u003ctd\u003e38\u003c/td\u003e\n    \u003c/tr\u003e\n    \u003ctr\u003e\n      \u003cth\u003e3\u003c/th\u003e\n      \u003ctd\u003eElectric\u003c/td\u003e\n      \u003ctd\u003e42\u003c/td\u003e\n    \u003c/tr\u003e\n    \u003ctr\u003e\n      \u003cth\u003e4\u003c/th\u003e\n      \u003ctd\u003eFairy\u003c/td\u003e\n      \u003ctd\u003e35\u003c/td\u003e\n    \u003c/tr\u003e\n    \u003ctr\u003e\n      \u003cth\u003e5\u003c/th\u003e\n      \u003ctd\u003eFighting\u003c/td\u003e\n      \u003ctd\u003e44\u003c/td\u003e\n    \u003c/tr\u003e\n    \u003ctr\u003e\n      \u003cth\u003e6\u003c/th\u003e\n      \u003ctd\u003eFire\u003c/td\u003e\n      \u003ctd\u003e56\u003c/td\u003e\n    \u003c/tr\u003e\n    \u003ctr\u003e\n      \u003cth\u003e7\u003c/th\u003e\n      \u003ctd\u003eFlying\u003c/td\u003e\n      \u003ctd\u003e90\u003c/td\u003e\n    \u003c/tr\u003e\n    \u003ctr\u003e\n      \u003cth\u003e8\u003c/th\u003e\n      \u003ctd\u003eGhost\u003c/td\u003e\n      \u003ctd\u003e35\u003c/td\u003e\n    \u003c/tr\u003e\n    \u003ctr\u003e\n      \u003cth\u003e9\u003c/th\u003e\n      \u003ctd\u003eGrass\u003c/td\u003e\n      \u003ctd\u003e84\u003c/td\u003e\n    \u003c/tr\u003e\n    \u003ctr\u003e\n      \u003cth\u003e10\u003c/th\u003e\n      \u003ctd\u003eGround\u003c/td\u003e\n      \u003ctd\u003e60\u003c/td\u003e\n    \u003c/tr\u003e\n    \u003ctr\u003e\n      \u003cth\u003e11\u003c/th\u003e\n      \u003ctd\u003eIce\u003c/td\u003e\n      \u003ctd\u003e33\u003c/td\u003e\n    \u003c/tr\u003e\n    \u003ctr\u003e\n      \u003cth\u003e12\u003c/th\u003e\n      \u003ctd\u003eNormal\u003c/td\u003e\n      \u003ctd\u003e97\u003c/td\u003e\n    \u003c/tr\u003e\n    \u003ctr\u003e\n      \u003cth\u003e13\u003c/th\u003e\n      \u003ctd\u003ePoison\u003c/td\u003e\n      \u003ctd\u003e59\u003c/td\u003e\n    \u003c/tr\u003e\n    \u003ctr\u003e\n      \u003cth\u003e14\u003c/th\u003e\n      \u003ctd\u003ePsychic\u003c/td\u003e\n      \u003ctd\u003e74\u003c/td\u003e\n    \u003c/tr\u003e\n    \u003ctr\u003e\n      \u003cth\u003e15\u003c/th\u003e\n      \u003ctd\u003eRock\u003c/td\u003e\n      \u003ctd\u003e55\u003c/td\u003e\n    \u003c/tr\u003e\n    \u003ctr\u003e\n      \u003cth\u003e16\u003c/th\u003e\n      \u003ctd\u003eSteel\u003c/td\u003e\n      \u003ctd\u003e41\u003c/td\u003e\n    \u003c/tr\u003e\n    \u003ctr\u003e\n      \u003cth\u003e17\u003c/th\u003e\n      \u003ctd\u003eWater\u003c/td\u003e\n      \u003ctd\u003e118\u003c/td\u003e\n    \u003c/tr\u003e\n  \u003c/tbody\u003e\n\u003c/table\u003e\n\u003c/div\u003e",
                        "text/plain": "        Type  Counts\n0        Bug      66\n1       Dark      44\n2     Dragon      38\n3   Electric      42\n4      Fairy      35\n5   Fighting      44\n6       Fire      56\n7     Flying      90\n8      Ghost      35\n9      Grass      84\n10    Ground      60\n11       Ice      33\n12    Normal      97\n13    Poison      59\n14   Psychic      74\n15      Rock      55\n16     Steel      41\n17     Water     118"
                    },
                    "execution_count": 10,
                    "metadata": {},
                    "output_type": "execute_result"
                }
            ],
            "source": [
                "#how many pokemon for each Type1\n",
                "pokemon_type1 = pokemon[[\"Name\",\"Type_1\"]]\n",
                "pokemon_type1 = pokemon_type1.groupby(by=\"Type_1\").count()\n",
                "pokemon_type1.reset_index(inplace=True)\n",
                "pokemon_type1.rename(columns = {\"Type_1\":\"Type\", \"Name\":\"Count1\"}, inplace=True)\n",
                "\n",
                "#how many pokemon for each Type2\n",
                "pokemon_type2 = pokemon[[\"Name\",\"Type_2\"]]\n",
                "pokemon_type2 = pokemon_type2.groupby(by=\"Type_2\").count()\n",
                "pokemon_type2.reset_index(inplace=True)\n",
                "pokemon_type2.rename(columns = {\"Type_2\":\"Type\", \"Name\":\"Count2\"}, inplace=True)\n",
                "\n",
                "#merge tables together and sum count1 and count2 to get Counts\n",
                "pokemon_types = pd.merge(pokemon_type1, pokemon_type2, on=\"Type\")\n",
                "pokemon_types = pokemon_types.assign(Counts= lambda y: y.Count1 + y.Count2)\n",
                "pokemon_types = pokemon_types.drop(columns = [\"Count1\",\"Count2\"])\n",
                "pokemon_types"
            ]
        },
        {
            "attachments": {},
            "cell_type": "markdown",
            "metadata": {},
            "source": [
                "## Q8. [10 Points]\n",
                "\n",
                "For all the  Pokémon in `pokemon` table with total combat power between 200 (including 200) and 400 (including 400), generate a table to display the maximum and the mininum total combat power of the Pokémon belonging to \"Grass\", \"Poison\", \"Water\", \"Normal\" type.\n",
                "\n",
                "In this table, you should have 3 columns\n",
                "\n",
                "|Column|Description|\n",
                "|---|---|\n",
                "|Type|Type name|\n",
                "|Min|Minimum of total combat power of all Pokémon belonging to the type|\n",
                "|Max|Maximum of total combat power of all Pokémon belonging to the type|"
            ]
        },
        {
            "cell_type": "code",
            "execution_count": 28,
            "metadata": {},
            "outputs": [
                {
                    "data": {
                        "text/html": "\u003cdiv\u003e\n\u003cstyle scoped\u003e\n    .dataframe tbody tr th:only-of-type {\n        vertical-align: middle;\n    }\n\n    .dataframe tbody tr th {\n        vertical-align: top;\n    }\n\n    .dataframe thead th {\n        text-align: right;\n    }\n\u003c/style\u003e\n\u003ctable border=\"1\" class=\"dataframe\"\u003e\n  \u003cthead\u003e\n    \u003ctr style=\"text-align: right;\"\u003e\n      \u003cth\u003e\u003c/th\u003e\n      \u003cth\u003eType\u003c/th\u003e\n      \u003cth\u003eMax\u003c/th\u003e\n      \u003cth\u003eMin\u003c/th\u003e\n    \u003c/tr\u003e\n  \u003c/thead\u003e\n  \u003ctbody\u003e\n    \u003ctr\u003e\n      \u003cth\u003e9\u003c/th\u003e\n      \u003ctd\u003eGrass\u003c/td\u003e\n      \u003ctd\u003e400\u003c/td\u003e\n      \u003ctd\u003e220\u003c/td\u003e\n    \u003c/tr\u003e\n    \u003ctr\u003e\n      \u003cth\u003e12\u003c/th\u003e\n      \u003ctd\u003eNormal\u003c/td\u003e\n      \u003ctd\u003e395\u003c/td\u003e\n      \u003ctd\u003e210\u003c/td\u003e\n    \u003c/tr\u003e\n    \u003ctr\u003e\n      \u003cth\u003e13\u003c/th\u003e\n      \u003ctd\u003ePoison\u003c/td\u003e\n      \u003ctd\u003e400\u003c/td\u003e\n      \u003ctd\u003e205\u003c/td\u003e\n    \u003c/tr\u003e\n    \u003ctr\u003e\n      \u003cth\u003e17\u003c/th\u003e\n      \u003ctd\u003eWater\u003c/td\u003e\n      \u003ctd\u003e400\u003c/td\u003e\n      \u003ctd\u003e200\u003c/td\u003e\n    \u003c/tr\u003e\n  \u003c/tbody\u003e\n\u003c/table\u003e\n\u003c/div\u003e",
                        "text/plain": "      Type  Max  Min\n9    Grass  400  220\n12  Normal  395  210\n13  Poison  400  205\n17   Water  400  200"
                    },
                    "execution_count": 28,
                    "metadata": {},
                    "output_type": "execute_result"
                }
            ],
            "source": [
                "#Filtered out the pokemon w/ combat power btw 200 and 400 inclusive\n",
                "combat_power = pokemon_minus_stats[\"Total\"].values\n",
                "Filter = (combat_power \u003e= 200) * (combat_power \u003c= 400)\n",
                "pokemon1 = pokemon_minus_stats.loc[Filter, [\"Type_1\",\"Type_2\",\"Total\"]]\n",
                "\n",
                "#group pokemon by type1 and find min and max for each type and rename\n",
                "pokemon_type1 = pokemon1[[\"Type_1\",\"Total\"]]\n",
                "\n",
                "pokemon_type1_max = pokemon_type1.groupby(by=\"Type_1\").max()\n",
                "pokemon_type1_min = pokemon_type1.groupby(by=\"Type_1\").min()\n",
                "\n",
                "pokemon_type1_max.reset_index(inplace=True)\n",
                "pokemon_type1_min.reset_index(inplace=True)\n",
                "\n",
                "pokemon_type1_max.rename(columns = {\"Type_1\":\"Type\", \"Total\":\"Max\"}, inplace=True)\n",
                "pokemon_type1_min.rename(columns = {\"Type_1\":\"Type\", \"Total\":\"Min\"}, inplace=True)\n",
                "\n",
                "#group pokemon by type2 and find min and max for each type and rename\n",
                "pokemon_type2 = pokemon1[[\"Type_2\",\"Total\"]]\n",
                "\n",
                "pokemon_type2_max = pokemon_type2.groupby(by=\"Type_2\").max()\n",
                "pokemon_type2_min = pokemon_type2.groupby(by=\"Type_2\").min()\n",
                "\n",
                "pokemon_type2_max.reset_index(inplace=True)\n",
                "pokemon_type2_min.reset_index(inplace=True)\n",
                "\n",
                "pokemon_type2_max.rename(columns = {\"Type_2\":\"Type\", \"Total\":\"Max\"}, inplace=True)\n",
                "pokemon_type2_min.rename(columns = {\"Type_2\":\"Type\", \"Total\":\"Min\"}, inplace=True)\n",
                "\n",
                "#combine type1 and type 2 table max and min\n",
                "pokemon_max = pd.concat([pokemon_type1_max, pokemon_type2_max])\n",
                "pokemon_max = pokemon_max.groupby(by=\"Type\").max()\n",
                "pokemon_max.reset_index(inplace=True)\n",
                "\n",
                "pokemon_min = pd.concat([pokemon_type1_min, pokemon_type2_min])\n",
                "pokemon_min = pokemon_min.groupby(by=\"Type\").min()\n",
                "pokemon_min.reset_index(inplace=True)\n",
                "\n",
                "#combine max and min and filter out specific types\n",
                "pokemon_max_and_min = pd.merge(pokemon_max, pokemon_min, on=\"Type\")\n",
                "types = pokemon_max_and_min[\"Type\"].values\n",
                "Filter = (types == \"Grass\") | (types == \"Poison\") | (types ==  \"Water\") | (types == \"Normal\")\n",
                "pokemon_max_and_min.loc[Filter,[\"Type\",\"Max\",\"Min\"]]"
            ]
        },
        {
            "attachments": {},
            "cell_type": "markdown",
            "metadata": {},
            "source": [
                "## Q9. [5 Points]\n",
                "\n",
                "What is the average total compact power of legendary and nonlegendary pokémon for each generation? Present the information using the following format:\n",
                "\n",
                "||Legendary_avg|NonLegendary_avg|\n",
                "|---|---|---|\n",
                "|**Geneneration**||||\n",
                "|**6**|?|?|\n",
                "|**5**|?|?|\n",
                "|**4**|?|?|\n",
                "|**3**|?|?|\n",
                "|**2**|?|?|\n",
                "|**1**|?|?|\n",
                "\n",
                "In this table, `Generation` should be row labels.\n",
                "\n",
                "Each cell should give the average combact power of all legendary or nonlegendary pokemon belong to each generation."
            ]
        },
        {
            "cell_type": "code",
            "execution_count": 11,
            "metadata": {},
            "outputs": [
                {
                    "data": {
                        "text/html": "\u003cdiv\u003e\n\u003cstyle scoped\u003e\n    .dataframe tbody tr th:only-of-type {\n        vertical-align: middle;\n    }\n\n    .dataframe tbody tr th {\n        vertical-align: top;\n    }\n\n    .dataframe thead th {\n        text-align: right;\n    }\n\u003c/style\u003e\n\u003ctable border=\"1\" class=\"dataframe\"\u003e\n  \u003cthead\u003e\n    \u003ctr style=\"text-align: right;\"\u003e\n      \u003cth\u003e\u003c/th\u003e\n      \u003cth\u003eLegendary_avg\u003c/th\u003e\n      \u003cth\u003eNonLegendary_avg\u003c/th\u003e\n    \u003c/tr\u003e\n    \u003ctr\u003e\n      \u003cth\u003eGeneration\u003c/th\u003e\n      \u003cth\u003e\u003c/th\u003e\n      \u003cth\u003e\u003c/th\u003e\n    \u003c/tr\u003e\n  \u003c/thead\u003e\n  \u003ctbody\u003e\n    \u003ctr\u003e\n      \u003cth\u003e6\u003c/th\u003e\n      \u003ctd\u003e626.666667\u003c/td\u003e\n      \u003ctd\u003e411.666667\u003c/td\u003e\n    \u003c/tr\u003e\n    \u003ctr\u003e\n      \u003cth\u003e5\u003c/th\u003e\n      \u003ctd\u003e612.000000\u003c/td\u003e\n      \u003ctd\u003e412.520548\u003c/td\u003e\n    \u003c/tr\u003e\n    \u003ctr\u003e\n      \u003cth\u003e4\u003c/th\u003e\n      \u003ctd\u003e633.636364\u003c/td\u003e\n      \u003ctd\u003e424.229167\u003c/td\u003e\n    \u003c/tr\u003e\n    \u003ctr\u003e\n      \u003cth\u003e3\u003c/th\u003e\n      \u003ctd\u003e616.000000\u003c/td\u003e\n      \u003ctd\u003e384.944000\u003c/td\u003e\n    \u003c/tr\u003e\n    \u003ctr\u003e\n      \u003cth\u003e2\u003c/th\u003e\n      \u003ctd\u003e620.000000\u003c/td\u003e\n      \u003ctd\u003e394.926316\u003c/td\u003e\n    \u003c/tr\u003e\n    \u003ctr\u003e\n      \u003cth\u003e1\u003c/th\u003e\n      \u003ctd\u003e605.000000\u003c/td\u003e\n      \u003ctd\u003e401.693878\u003c/td\u003e\n    \u003c/tr\u003e\n  \u003c/tbody\u003e\n\u003c/table\u003e\n\u003c/div\u003e",
                        "text/plain": "            Legendary_avg  NonLegendary_avg\nGeneration                                 \n6              626.666667        411.666667\n5              612.000000        412.520548\n4              633.636364        424.229167\n3              616.000000        384.944000\n2              620.000000        394.926316\n1              605.000000        401.693878"
                    },
                    "execution_count": 11,
                    "metadata": {},
                    "output_type": "execute_result"
                }
            ],
            "source": [
                "#filter out legendary and nonlegendary\n",
                "legendary = pokemon_minus_stats[\"Legendary\"].values\n",
                "filter_legendary = (legendary == True)\n",
                "filter_nonlegendary = (legendary == False)\n",
                "\n",
                "#find average of legendary \u0026 nonlegendary \n",
                "legend = pokemon_minus_stats.loc[filter_legendary, [\"Generation\", \"Total\"]]\n",
                "legend = legend.groupby(by=\"Generation\").mean()\n",
                "\n",
                "nonlegend = pokemon_minus_stats.loc[filter_nonlegendary, [\"Generation\", \"Total\"]]\n",
                "nonlegend = nonlegend.groupby(by=\"Generation\").mean()\n",
                "\n",
                "#combine legendary and nonlegendary; rename and sort columns\n",
                "avg_total_compact_power = pd.merge(legend, nonlegend, left_on=\"Generation\", right_on=\"Generation\")\n",
                "avg_total_compact_power.rename(columns={\"Total_x\":\"Legendary_avg\", \"Total_y\":\"NonLegendary_avg\"}, inplace=True)\n",
                "avg_total_compact_power.sort_values(\"Generation\", ascending=False, inplace=True)\n",
                "avg_total_compact_power"
            ]
        }
    ]
}
