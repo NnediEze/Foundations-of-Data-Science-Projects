{
    "metadata": {
        "kernelspec": {
            "name": "python3",
            "display_name": "Python 3",
            "language": "python"
        }
    },
    "nbformat": 4,
    "nbformat_minor": 4,
    "cells": [
        {
            "cell_type": "code",
            "execution_count": 46,
            "metadata": {},
            "outputs": [],
            "source": [
                "import numpy as np"
            ]
        },
        {
            "attachments": {},
            "cell_type": "markdown",
            "metadata": {},
            "source": [
                "## Setting\n",
                "\n",
                "Because of the loss of accuracy of float values, sometimes we might observe behaviors that contradict to our expectation.\n",
                "\n",
                "For example, in our lecture, we have seen `((2)**0.5)**2==2` returns `False`. The reasons for this result is due to the loss of accuracy of float values.\n",
                "\n",
                "To deal with situations like this, engineers adopt the concept of tolerance to identify whether two values are different due to the loss of accuracy of float values. The idea is to compute the absolute value of the difference between two values, if two values have a very small difference, then we can assume the difference is small enough and might be due to the loss of precision of floating-point values.\n",
                "\n",
                "More formally, assume we have two numbers $a$ and $b$. If $a$ and $b$ follow\n",
                "\n",
                "$|a-b|\u003c=atol+rtol*|b|$, then these values are defined as being close enough to be the same.\n",
                "\n",
                "`atol` and `rtol` are usually small positive values, such as $10^{-8}$."
            ]
        },
        {
            "attachments": {},
            "cell_type": "markdown",
            "metadata": {},
            "source": [
                "## Q1. [3 Points]\n",
                "\n",
                "You can use `np.abs(x)` to compute the absolute value of a single value or every element inside an array\n",
                "depends on the structure of $x$.\n",
                "\n",
                "Based on the formula, check if $(\\sqrt{2})^{2}$ and $2$ close enough to be the same when $atol=10^{-8}$ and $rtol=10^{-5}$"
            ]
        },
        {
            "cell_type": "code",
            "execution_count": 47,
            "metadata": {},
            "outputs": [],
            "source": [
                "a = np.sqrt(2)**2\n",
                "b = 2\n",
                "atol = 10**-8\n",
                "rtol = 10**-5"
            ]
        },
        {
            "cell_type": "code",
            "execution_count": 48,
            "metadata": {},
            "outputs": [
                {
                    "data": {
                        "text/plain": "True"
                    },
                    "execution_count": 48,
                    "metadata": {},
                    "output_type": "execute_result"
                }
            ],
            "source": [
                "np.abs(a-b) \u003c= (atol + rtol * np.abs(b))"
            ]
        },
        {
            "attachments": {},
            "cell_type": "markdown",
            "metadata": {},
            "source": [
                "## Q2. [4 points]\n",
                "\n",
                "Someone constructed array `A1` using  `A1=np.arange(2.5,5.55, 0.1)`\n",
                "\n",
                "Assuming this is no loss of accuracy, implemented both method 1 and method 2\n",
                "\n",
                "* Method 1\n",
                "\u003e* Use np.where() to get the indices of elements inside `A1` being higher than 3.\n",
                "\u003e* Use these indices to print out elements inside A1 that satisfy the condition.\n",
                "* Method 2\n",
                "\u003e * Achieve the same result using Boolean mask. "
            ]
        },
        {
            "cell_type": "code",
            "execution_count": 61,
            "metadata": {},
            "outputs": [
                {
                    "data": {
                        "text/plain": "array([2.5, 2.6, 2.7, 2.8, 2.9, 3. , 3.1, 3.2, 3.3, 3.4, 3.5, 3.6, 3.7,\n       3.8, 3.9, 4. , 4.1, 4.2, 4.3, 4.4, 4.5, 4.6, 4.7, 4.8, 4.9, 5. ,\n       5.1, 5.2, 5.3, 5.4, 5.5])"
                    },
                    "execution_count": 61,
                    "metadata": {},
                    "output_type": "execute_result"
                }
            ],
            "source": [
                "A1 = np.arange(2.5,5.55,0.1)\n",
                "A1"
            ]
        },
        {
            "cell_type": "code",
            "execution_count": 60,
            "metadata": {},
            "outputs": [
                {
                    "name": "stdout",
                    "output_type": "stream",
                    "text": "[3.  3.1 3.2 3.3 3.4 3.5 3.6 3.7 3.8 3.9 4.  4.1 4.2 4.3 4.4 4.5 4.6 4.7\n 4.8 4.9 5.  5.1 5.2 5.3 5.4 5.5]\n"
                }
            ],
            "source": [
                "#Method1\n",
                "A1_indices = np.where(A1 \u003e 3)\n",
                "print(A1[A1_indices])"
            ]
        },
        {
            "cell_type": "code",
            "execution_count": 59,
            "metadata": {},
            "outputs": [
                {
                    "name": "stdout",
                    "output_type": "stream",
                    "text": "[3.  3.1 3.2 3.3 3.4 3.5 3.6 3.7 3.8 3.9 4.  4.1 4.2 4.3 4.4 4.5 4.6 4.7\n 4.8 4.9 5.  5.1 5.2 5.3 5.4 5.5]\n"
                }
            ],
            "source": [
                "#Method2 \n",
                "Bool1 = A1 \u003e 3\n",
                "print(A1[Bool1])"
            ]
        },
        {
            "attachments": {},
            "cell_type": "markdown",
            "metadata": {},
            "source": [
                "## Q3. [4 Points]\n",
                "\n",
                "Now, let's define higher than 3 slightly differently by including a tolerance to handle the loss of accuracy due to floating-point values.  \n",
                "\n",
                "$a$ is higher than $b$ if both conditions are satisfied\n",
                "\n",
                "\u003col\u003e\n",
                "\u003cli\u003e$a\u003eb$\u003c/li\u003e\n",
                "\u003cli\u003e$|a-b|\u003eatol+rtol*|b|$\u003c/li\u003e\n",
                "\u003c/ol\u003e\n",
                "\n",
                "\n",
                "* Use np.where() to get the indices of elements inside `A1` being higher than 3. Again, let's assume $atol=10^{-8}$ and $rtol=10^{-5}$.\n",
                "* Use these indices to print out elements inside A1 that satisfy the condition.\n",
                ""
            ]
        },
        {
            "cell_type": "code",
            "execution_count": 52,
            "metadata": {},
            "outputs": [],
            "source": [
                "A1_indices = np.where(A1\u003e3)\n",
                "a = A1[A1_indices]\n",
                "b = 3\n",
                "atol = 10**-8\n",
                "rtol = 10**-5"
            ]
        },
        {
            "cell_type": "code",
            "execution_count": 58,
            "metadata": {},
            "outputs": [
                {
                    "name": "stdout",
                    "output_type": "stream",
                    "text": "[3.1 3.2 3.3 3.4 3.5 3.6 3.7 3.8 3.9 4.  4.1 4.2 4.3 4.4 4.5 4.6 4.7 4.8\n 4.9 5.  5.1 5.2 5.3 5.4 5.5]\n"
                }
            ],
            "source": [
                "bool_indices = np.abs(a-b) \u003e (atol + rtol * np.abs(b))\n",
                "print(a[bool_indices])"
            ]
        },
        {
            "cell_type": "code",
            "execution_count": 54,
            "metadata": {},
            "outputs": [],
            "source": [
                ""
            ]
        }
    ]
}
