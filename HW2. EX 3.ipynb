{
    "metadata": {
        "kernelspec": {
            "name": "python3",
            "display_name": "Python 3",
            "language": "python"
        }
    },
    "nbformat": 4,
    "nbformat_minor": 4,
    "cells": [
        {
            "cell_type": "code",
            "execution_count": 7,
            "metadata": {},
            "outputs": [],
            "source": [
                "import numpy as np\n",
                "import pandas as pd"
            ]
        },
        {
            "attachments": {},
            "cell_type": "markdown",
            "metadata": {},
            "source": [
                "## Setting\n",
                "\n",
                "\u003cimg src=https://upload.wikimedia.org/wikipedia/commons/2/2b/Billboard_Hot_100_logo.jpg width=\"200x\" height=\"100x\"\u003e \n",
                "\n",
                "\n",
                "Billboard Hot100 is a music chart that ranks the most popular songs of the week. In the \"Billboard.csv\" file, we provide the chart information for the week of Jan 30, 2021. \n",
                "\n",
                "\n",
                "\n",
                "In the chart, you see the following information: \n",
                "\n",
                "|column|explanation|\n",
                "|:---|:---|\n",
                "|rank|position in the current week|\n",
                "|title| name of the song|\n",
                "|singer| singer of the song|\n",
                "|lastweek| position in the last week, -1 means the song was not on chart last week|\n",
                "|peak| highest position on the chart|\n",
                "|weeksonchart| the number of weeks on chart|\n",
                "\n",
                "The data is sorted based on the position in the current week from the smallest to the largest."
            ]
        },
        {
            "attachments": {},
            "cell_type": "markdown",
            "metadata": {},
            "source": [
                "## Q1. [3 Points]\n",
                "\n",
                "* Load the dataset \"Billboard.csv\" as a DataFrame. \n",
                "* Use a Pandas attribute to report the number of songs on the chart. \n",
                "* Print out datatype of elements in each column"
            ]
        },
        {
            "cell_type": "code",
            "execution_count": 8,
            "metadata": {},
            "outputs": [
                {
                    "name": "stdout",
                    "output_type": "stream",
                    "text": "Number of songs = 100\nrank             int64\ntitle           object\nsinger          object\nlastweek         int64\npeak             int64\nweeksonchart     int64\ndtype: object\n"
                }
            ],
            "source": [
                "Billboard = pd.read_csv(\"Billboard.csv\")\n",
                "print(\"Number of songs =\", Billboard.shape[0])\n",
                "print(Billboard.dtypes)"
            ]
        },
        {
            "attachments": {},
            "cell_type": "markdown",
            "metadata": {},
            "source": [
                "## Q2. [4 Points]\n",
                "\n",
                "* Store the title of the top 10 songs of the current week in a Pandas series. Print out the value of the Pandas Series.\n",
                "\n",
                ""
            ]
        },
        {
            "cell_type": "code",
            "execution_count": 9,
            "metadata": {},
            "outputs": [
                {
                    "name": "stdout",
                    "output_type": "stream",
                    "text": "0    Drivers License\n1              34+35\n2               Mood\n3    Blinding Lights\n4          Positions\n5         Levitating\n6           Go Crazy\n7               Holy\n8              Bang!\n9          Good Days\nName: title, dtype: object\n"
                },
                {
                    "data": {
                        "text/plain": "pandas.core.series.Series"
                    },
                    "execution_count": 9,
                    "metadata": {},
                    "output_type": "execute_result"
                }
            ],
            "source": [
                "top10 = Billboard.loc[:9,\"title\"]\n",
                "print(top10)\n",
                "type(top10)"
            ]
        },
        {
            "attachments": {},
            "cell_type": "markdown",
            "metadata": {},
            "source": [
                "## Q3. [4 Points]\n",
                "\n",
                "* How many top 100 songs from the last week did not make the chart this week? Store this value in a variable and print out the value.\n",
                "\n",
                "Your answer should not be based on eye-balling the answer."
            ]
        },
        {
            "cell_type": "code",
            "execution_count": 15,
            "metadata": {},
            "outputs": [
                {
                    "name": "stdout",
                    "output_type": "stream",
                    "text": "14\n"
                }
            ],
            "source": [
                "#find all negative ones in last week column \n",
                "lastweek = Billboard[\"lastweek\"].values\n",
                "Filter = (lastweek == -1)\n",
                "not_lastweek = Billboard[Filter]\n",
                "songs = len(not_lastweek)\n",
                "print(songs)"
            ]
        },
        {
            "attachments": {},
            "cell_type": "markdown",
            "metadata": {},
            "source": [
                "## Q4. [5 Points]\n",
                "\n",
                "* What are the names of singers whose songs not only are currently on chart but also peaked at top 5 either in this week or in a previous week?  Store the names in an array and print out the values.\n",
                "\n",
                "If a singer appears several times, print their name only once. For songs with several singers, treat the combination as a seperate singer.\n",
                "\n",
                "Your answer should not be based on eye-balling the answer."
            ]
        },
        {
            "cell_type": "code",
            "execution_count": 11,
            "metadata": {},
            "outputs": [
                {
                    "name": "stdout",
                    "output_type": "stream",
                    "text": "['24kGoldn Featuring iann dior' 'Ariana Grande' 'BTS'\n 'Bad Bunny \u0026 Jhay Cortez' 'Billie Eilish'\n 'Cardi B Featuring Megan Thee Stallion' 'Chris Brown \u0026 Young Thug'\n 'DaBaby Featuring Roddy Ricch' 'Drake Featuring Lil Durk'\n 'Gabby Barrett Featuring Charlie Puth'\n 'Jack Harlow Featuring DaBaby, Tory Lanez \u0026 Lil Wayne'\n 'Jawsh 685 x Jason Derulo' 'Justin Bieber Featuring Chance The Rapper'\n 'Luke Combs' 'Olivia Rodrigo' 'Taylor Swift' 'The Weeknd']\n"
                }
            ],
            "source": [
                "#if peak is less than or equal to 5\n",
                "#use np.unique\n",
                "peak = Billboard[\"peak\"].values\n",
                "Filter = (peak \u003c= 5)\n",
                "\n",
                "top5_songs = Billboard[Filter]\n",
                "singers = np.unique(top5_songs[\"singer\"].values)\n",
                "print(singers)"
            ]
        },
        {
            "attachments": {},
            "cell_type": "markdown",
            "metadata": {},
            "source": [
                "## Q5 [6 Points]\n",
                "\n",
                "\n",
                "* What are the titles of songs and singer names of songs that re-entered the chart this week? Store the information in a DataFrame and print out the values.\n",
                "\n",
                "Re-entry means a song  \n",
                "\u003e * is currently on chart. \n",
                "\u003e * has been on the chart before\n",
                "\u003e* did not appear in the song in the last week.   \n",
                "\n",
                "Your answer should not be based on eye-balling the answer.\n",
                ""
            ]
        },
        {
            "cell_type": "code",
            "execution_count": 12,
            "metadata": {},
            "outputs": [
                {
                    "data": {
                        "text/html": "\u003cdiv\u003e\n\u003cstyle scoped\u003e\n    .dataframe tbody tr th:only-of-type {\n        vertical-align: middle;\n    }\n\n    .dataframe tbody tr th {\n        vertical-align: top;\n    }\n\n    .dataframe thead th {\n        text-align: right;\n    }\n\u003c/style\u003e\n\u003ctable border=\"1\" class=\"dataframe\"\u003e\n  \u003cthead\u003e\n    \u003ctr style=\"text-align: right;\"\u003e\n      \u003cth\u003e\u003c/th\u003e\n      \u003cth\u003etitle\u003c/th\u003e\n      \u003cth\u003esinger\u003c/th\u003e\n    \u003c/tr\u003e\n  \u003c/thead\u003e\n  \u003ctbody\u003e\n    \u003ctr\u003e\n      \u003cth\u003e90\u003c/th\u003e\n      \u003ctd\u003eGirl Like Me\u003c/td\u003e\n      \u003ctd\u003eBlack Eyed Peas X Shakira\u003c/td\u003e\n    \u003c/tr\u003e\n    \u003ctr\u003e\n      \u003cth\u003e92\u003c/th\u003e\n      \u003ctd\u003eMomma's House\u003c/td\u003e\n      \u003ctd\u003eDustin Lynch\u003c/td\u003e\n    \u003c/tr\u003e\n    \u003ctr\u003e\n      \u003cth\u003e94\u003c/th\u003e\n      \u003ctd\u003eLady\u003c/td\u003e\n      \u003ctd\u003eBrett Young\u003c/td\u003e\n    \u003c/tr\u003e\n    \u003ctr\u003e\n      \u003cth\u003e95\u003c/th\u003e\n      \u003ctd\u003eDrankin N Smokin\u003c/td\u003e\n      \u003ctd\u003eFuture \u0026amp; Lil Uzi Vert\u003c/td\u003e\n    \u003c/tr\u003e\n    \u003ctr\u003e\n      \u003cth\u003e97\u003c/th\u003e\n      \u003ctd\u003eOne Too Many\u003c/td\u003e\n      \u003ctd\u003eKeith Urban Duet With P!nk\u003c/td\u003e\n    \u003c/tr\u003e\n    \u003ctr\u003e\n      \u003cth\u003e98\u003c/th\u003e\n      \u003ctd\u003eHell Of A View\u003c/td\u003e\n      \u003ctd\u003eEric Church\u003c/td\u003e\n    \u003c/tr\u003e\n  \u003c/tbody\u003e\n\u003c/table\u003e\n\u003c/div\u003e",
                        "text/plain": "               title                      singer\n90      Girl Like Me   Black Eyed Peas X Shakira\n92     Momma's House                Dustin Lynch\n94              Lady                 Brett Young\n95  Drankin N Smokin       Future \u0026 Lil Uzi Vert\n97      One Too Many  Keith Urban Duet With P!nk\n98    Hell Of A View                 Eric Church"
                    },
                    "execution_count": 12,
                    "metadata": {},
                    "output_type": "execute_result"
                }
            ],
            "source": [
                "lastweek = Billboard[\"lastweek\"].values\n",
                "weeksonchart = Billboard[\"weeksonchart\"].values \n",
                "Filter = (lastweek == -1) * (weeksonchart \u003e 1)\n",
                "chart1 = Billboard[Filter].loc[:, \"title\":\"singer\":1]\n",
                "chart1"
            ]
        },
        {
            "attachments": {},
            "cell_type": "markdown",
            "metadata": {},
            "source": [
                "## Q6. [6 Points]\n",
                "\n",
                "What are the titles of songs that \n",
                "* stayed on chart both in this week and in the last week, and\n",
                "* rose by more than 10 positions since last week?  \n",
                "\n",
                "Store the names in an array and print out the values.\n",
                "\n",
                "Your answer should not be based on eye-balling the answer.\n",
                ""
            ]
        },
        {
            "cell_type": "code",
            "execution_count": 13,
            "metadata": {},
            "outputs": [
                {
                    "name": "stdout",
                    "output_type": "stream",
                    "text": "['Wasted On You' 'More Than My Hometown' 'Still Goin Down' 'Monster'\n 'Cover Me Up' 'Warning' '865' 'Dangerous']\n"
                }
            ],
            "source": [
                "lastweek = Billboard[\"lastweek\"].values\n",
                "rank = Billboard[\"rank\"].values\n",
                "Filter = (lastweek \u003e -1) * (rank - lastweek \u003e 10)\n",
                "songs = Billboard[Filter][\"title\"].values\n",
                "print(songs)"
            ]
        },
        {
            "attachments": {},
            "cell_type": "markdown",
            "metadata": {},
            "source": [
                "## Q7. [7 Points]\n",
                "Report the following information for the top 10 longest running songs (measured by weeks on chart):\n",
                "\n",
                "    * title\n",
                "    * singer\n",
                "    * peak\n",
                "    * weeksonchart\n",
                "    \n",
                "You need to use `np.argsort()` to help yourself find the answer. "
            ]
        },
        {
            "cell_type": "code",
            "execution_count": 14,
            "metadata": {},
            "outputs": [
                {
                    "data": {
                        "text/html": "\u003cdiv\u003e\n\u003cstyle scoped\u003e\n    .dataframe tbody tr th:only-of-type {\n        vertical-align: middle;\n    }\n\n    .dataframe tbody tr th {\n        vertical-align: top;\n    }\n\n    .dataframe thead th {\n        text-align: right;\n    }\n\u003c/style\u003e\n\u003ctable border=\"1\" class=\"dataframe\"\u003e\n  \u003cthead\u003e\n    \u003ctr style=\"text-align: right;\"\u003e\n      \u003cth\u003e\u003c/th\u003e\n      \u003cth\u003etitle\u003c/th\u003e\n      \u003cth\u003esinger\u003c/th\u003e\n      \u003cth\u003epeak\u003c/th\u003e\n      \u003cth\u003eweeksonchart\u003c/th\u003e\n    \u003c/tr\u003e\n  \u003c/thead\u003e\n  \u003ctbody\u003e\n    \u003ctr\u003e\n      \u003cth\u003e3\u003c/th\u003e\n      \u003ctd\u003eBlinding Lights\u003c/td\u003e\n      \u003ctd\u003eThe Weeknd\u003c/td\u003e\n      \u003ctd\u003e1\u003c/td\u003e\n      \u003ctd\u003e59\u003c/td\u003e\n    \u003c/tr\u003e\n    \u003ctr\u003e\n      \u003cth\u003e11\u003c/th\u003e\n      \u003ctd\u003eI Hope\u003c/td\u003e\n      \u003ctd\u003eGabby Barrett Featuring Charlie Puth\u003c/td\u003e\n      \u003ctd\u003e3\u003c/td\u003e\n      \u003ctd\u003e56\u003c/td\u003e\n    \u003c/tr\u003e\n    \u003ctr\u003e\n      \u003cth\u003e42\u003c/th\u003e\n      \u003ctd\u003eWhats Poppin\u003c/td\u003e\n      \u003ctd\u003eJack Harlow Featuring DaBaby, Tory Lanez \u0026amp; Lil...\u003c/td\u003e\n      \u003ctd\u003e2\u003c/td\u003e\n      \u003ctd\u003e49\u003c/td\u003e\n    \u003c/tr\u003e\n    \u003ctr\u003e\n      \u003cth\u003e29\u003c/th\u003e\n      \u003ctd\u003eBefore You Go\u003c/td\u003e\n      \u003ctd\u003eLewis Capaldi\u003c/td\u003e\n      \u003ctd\u003e9\u003c/td\u003e\n      \u003ctd\u003e48\u003c/td\u003e\n    \u003c/tr\u003e\n    \u003ctr\u003e\n      \u003cth\u003e36\u003c/th\u003e\n      \u003ctd\u003eRockstar\u003c/td\u003e\n      \u003ctd\u003eDaBaby Featuring Roddy Ricch\u003c/td\u003e\n      \u003ctd\u003e1\u003c/td\u003e\n      \u003ctd\u003e39\u003c/td\u003e\n    \u003c/tr\u003e\n    \u003ctr\u003e\n      \u003cth\u003e6\u003c/th\u003e\n      \u003ctd\u003eGo Crazy\u003c/td\u003e\n      \u003ctd\u003eChris Brown \u0026amp; Young Thug\u003c/td\u003e\n      \u003ctd\u003e5\u003c/td\u003e\n      \u003ctd\u003e37\u003c/td\u003e\n    \u003c/tr\u003e\n    \u003ctr\u003e\n      \u003cth\u003e47\u003c/th\u003e\n      \u003ctd\u003eSavage Love (Laxed - Siren Beat)\u003c/td\u003e\n      \u003ctd\u003eJawsh 685 x Jason Derulo\u003c/td\u003e\n      \u003ctd\u003e1\u003c/td\u003e\n      \u003ctd\u003e30\u003c/td\u003e\n    \u003c/tr\u003e\n    \u003ctr\u003e\n      \u003cth\u003e26\u003c/th\u003e\n      \u003ctd\u003eMore Than My Hometown\u003c/td\u003e\n      \u003ctd\u003eMorgan Wallen\u003c/td\u003e\n      \u003ctd\u003e15\u003c/td\u003e\n      \u003ctd\u003e30\u003c/td\u003e\n    \u003c/tr\u003e\n    \u003ctr\u003e\n      \u003cth\u003e8\u003c/th\u003e\n      \u003ctd\u003eBang!\u003c/td\u003e\n      \u003ctd\u003eAJR\u003c/td\u003e\n      \u003ctd\u003e8\u003c/td\u003e\n      \u003ctd\u003e29\u003c/td\u003e\n    \u003c/tr\u003e\n    \u003ctr\u003e\n      \u003cth\u003e10\u003c/th\u003e\n      \u003ctd\u003eFor The Night\u003c/td\u003e\n      \u003ctd\u003ePop Smoke Featuring Lil Baby \u0026amp; DaBaby\u003c/td\u003e\n      \u003ctd\u003e6\u003c/td\u003e\n      \u003ctd\u003e29\u003c/td\u003e\n    \u003c/tr\u003e\n  \u003c/tbody\u003e\n\u003c/table\u003e\n\u003c/div\u003e",
                        "text/plain": "                               title  \\\n3                    Blinding Lights   \n11                            I Hope   \n42                      Whats Poppin   \n29                     Before You Go   \n36                          Rockstar   \n6                           Go Crazy   \n47  Savage Love (Laxed - Siren Beat)   \n26             More Than My Hometown   \n8                              Bang!   \n10                     For The Night   \n\n                                               singer  peak  weeksonchart  \n3                                          The Weeknd     1            59  \n11               Gabby Barrett Featuring Charlie Puth     3            56  \n42  Jack Harlow Featuring DaBaby, Tory Lanez \u0026 Lil...     2            49  \n29                                      Lewis Capaldi     9            48  \n36                       DaBaby Featuring Roddy Ricch     1            39  \n6                            Chris Brown \u0026 Young Thug     5            37  \n47                           Jawsh 685 x Jason Derulo     1            30  \n26                                      Morgan Wallen    15            30  \n8                                                 AJR     8            29  \n10              Pop Smoke Featuring Lil Baby \u0026 DaBaby     6            29  "
                    },
                    "execution_count": 14,
                    "metadata": {},
                    "output_type": "execute_result"
                }
            ],
            "source": [
                "weeksonchart = Billboard[\"weeksonchart\"].values \n",
                "top10 = np.argsort(weeksonchart)[[-1,-2,-3,-4,-5,-6,-7,-8,-9,-10]]\n",
                "Billboard.iloc[top10, [1,2,4,5]]"
            ]
        }
    ]
}
