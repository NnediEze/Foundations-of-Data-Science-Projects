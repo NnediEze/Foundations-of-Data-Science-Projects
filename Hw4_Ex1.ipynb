{
    "metadata": {
        "kernelspec": {
            "name": "python3",
            "display_name": "Python 3",
            "language": "python"
        }
    },
    "nbformat": 4,
    "nbformat_minor": 2,
    "cells": [
        {
            "cell_type": "code",
            "execution_count": 1,
            "metadata": {},
            "outputs": [],
            "source": [
                "import pandas as pd\n",
                "#pd.set_option(\"max_rows\",None)\n",
                "#pd.set_option('display.max_colwidth', None)\n",
                "import numpy as np"
            ]
        },
        {
            "attachments": {},
            "cell_type": "markdown",
            "metadata": {},
            "source": [
                "## Setting \n",
                "\n",
                "The following table gives the 3 digits area code of North American phone numbers. \n",
                "Let's use ABC to represent these 3 digits.\n",
                "\n",
                "A can only be between 2-9\n",
                "\n",
                "B and C can be between 0 and 9\n",
                "\n",
                "The following table gives the following information of the area code of North American phone numbers.\n",
                "\n",
                "|Variable|Explanation|\n",
                "|---|---|\n",
                "|Code|3 digit area code|\n",
                "|Code_1d|first digit of the area code|\n",
                "|ASSIGNABLE|whether the area code can be assigned\n",
                "|RESERVED|whether the area code has been reserved|\n",
                "|ASSIGNED|whether the area has been assigned|\n",
                "|Location|If this area os assigned, which area it is assigned to|\n",
                ""
            ]
        },
        {
            "cell_type": "code",
            "execution_count": 2,
            "metadata": {},
            "outputs": [
                {
                    "data": {
                        "text/html": "\u003cdiv\u003e\n\u003cstyle scoped\u003e\n    .dataframe tbody tr th:only-of-type {\n        vertical-align: middle;\n    }\n\n    .dataframe tbody tr th {\n        vertical-align: top;\n    }\n\n    .dataframe thead th {\n        text-align: right;\n    }\n\u003c/style\u003e\n\u003ctable border=\"1\" class=\"dataframe\"\u003e\n  \u003cthead\u003e\n    \u003ctr style=\"text-align: right;\"\u003e\n      \u003cth\u003e\u003c/th\u003e\n      \u003cth\u003eCode\u003c/th\u003e\n      \u003cth\u003eCode_1d\u003c/th\u003e\n      \u003cth\u003eASSIGNABLE\u003c/th\u003e\n      \u003cth\u003eRESERVED\u003c/th\u003e\n      \u003cth\u003eASSIGNED\u003c/th\u003e\n      \u003cth\u003eLocation\u003c/th\u003e\n    \u003c/tr\u003e\n  \u003c/thead\u003e\n  \u003ctbody\u003e\n    \u003ctr\u003e\n      \u003cth\u003e0\u003c/th\u003e\n      \u003ctd\u003e200\u003c/td\u003e\n      \u003ctd\u003e2\u003c/td\u003e\n      \u003ctd\u003eYes\u003c/td\u003e\n      \u003ctd\u003eNo\u003c/td\u003e\n      \u003ctd\u003eNo\u003c/td\u003e\n      \u003ctd\u003eNaN\u003c/td\u003e\n    \u003c/tr\u003e\n    \u003ctr\u003e\n      \u003cth\u003e1\u003c/th\u003e\n      \u003ctd\u003e201\u003c/td\u003e\n      \u003ctd\u003e2\u003c/td\u003e\n      \u003ctd\u003eYes\u003c/td\u003e\n      \u003ctd\u003eNo\u003c/td\u003e\n      \u003ctd\u003eYes\u003c/td\u003e\n      \u003ctd\u003eNJ,US\u003c/td\u003e\n    \u003c/tr\u003e\n    \u003ctr\u003e\n      \u003cth\u003e2\u003c/th\u003e\n      \u003ctd\u003e202\u003c/td\u003e\n      \u003ctd\u003e2\u003c/td\u003e\n      \u003ctd\u003eYes\u003c/td\u003e\n      \u003ctd\u003eNo\u003c/td\u003e\n      \u003ctd\u003eYes\u003c/td\u003e\n      \u003ctd\u003eDC,US\u003c/td\u003e\n    \u003c/tr\u003e\n    \u003ctr\u003e\n      \u003cth\u003e3\u003c/th\u003e\n      \u003ctd\u003e203\u003c/td\u003e\n      \u003ctd\u003e2\u003c/td\u003e\n      \u003ctd\u003eYes\u003c/td\u003e\n      \u003ctd\u003eNo\u003c/td\u003e\n      \u003ctd\u003eYes\u003c/td\u003e\n      \u003ctd\u003eCT,US\u003c/td\u003e\n    \u003c/tr\u003e\n    \u003ctr\u003e\n      \u003cth\u003e4\u003c/th\u003e\n      \u003ctd\u003e204\u003c/td\u003e\n      \u003ctd\u003e2\u003c/td\u003e\n      \u003ctd\u003eYes\u003c/td\u003e\n      \u003ctd\u003eNo\u003c/td\u003e\n      \u003ctd\u003eYes\u003c/td\u003e\n      \u003ctd\u003eMANITOBA,CANADA\u003c/td\u003e\n    \u003c/tr\u003e\n    \u003ctr\u003e\n      \u003cth\u003e...\u003c/th\u003e\n      \u003ctd\u003e...\u003c/td\u003e\n      \u003ctd\u003e...\u003c/td\u003e\n      \u003ctd\u003e...\u003c/td\u003e\n      \u003ctd\u003e...\u003c/td\u003e\n      \u003ctd\u003e...\u003c/td\u003e\n      \u003ctd\u003e...\u003c/td\u003e\n    \u003c/tr\u003e\n    \u003ctr\u003e\n      \u003cth\u003e795\u003c/th\u003e\n      \u003ctd\u003e995\u003c/td\u003e\n      \u003ctd\u003e9\u003c/td\u003e\n      \u003ctd\u003eNo\u003c/td\u003e\n      \u003ctd\u003eNo\u003c/td\u003e\n      \u003ctd\u003eNo\u003c/td\u003e\n      \u003ctd\u003eNaN\u003c/td\u003e\n    \u003c/tr\u003e\n    \u003ctr\u003e\n      \u003cth\u003e796\u003c/th\u003e\n      \u003ctd\u003e996\u003c/td\u003e\n      \u003ctd\u003e9\u003c/td\u003e\n      \u003ctd\u003eNo\u003c/td\u003e\n      \u003ctd\u003eNo\u003c/td\u003e\n      \u003ctd\u003eNo\u003c/td\u003e\n      \u003ctd\u003eNaN\u003c/td\u003e\n    \u003c/tr\u003e\n    \u003ctr\u003e\n      \u003cth\u003e797\u003c/th\u003e\n      \u003ctd\u003e997\u003c/td\u003e\n      \u003ctd\u003e9\u003c/td\u003e\n      \u003ctd\u003eNo\u003c/td\u003e\n      \u003ctd\u003eNo\u003c/td\u003e\n      \u003ctd\u003eNo\u003c/td\u003e\n      \u003ctd\u003eNaN\u003c/td\u003e\n    \u003c/tr\u003e\n    \u003ctr\u003e\n      \u003cth\u003e798\u003c/th\u003e\n      \u003ctd\u003e998\u003c/td\u003e\n      \u003ctd\u003e9\u003c/td\u003e\n      \u003ctd\u003eNo\u003c/td\u003e\n      \u003ctd\u003eNo\u003c/td\u003e\n      \u003ctd\u003eNo\u003c/td\u003e\n      \u003ctd\u003eNaN\u003c/td\u003e\n    \u003c/tr\u003e\n    \u003ctr\u003e\n      \u003cth\u003e799\u003c/th\u003e\n      \u003ctd\u003e999\u003c/td\u003e\n      \u003ctd\u003e9\u003c/td\u003e\n      \u003ctd\u003eNo\u003c/td\u003e\n      \u003ctd\u003eNo\u003c/td\u003e\n      \u003ctd\u003eNo\u003c/td\u003e\n      \u003ctd\u003eNaN\u003c/td\u003e\n    \u003c/tr\u003e\n  \u003c/tbody\u003e\n\u003c/table\u003e\n\u003cp\u003e800 rows × 6 columns\u003c/p\u003e\n\u003c/div\u003e",
                        "text/plain": "     Code  Code_1d ASSIGNABLE RESERVED ASSIGNED         Location\n0     200        2        Yes       No       No              NaN\n1     201        2        Yes       No      Yes            NJ,US\n2     202        2        Yes       No      Yes            DC,US\n3     203        2        Yes       No      Yes            CT,US\n4     204        2        Yes       No      Yes  MANITOBA,CANADA\n..    ...      ...        ...      ...      ...              ...\n795   995        9         No       No       No              NaN\n796   996        9         No       No       No              NaN\n797   997        9         No       No       No              NaN\n798   998        9         No       No       No              NaN\n799   999        9         No       No       No              NaN\n\n[800 rows x 6 columns]"
                    },
                    "execution_count": 2,
                    "metadata": {},
                    "output_type": "execute_result"
                }
            ],
            "source": [
                "NPA=pd.read_csv(\"NPA2.csv\")\n",
                "NPA"
            ]
        },
        {
            "attachments": {},
            "cell_type": "markdown",
            "metadata": {},
            "source": [
                "## Q1 [8 Points]\n",
                "\n",
                "Replace the `Location` column with two columns. The first column gives the state information. The second column gives the country information."
            ]
        },
        {
            "cell_type": "code",
            "execution_count": 3,
            "metadata": {},
            "outputs": [
                {
                    "data": {
                        "text/html": "\u003cdiv\u003e\n\u003cstyle scoped\u003e\n    .dataframe tbody tr th:only-of-type {\n        vertical-align: middle;\n    }\n\n    .dataframe tbody tr th {\n        vertical-align: top;\n    }\n\n    .dataframe thead th {\n        text-align: right;\n    }\n\u003c/style\u003e\n\u003ctable border=\"1\" class=\"dataframe\"\u003e\n  \u003cthead\u003e\n    \u003ctr style=\"text-align: right;\"\u003e\n      \u003cth\u003e\u003c/th\u003e\n      \u003cth\u003eCode\u003c/th\u003e\n      \u003cth\u003eCode_1d\u003c/th\u003e\n      \u003cth\u003eASSIGNABLE\u003c/th\u003e\n      \u003cth\u003eRESERVED\u003c/th\u003e\n      \u003cth\u003eASSIGNED\u003c/th\u003e\n      \u003cth\u003eState\u003c/th\u003e\n      \u003cth\u003eCountry\u003c/th\u003e\n    \u003c/tr\u003e\n  \u003c/thead\u003e\n  \u003ctbody\u003e\n    \u003ctr\u003e\n      \u003cth\u003e0\u003c/th\u003e\n      \u003ctd\u003e200\u003c/td\u003e\n      \u003ctd\u003e2\u003c/td\u003e\n      \u003ctd\u003eYes\u003c/td\u003e\n      \u003ctd\u003eNo\u003c/td\u003e\n      \u003ctd\u003eNo\u003c/td\u003e\n      \u003ctd\u003eNaN\u003c/td\u003e\n      \u003ctd\u003eNaN\u003c/td\u003e\n    \u003c/tr\u003e\n    \u003ctr\u003e\n      \u003cth\u003e1\u003c/th\u003e\n      \u003ctd\u003e201\u003c/td\u003e\n      \u003ctd\u003e2\u003c/td\u003e\n      \u003ctd\u003eYes\u003c/td\u003e\n      \u003ctd\u003eNo\u003c/td\u003e\n      \u003ctd\u003eYes\u003c/td\u003e\n      \u003ctd\u003eNJ\u003c/td\u003e\n      \u003ctd\u003eUS\u003c/td\u003e\n    \u003c/tr\u003e\n    \u003ctr\u003e\n      \u003cth\u003e2\u003c/th\u003e\n      \u003ctd\u003e202\u003c/td\u003e\n      \u003ctd\u003e2\u003c/td\u003e\n      \u003ctd\u003eYes\u003c/td\u003e\n      \u003ctd\u003eNo\u003c/td\u003e\n      \u003ctd\u003eYes\u003c/td\u003e\n      \u003ctd\u003eDC\u003c/td\u003e\n      \u003ctd\u003eUS\u003c/td\u003e\n    \u003c/tr\u003e\n    \u003ctr\u003e\n      \u003cth\u003e3\u003c/th\u003e\n      \u003ctd\u003e203\u003c/td\u003e\n      \u003ctd\u003e2\u003c/td\u003e\n      \u003ctd\u003eYes\u003c/td\u003e\n      \u003ctd\u003eNo\u003c/td\u003e\n      \u003ctd\u003eYes\u003c/td\u003e\n      \u003ctd\u003eCT\u003c/td\u003e\n      \u003ctd\u003eUS\u003c/td\u003e\n    \u003c/tr\u003e\n    \u003ctr\u003e\n      \u003cth\u003e4\u003c/th\u003e\n      \u003ctd\u003e204\u003c/td\u003e\n      \u003ctd\u003e2\u003c/td\u003e\n      \u003ctd\u003eYes\u003c/td\u003e\n      \u003ctd\u003eNo\u003c/td\u003e\n      \u003ctd\u003eYes\u003c/td\u003e\n      \u003ctd\u003eMANITOBA\u003c/td\u003e\n      \u003ctd\u003eCANADA\u003c/td\u003e\n    \u003c/tr\u003e\n    \u003ctr\u003e\n      \u003cth\u003e...\u003c/th\u003e\n      \u003ctd\u003e...\u003c/td\u003e\n      \u003ctd\u003e...\u003c/td\u003e\n      \u003ctd\u003e...\u003c/td\u003e\n      \u003ctd\u003e...\u003c/td\u003e\n      \u003ctd\u003e...\u003c/td\u003e\n      \u003ctd\u003e...\u003c/td\u003e\n      \u003ctd\u003e...\u003c/td\u003e\n    \u003c/tr\u003e\n    \u003ctr\u003e\n      \u003cth\u003e795\u003c/th\u003e\n      \u003ctd\u003e995\u003c/td\u003e\n      \u003ctd\u003e9\u003c/td\u003e\n      \u003ctd\u003eNo\u003c/td\u003e\n      \u003ctd\u003eNo\u003c/td\u003e\n      \u003ctd\u003eNo\u003c/td\u003e\n      \u003ctd\u003eNaN\u003c/td\u003e\n      \u003ctd\u003eNaN\u003c/td\u003e\n    \u003c/tr\u003e\n    \u003ctr\u003e\n      \u003cth\u003e796\u003c/th\u003e\n      \u003ctd\u003e996\u003c/td\u003e\n      \u003ctd\u003e9\u003c/td\u003e\n      \u003ctd\u003eNo\u003c/td\u003e\n      \u003ctd\u003eNo\u003c/td\u003e\n      \u003ctd\u003eNo\u003c/td\u003e\n      \u003ctd\u003eNaN\u003c/td\u003e\n      \u003ctd\u003eNaN\u003c/td\u003e\n    \u003c/tr\u003e\n    \u003ctr\u003e\n      \u003cth\u003e797\u003c/th\u003e\n      \u003ctd\u003e997\u003c/td\u003e\n      \u003ctd\u003e9\u003c/td\u003e\n      \u003ctd\u003eNo\u003c/td\u003e\n      \u003ctd\u003eNo\u003c/td\u003e\n      \u003ctd\u003eNo\u003c/td\u003e\n      \u003ctd\u003eNaN\u003c/td\u003e\n      \u003ctd\u003eNaN\u003c/td\u003e\n    \u003c/tr\u003e\n    \u003ctr\u003e\n      \u003cth\u003e798\u003c/th\u003e\n      \u003ctd\u003e998\u003c/td\u003e\n      \u003ctd\u003e9\u003c/td\u003e\n      \u003ctd\u003eNo\u003c/td\u003e\n      \u003ctd\u003eNo\u003c/td\u003e\n      \u003ctd\u003eNo\u003c/td\u003e\n      \u003ctd\u003eNaN\u003c/td\u003e\n      \u003ctd\u003eNaN\u003c/td\u003e\n    \u003c/tr\u003e\n    \u003ctr\u003e\n      \u003cth\u003e799\u003c/th\u003e\n      \u003ctd\u003e999\u003c/td\u003e\n      \u003ctd\u003e9\u003c/td\u003e\n      \u003ctd\u003eNo\u003c/td\u003e\n      \u003ctd\u003eNo\u003c/td\u003e\n      \u003ctd\u003eNo\u003c/td\u003e\n      \u003ctd\u003eNaN\u003c/td\u003e\n      \u003ctd\u003eNaN\u003c/td\u003e\n    \u003c/tr\u003e\n  \u003c/tbody\u003e\n\u003c/table\u003e\n\u003cp\u003e800 rows × 7 columns\u003c/p\u003e\n\u003c/div\u003e",
                        "text/plain": "     Code  Code_1d ASSIGNABLE RESERVED ASSIGNED     State Country\n0     200        2        Yes       No       No       NaN     NaN\n1     201        2        Yes       No      Yes        NJ      US\n2     202        2        Yes       No      Yes        DC      US\n3     203        2        Yes       No      Yes        CT      US\n4     204        2        Yes       No      Yes  MANITOBA  CANADA\n..    ...      ...        ...      ...      ...       ...     ...\n795   995        9         No       No       No       NaN     NaN\n796   996        9         No       No       No       NaN     NaN\n797   997        9         No       No       No       NaN     NaN\n798   998        9         No       No       No       NaN     NaN\n799   999        9         No       No       No       NaN     NaN\n\n[800 rows x 7 columns]"
                    },
                    "execution_count": 3,
                    "metadata": {},
                    "output_type": "execute_result"
                }
            ],
            "source": [
                "location = NPA[\"Location\"]\n",
                "location = location.str.extract(r\"(\\D+),(\\D+)\")\n",
                "state_NPA = NPA.drop(columns = \"Location\")\n",
                "state_NPA = state_NPA.assign(State = location[0])\n",
                "state_NPA = state_NPA.assign(Country = location[1])\n",
                "state_NPA"
            ]
        },
        {
            "attachments": {},
            "cell_type": "markdown",
            "metadata": {},
            "source": [
                "## Q2. [8 Points]\n",
                "We are interested in getting the number of assigned Code for each state in the USA.\n",
                "\n",
                "Construct the following table to provide the information.  \n",
                "\n",
                "||**State**|**No_NPA_Assigned**|\n",
                "|---|---|---|\n",
                "|**0**|AK| number of codes assigned to AK|\n",
                "|**1**|AL| number of codes assigned to AL|\n",
                "|***|***|***|\n",
                ""
            ]
        },
        {
            "cell_type": "code",
            "execution_count": 4,
            "metadata": {},
            "outputs": [
                {
                    "data": {
                        "text/html": "\u003cdiv\u003e\n\u003cstyle scoped\u003e\n    .dataframe tbody tr th:only-of-type {\n        vertical-align: middle;\n    }\n\n    .dataframe tbody tr th {\n        vertical-align: top;\n    }\n\n    .dataframe thead th {\n        text-align: right;\n    }\n\u003c/style\u003e\n\u003ctable border=\"1\" class=\"dataframe\"\u003e\n  \u003cthead\u003e\n    \u003ctr style=\"text-align: right;\"\u003e\n      \u003cth\u003e\u003c/th\u003e\n      \u003cth\u003eState\u003c/th\u003e\n      \u003cth\u003eNo_NPA_Assigned\u003c/th\u003e\n    \u003c/tr\u003e\n  \u003c/thead\u003e\n  \u003ctbody\u003e\n    \u003ctr\u003e\n      \u003cth\u003e0\u003c/th\u003e\n      \u003ctd\u003eAK\u003c/td\u003e\n      \u003ctd\u003e1\u003c/td\u003e\n    \u003c/tr\u003e\n    \u003ctr\u003e\n      \u003cth\u003e1\u003c/th\u003e\n      \u003ctd\u003eAL\u003c/td\u003e\n      \u003ctd\u003e6\u003c/td\u003e\n    \u003c/tr\u003e\n    \u003ctr\u003e\n      \u003cth\u003e2\u003c/th\u003e\n      \u003ctd\u003eALBERTA\u003c/td\u003e\n      \u003ctd\u003e5\u003c/td\u003e\n    \u003c/tr\u003e\n    \u003ctr\u003e\n      \u003cth\u003e3\u003c/th\u003e\n      \u003ctd\u003eANGUILLA\u003c/td\u003e\n      \u003ctd\u003e1\u003c/td\u003e\n    \u003c/tr\u003e\n    \u003ctr\u003e\n      \u003cth\u003e4\u003c/th\u003e\n      \u003ctd\u003eANTIGUA/BARBUDA\u003c/td\u003e\n      \u003ctd\u003e1\u003c/td\u003e\n    \u003c/tr\u003e\n    \u003ctr\u003e\n      \u003cth\u003e...\u003c/th\u003e\n      \u003ctd\u003e...\u003c/td\u003e\n      \u003ctd\u003e...\u003c/td\u003e\n    \u003c/tr\u003e\n    \u003ctr\u003e\n      \u003cth\u003e80\u003c/th\u003e\n      \u003ctd\u003eWA\u003c/td\u003e\n      \u003ctd\u003e6\u003c/td\u003e\n    \u003c/tr\u003e\n    \u003ctr\u003e\n      \u003cth\u003e81\u003c/th\u003e\n      \u003ctd\u003eWI\u003c/td\u003e\n      \u003ctd\u003e7\u003c/td\u003e\n    \u003c/tr\u003e\n    \u003ctr\u003e\n      \u003cth\u003e82\u003c/th\u003e\n      \u003ctd\u003eWV\u003c/td\u003e\n      \u003ctd\u003e2\u003c/td\u003e\n    \u003c/tr\u003e\n    \u003ctr\u003e\n      \u003cth\u003e83\u003c/th\u003e\n      \u003ctd\u003eWY\u003c/td\u003e\n      \u003ctd\u003e1\u003c/td\u003e\n    \u003c/tr\u003e\n    \u003ctr\u003e\n      \u003cth\u003e84\u003c/th\u003e\n      \u003ctd\u003eYUKON-NW TERR. - NUNAVUT\u003c/td\u003e\n      \u003ctd\u003e1\u003c/td\u003e\n    \u003c/tr\u003e\n  \u003c/tbody\u003e\n\u003c/table\u003e\n\u003cp\u003e85 rows × 2 columns\u003c/p\u003e\n\u003c/div\u003e",
                        "text/plain": "                       State  No_NPA_Assigned\n0                         AK                1\n1                         AL                6\n2                    ALBERTA                5\n3                   ANGUILLA                1\n4            ANTIGUA/BARBUDA                1\n..                       ...              ...\n80                        WA                6\n81                        WI                7\n82                        WV                2\n83                        WY                1\n84  YUKON-NW TERR. - NUNAVUT                1\n\n[85 rows x 2 columns]"
                    },
                    "execution_count": 4,
                    "metadata": {},
                    "output_type": "execute_result"
                }
            ],
            "source": [
                "code_per_state = state_NPA.groupby(by=\"State\").count()\n",
                "code_per_state.reset_index(inplace=True)\n",
                "code_per_state = code_per_state[[\"State\", \"ASSIGNED\"]]\n",
                "code_per_state.columns = [\"State\", \"No_NPA_Assigned\"]\n",
                "code_per_state"
            ]
        },
        {
            "attachments": {},
            "cell_type": "markdown",
            "metadata": {},
            "source": [
                "## Q3. [5 Points]\n",
                "\n",
                "Report the following summary statistics for the values in column \"No_NPA_Assigned\"\n",
                "\n",
                "* Mean\n",
                "* Variance \n",
                "* Median\n",
                "* 10 percentile, 25 percentile, 75 percentile, 90 percentile \n",
                ""
            ]
        },
        {
            "cell_type": "code",
            "execution_count": 5,
            "metadata": {},
            "outputs": [
                {
                    "data": {
                        "text/html": "\u003cdiv\u003e\n\u003cstyle scoped\u003e\n    .dataframe tbody tr th:only-of-type {\n        vertical-align: middle;\n    }\n\n    .dataframe tbody tr th {\n        vertical-align: top;\n    }\n\n    .dataframe thead th {\n        text-align: right;\n    }\n\u003c/style\u003e\n\u003ctable border=\"1\" class=\"dataframe\"\u003e\n  \u003cthead\u003e\n    \u003ctr style=\"text-align: right;\"\u003e\n      \u003cth\u003e\u003c/th\u003e\n      \u003cth\u003eNo_NPA_assigned\u003c/th\u003e\n    \u003c/tr\u003e\n  \u003c/thead\u003e\n  \u003ctbody\u003e\n    \u003ctr\u003e\n      \u003cth\u003eMean\u003c/th\u003e\n      \u003ctd\u003e4.917647\u003c/td\u003e\n    \u003c/tr\u003e\n    \u003ctr\u003e\n      \u003cth\u003eVariance\u003c/th\u003e\n      \u003ctd\u003e37.362185\u003c/td\u003e\n    \u003c/tr\u003e\n    \u003ctr\u003e\n      \u003cth\u003eMedian\u003c/th\u003e\n      \u003ctd\u003e2.000000\u003c/td\u003e\n    \u003c/tr\u003e\n    \u003ctr\u003e\n      \u003cth\u003e10%\u003c/th\u003e\n      \u003ctd\u003e1.000000\u003c/td\u003e\n    \u003c/tr\u003e\n    \u003ctr\u003e\n      \u003cth\u003e25%\u003c/th\u003e\n      \u003ctd\u003e1.000000\u003c/td\u003e\n    \u003c/tr\u003e\n    \u003ctr\u003e\n      \u003cth\u003e75%\u003c/th\u003e\n      \u003ctd\u003e6.000000\u003c/td\u003e\n    \u003c/tr\u003e\n    \u003ctr\u003e\n      \u003cth\u003e90%\u003c/th\u003e\n      \u003ctd\u003e11.800000\u003c/td\u003e\n    \u003c/tr\u003e\n  \u003c/tbody\u003e\n\u003c/table\u003e\n\u003c/div\u003e",
                        "text/plain": "          No_NPA_assigned\nMean             4.917647\nVariance        37.362185\nMedian           2.000000\n10%              1.000000\n25%              1.000000\n75%              6.000000\n90%             11.800000"
                    },
                    "execution_count": 5,
                    "metadata": {},
                    "output_type": "execute_result"
                }
            ],
            "source": [
                "mean = code_per_state.mean()\n",
                "var  = code_per_state.var()\n",
                "median = code_per_state.median()\n",
                "percentiles = code_per_state.quantile([0.10, 0.25, 0.75,0.90])\n",
                "\n",
                "stats = pd.DataFrame({\"Mean\" : mean.values, \"Variance\" : var.values, \"Median\" : median.values, \n",
                "\"10%\" : percentiles.values[0], \"25%\" : percentiles.values[1], \"75%\" : percentiles.values[2], \"90%\" : percentiles.values[3]})\n",
                "stats = stats.T\n",
                "stats.columns = [\"No_NPA_assigned\"]\n",
                "stats"
            ]
        },
        {
            "attachments": {},
            "cell_type": "markdown",
            "metadata": {},
            "source": [
                "## Q4 [6 Points]\n",
                "\n",
                "In statistics, the value(s) that appears most frequently is called mode. For example, suppose we have 5 values: 0, 3, 5, 5, 4, 0. The mode values are is 0 and 5.\n",
                "\n",
                "We can get the mode of values stored in a Pandas series using \n",
                "\n",
                "[`s.mode()` ](https://pandas.pydata.org/pandas-docs/stable/reference/api/pandas.Series.mode.html)\n",
                "\n",
                "The data type of the return value of `s.mode()` is Pandas series.\n",
                "\n",
                "Use `groupby` and  `apply` method to get the mode of the first digit value for each US state. If a state has  several mode values, report one mode value.\n",
                "\n",
                ""
            ]
        },
        {
            "cell_type": "code",
            "execution_count": 6,
            "metadata": {},
            "outputs": [
                {
                    "data": {
                        "text/plain": "0    0\n1    5\ndtype: int64"
                    },
                    "execution_count": 6,
                    "metadata": {},
                    "output_type": "execute_result"
                }
            ],
            "source": [
                "s=pd.Series([0,3,5,5,4,0])\n",
                "s.mode()"
            ]
        },
        {
            "cell_type": "code",
            "execution_count": 7,
            "metadata": {},
            "outputs": [
                {
                    "data": {
                        "text/html": "\u003cdiv\u003e\n\u003cstyle scoped\u003e\n    .dataframe tbody tr th:only-of-type {\n        vertical-align: middle;\n    }\n\n    .dataframe tbody tr th {\n        vertical-align: top;\n    }\n\n    .dataframe thead th {\n        text-align: right;\n    }\n\u003c/style\u003e\n\u003ctable border=\"1\" class=\"dataframe\"\u003e\n  \u003cthead\u003e\n    \u003ctr style=\"text-align: right;\"\u003e\n      \u003cth\u003e\u003c/th\u003e\n      \u003cth\u003eState\u003c/th\u003e\n      \u003cth\u003eCode_1d_Mode\u003c/th\u003e\n    \u003c/tr\u003e\n  \u003c/thead\u003e\n  \u003ctbody\u003e\n    \u003ctr\u003e\n      \u003cth\u003e0\u003c/th\u003e\n      \u003ctd\u003eAK\u003c/td\u003e\n      \u003ctd\u003e9\u003c/td\u003e\n    \u003c/tr\u003e\n    \u003ctr\u003e\n      \u003cth\u003e1\u003c/th\u003e\n      \u003ctd\u003eAL\u003c/td\u003e\n      \u003ctd\u003e2\u003c/td\u003e\n    \u003c/tr\u003e\n    \u003ctr\u003e\n      \u003cth\u003e2\u003c/th\u003e\n      \u003ctd\u003eALBERTA\u003c/td\u003e\n      \u003ctd\u003e3\u003c/td\u003e\n    \u003c/tr\u003e\n    \u003ctr\u003e\n      \u003cth\u003e7\u003c/th\u003e\n      \u003ctd\u003eANGUILLA\u003c/td\u003e\n      \u003ctd\u003e2\u003c/td\u003e\n    \u003c/tr\u003e\n    \u003ctr\u003e\n      \u003cth\u003e8\u003c/th\u003e\n      \u003ctd\u003eANTIGUA/BARBUDA\u003c/td\u003e\n      \u003ctd\u003e2\u003c/td\u003e\n    \u003c/tr\u003e\n    \u003ctr\u003e\n      \u003cth\u003e...\u003c/th\u003e\n      \u003ctd\u003e...\u003c/td\u003e\n      \u003ctd\u003e...\u003c/td\u003e\n    \u003c/tr\u003e\n    \u003ctr\u003e\n      \u003cth\u003e123\u003c/th\u003e\n      \u003ctd\u003eWA\u003c/td\u003e\n      \u003ctd\u003e2\u003c/td\u003e\n    \u003c/tr\u003e\n    \u003ctr\u003e\n      \u003cth\u003e125\u003c/th\u003e\n      \u003ctd\u003eWI\u003c/td\u003e\n      \u003ctd\u003e2\u003c/td\u003e\n    \u003c/tr\u003e\n    \u003ctr\u003e\n      \u003cth\u003e126\u003c/th\u003e\n      \u003ctd\u003eWV\u003c/td\u003e\n      \u003ctd\u003e3\u003c/td\u003e\n    \u003c/tr\u003e\n    \u003ctr\u003e\n      \u003cth\u003e128\u003c/th\u003e\n      \u003ctd\u003eWY\u003c/td\u003e\n      \u003ctd\u003e3\u003c/td\u003e\n    \u003c/tr\u003e\n    \u003ctr\u003e\n      \u003cth\u003e129\u003c/th\u003e\n      \u003ctd\u003eYUKON-NW TERR. - NUNAVUT\u003c/td\u003e\n      \u003ctd\u003e8\u003c/td\u003e\n    \u003c/tr\u003e\n  \u003c/tbody\u003e\n\u003c/table\u003e\n\u003cp\u003e85 rows × 2 columns\u003c/p\u003e\n\u003c/div\u003e",
                        "text/plain": "                        State  Code_1d_Mode\n0                          AK             9\n1                          AL             2\n2                     ALBERTA             3\n7                    ANGUILLA             2\n8             ANTIGUA/BARBUDA             2\n..                        ...           ...\n123                        WA             2\n125                        WI             2\n126                        WV             3\n128                        WY             3\n129  YUKON-NW TERR. - NUNAVUT             8\n\n[85 rows x 2 columns]"
                    },
                    "execution_count": 7,
                    "metadata": {},
                    "output_type": "execute_result"
                }
            ],
            "source": [
                "grouped_by_state = state_NPA.groupby(by=[\"State\"])\n",
                "mode = grouped_by_state[\"Code_1d\"].apply(pd.Series.mode)\n",
                "df_mode = pd.DataFrame(mode)\n",
                "df_mode.reset_index(inplace=True)\n",
                "level = df_mode[\"level_1\"].values\n",
                "Filter = (level == 0) \n",
                "df_mode = df_mode.loc[Filter, [\"State\", \"Code_1d\"]]\n",
                "df_mode.columns = [\"State\", \"Code_1d_Mode\"]\n",
                "df_mode"
            ]
        },
        {
            "cell_type": "code",
            "execution_count": 8,
            "metadata": {},
            "outputs": [],
            "source": [
                ""
            ]
        }
    ]
}
