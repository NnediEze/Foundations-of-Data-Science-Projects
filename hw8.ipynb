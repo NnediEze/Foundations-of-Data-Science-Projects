{
    "metadata": {
        "kernelspec": {
            "name": "python3",
            "display_name": "Python 3",
            "language": "python"
        }
    },
    "nbformat": 4,
    "nbformat_minor": 2,
    "cells": [
        {
            "cell_type": "code",
            "execution_count": 354,
            "metadata": {},
            "outputs": [],
            "source": [
                "import pandas as pd \n",
                "import numpy as np\n",
                "import matplotlib.pyplot as plt \n",
                "%matplotlib inline\n",
                "import sklearn as sk \n",
                "from  sklearn.model_selection import train_test_split \n",
                "from sklearn.linear_model import LinearRegression"
            ]
        },
        {
            "attachments": {},
            "cell_type": "markdown",
            "metadata": {},
            "source": [
                "\n",
                "\n",
                "## Setting\n",
                "\n",
                " \n",
                "\u003cimg src=\"https://i1.sndcdn.com/artworks-000502633698-vxm3q1-t500x500.jpg\" alt=\"Someone study\" width=\"200\" height=\"200\"\u003e\n",
                "\n",
                "The dataset contains data on the grade point average (GPA) of students enrolled in a fairly large research university that also supports men’s and women’s athletics at the Division I level.  The number of observations equals 4137 (students). This data set includes the following variables: \n",
                "\n",
                "|variables|description|\n",
                "|---|---|\n",
                "|Sat | combined SAT score |\n",
                "|tothrs |  total hours of classes taken through fall semester |\n",
                "|colgpa|GPA after fall semester |\n",
                "|athlete|=1 if athlete |\n",
                "|verbmath|verbal/math SAT score |\n",
                "|hsize|size graduating class, 100s |\n",
                "|shrank|rank in graduating class |\n",
                "|hsperc|high school percentile, from top |\n",
                "|female|=1 if female |\n",
                "|white|=1 if white |\n",
                "|black|=1 if black |\n",
                "|minority|=1 if nonblack and nonwhite  |\n",
                "\n",
                " \n",
                "\n",
                "  \n",
                "\n",
                "Scholastic Assessment Test (SAT) is the national standardized test taken by all four-year college-bound students in the United States. \n",
                ""
            ]
        },
        {
            "cell_type": "code",
            "execution_count": 355,
            "metadata": {},
            "outputs": [
                {
                    "data": {
                        "text/html": "\u003cdiv\u003e\n\u003cstyle scoped\u003e\n    .dataframe tbody tr th:only-of-type {\n        vertical-align: middle;\n    }\n\n    .dataframe tbody tr th {\n        vertical-align: top;\n    }\n\n    .dataframe thead th {\n        text-align: right;\n    }\n\u003c/style\u003e\n\u003ctable border=\"1\" class=\"dataframe\"\u003e\n  \u003cthead\u003e\n    \u003ctr style=\"text-align: right;\"\u003e\n      \u003cth\u003e\u003c/th\u003e\n      \u003cth\u003esat\u003c/th\u003e\n      \u003cth\u003etothrs\u003c/th\u003e\n      \u003cth\u003ecolgpa\u003c/th\u003e\n      \u003cth\u003eathlete\u003c/th\u003e\n      \u003cth\u003everbmath\u003c/th\u003e\n      \u003cth\u003ehsize\u003c/th\u003e\n      \u003cth\u003ehsrank\u003c/th\u003e\n      \u003cth\u003ehsperc\u003c/th\u003e\n      \u003cth\u003efemale\u003c/th\u003e\n      \u003cth\u003ewhite\u003c/th\u003e\n      \u003cth\u003eblack\u003c/th\u003e\n      \u003cth\u003eminority\u003c/th\u003e\n    \u003c/tr\u003e\n  \u003c/thead\u003e\n  \u003ctbody\u003e\n    \u003ctr\u003e\n      \u003cth\u003e0\u003c/th\u003e\n      \u003ctd\u003e920\u003c/td\u003e\n      \u003ctd\u003e43\u003c/td\u003e\n      \u003ctd\u003e2.04\u003c/td\u003e\n      \u003ctd\u003e1\u003c/td\u003e\n      \u003ctd\u003e0.48387\u003c/td\u003e\n      \u003ctd\u003e0.10\u003c/td\u003e\n      \u003ctd\u003e4\u003c/td\u003e\n      \u003ctd\u003e40.000000\u003c/td\u003e\n      \u003ctd\u003e1\u003c/td\u003e\n      \u003ctd\u003e0\u003c/td\u003e\n      \u003ctd\u003e0\u003c/td\u003e\n      \u003ctd\u003e1\u003c/td\u003e\n    \u003c/tr\u003e\n    \u003ctr\u003e\n      \u003cth\u003e1\u003c/th\u003e\n      \u003ctd\u003e1170\u003c/td\u003e\n      \u003ctd\u003e18\u003c/td\u003e\n      \u003ctd\u003e4.00\u003c/td\u003e\n      \u003ctd\u003e0\u003c/td\u003e\n      \u003ctd\u003e0.82813\u003c/td\u003e\n      \u003ctd\u003e9.40\u003c/td\u003e\n      \u003ctd\u003e191\u003c/td\u003e\n      \u003ctd\u003e20.319150\u003c/td\u003e\n      \u003ctd\u003e0\u003c/td\u003e\n      \u003ctd\u003e1\u003c/td\u003e\n      \u003ctd\u003e0\u003c/td\u003e\n      \u003ctd\u003e0\u003c/td\u003e\n    \u003c/tr\u003e\n    \u003ctr\u003e\n      \u003cth\u003e2\u003c/th\u003e\n      \u003ctd\u003e810\u003c/td\u003e\n      \u003ctd\u003e14\u003c/td\u003e\n      \u003ctd\u003e1.78\u003c/td\u003e\n      \u003ctd\u003e1\u003c/td\u003e\n      \u003ctd\u003e0.88372\u003c/td\u003e\n      \u003ctd\u003e1.19\u003c/td\u003e\n      \u003ctd\u003e42\u003c/td\u003e\n      \u003ctd\u003e35.294120\u003c/td\u003e\n      \u003ctd\u003e0\u003c/td\u003e\n      \u003ctd\u003e1\u003c/td\u003e\n      \u003ctd\u003e0\u003c/td\u003e\n      \u003ctd\u003e0\u003c/td\u003e\n    \u003c/tr\u003e\n    \u003ctr\u003e\n      \u003cth\u003e3\u003c/th\u003e\n      \u003ctd\u003e940\u003c/td\u003e\n      \u003ctd\u003e40\u003c/td\u003e\n      \u003ctd\u003e2.42\u003c/td\u003e\n      \u003ctd\u003e0\u003c/td\u003e\n      \u003ctd\u003e0.80769\u003c/td\u003e\n      \u003ctd\u003e5.71\u003c/td\u003e\n      \u003ctd\u003e252\u003c/td\u003e\n      \u003ctd\u003e44.133100\u003c/td\u003e\n      \u003ctd\u003e0\u003c/td\u003e\n      \u003ctd\u003e1\u003c/td\u003e\n      \u003ctd\u003e0\u003c/td\u003e\n      \u003ctd\u003e0\u003c/td\u003e\n    \u003c/tr\u003e\n    \u003ctr\u003e\n      \u003cth\u003e4\u003c/th\u003e\n      \u003ctd\u003e1180\u003c/td\u003e\n      \u003ctd\u003e18\u003c/td\u003e\n      \u003ctd\u003e2.61\u003c/td\u003e\n      \u003ctd\u003e0\u003c/td\u003e\n      \u003ctd\u003e0.73529\u003c/td\u003e\n      \u003ctd\u003e2.14\u003c/td\u003e\n      \u003ctd\u003e86\u003c/td\u003e\n      \u003ctd\u003e40.186920\u003c/td\u003e\n      \u003ctd\u003e0\u003c/td\u003e\n      \u003ctd\u003e1\u003c/td\u003e\n      \u003ctd\u003e0\u003c/td\u003e\n      \u003ctd\u003e0\u003c/td\u003e\n    \u003c/tr\u003e\n    \u003ctr\u003e\n      \u003cth\u003e...\u003c/th\u003e\n      \u003ctd\u003e...\u003c/td\u003e\n      \u003ctd\u003e...\u003c/td\u003e\n      \u003ctd\u003e...\u003c/td\u003e\n      \u003ctd\u003e...\u003c/td\u003e\n      \u003ctd\u003e...\u003c/td\u003e\n      \u003ctd\u003e...\u003c/td\u003e\n      \u003ctd\u003e...\u003c/td\u003e\n      \u003ctd\u003e...\u003c/td\u003e\n      \u003ctd\u003e...\u003c/td\u003e\n      \u003ctd\u003e...\u003c/td\u003e\n      \u003ctd\u003e...\u003c/td\u003e\n      \u003ctd\u003e...\u003c/td\u003e\n    \u003c/tr\u003e\n    \u003ctr\u003e\n      \u003cth\u003e4132\u003c/th\u003e\n      \u003ctd\u003e990\u003c/td\u003e\n      \u003ctd\u003e49\u003c/td\u003e\n      \u003ctd\u003e2.24\u003c/td\u003e\n      \u003ctd\u003e0\u003c/td\u003e\n      \u003ctd\u003e1.02041\u003c/td\u003e\n      \u003ctd\u003e2.33\u003c/td\u003e\n      \u003ctd\u003e89\u003c/td\u003e\n      \u003ctd\u003e38.197430\u003c/td\u003e\n      \u003ctd\u003e1\u003c/td\u003e\n      \u003ctd\u003e1\u003c/td\u003e\n      \u003ctd\u003e0\u003c/td\u003e\n      \u003ctd\u003e0\u003c/td\u003e\n    \u003c/tr\u003e\n    \u003ctr\u003e\n      \u003cth\u003e4133\u003c/th\u003e\n      \u003ctd\u003e900\u003c/td\u003e\n      \u003ctd\u003e50\u003c/td\u003e\n      \u003ctd\u003e2.46\u003c/td\u003e\n      \u003ctd\u003e0\u003c/td\u003e\n      \u003ctd\u003e0.95652\u003c/td\u003e\n      \u003ctd\u003e0.10\u003c/td\u003e\n      \u003ctd\u003e2\u003c/td\u003e\n      \u003ctd\u003e20.000000\u003c/td\u003e\n      \u003ctd\u003e1\u003c/td\u003e\n      \u003ctd\u003e1\u003c/td\u003e\n      \u003ctd\u003e0\u003c/td\u003e\n      \u003ctd\u003e0\u003c/td\u003e\n    \u003c/tr\u003e\n    \u003ctr\u003e\n      \u003cth\u003e4134\u003c/th\u003e\n      \u003ctd\u003e1340\u003c/td\u003e\n      \u003ctd\u003e62\u003c/td\u003e\n      \u003ctd\u003e4.00\u003c/td\u003e\n      \u003ctd\u003e0\u003c/td\u003e\n      \u003ctd\u003e0.94203\u003c/td\u003e\n      \u003ctd\u003e0.45\u003c/td\u003e\n      \u003ctd\u003e1\u003c/td\u003e\n      \u003ctd\u003e2.222222\u003c/td\u003e\n      \u003ctd\u003e0\u003c/td\u003e\n      \u003ctd\u003e1\u003c/td\u003e\n      \u003ctd\u003e0\u003c/td\u003e\n      \u003ctd\u003e0\u003c/td\u003e\n    \u003c/tr\u003e\n    \u003ctr\u003e\n      \u003cth\u003e4135\u003c/th\u003e\n      \u003ctd\u003e980\u003c/td\u003e\n      \u003ctd\u003e12\u003c/td\u003e\n      \u003ctd\u003e2.83\u003c/td\u003e\n      \u003ctd\u003e0\u003c/td\u003e\n      \u003ctd\u003e0.68966\u003c/td\u003e\n      \u003ctd\u003e0.35\u003c/td\u003e\n      \u003ctd\u003e23\u003c/td\u003e\n      \u003ctd\u003e65.714290\u003c/td\u003e\n      \u003ctd\u003e1\u003c/td\u003e\n      \u003ctd\u003e1\u003c/td\u003e\n      \u003ctd\u003e0\u003c/td\u003e\n      \u003ctd\u003e0\u003c/td\u003e\n    \u003c/tr\u003e\n    \u003ctr\u003e\n      \u003cth\u003e4136\u003c/th\u003e\n      \u003ctd\u003e1420\u003c/td\u003e\n      \u003ctd\u003e128\u003c/td\u003e\n      \u003ctd\u003e3.94\u003c/td\u003e\n      \u003ctd\u003e0\u003c/td\u003e\n      \u003ctd\u003e0.91892\u003c/td\u003e\n      \u003ctd\u003e3.13\u003c/td\u003e\n      \u003ctd\u003e38\u003c/td\u003e\n      \u003ctd\u003e12.140580\u003c/td\u003e\n      \u003ctd\u003e0\u003c/td\u003e\n      \u003ctd\u003e1\u003c/td\u003e\n      \u003ctd\u003e0\u003c/td\u003e\n      \u003ctd\u003e0\u003c/td\u003e\n    \u003c/tr\u003e\n  \u003c/tbody\u003e\n\u003c/table\u003e\n\u003cp\u003e4137 rows × 12 columns\u003c/p\u003e\n\u003c/div\u003e",
                        "text/plain": "       sat  tothrs  colgpa  athlete  verbmath  hsize  hsrank     hsperc  \\\n0      920      43    2.04        1   0.48387   0.10       4  40.000000   \n1     1170      18    4.00        0   0.82813   9.40     191  20.319150   \n2      810      14    1.78        1   0.88372   1.19      42  35.294120   \n3      940      40    2.42        0   0.80769   5.71     252  44.133100   \n4     1180      18    2.61        0   0.73529   2.14      86  40.186920   \n...    ...     ...     ...      ...       ...    ...     ...        ...   \n4132   990      49    2.24        0   1.02041   2.33      89  38.197430   \n4133   900      50    2.46        0   0.95652   0.10       2  20.000000   \n4134  1340      62    4.00        0   0.94203   0.45       1   2.222222   \n4135   980      12    2.83        0   0.68966   0.35      23  65.714290   \n4136  1420     128    3.94        0   0.91892   3.13      38  12.140580   \n\n      female  white  black  minority  \n0          1      0      0         1  \n1          0      1      0         0  \n2          0      1      0         0  \n3          0      1      0         0  \n4          0      1      0         0  \n...      ...    ...    ...       ...  \n4132       1      1      0         0  \n4133       1      1      0         0  \n4134       0      1      0         0  \n4135       1      1      0         0  \n4136       0      1      0         0  \n\n[4137 rows x 12 columns]"
                    },
                    "execution_count": 355,
                    "metadata": {},
                    "output_type": "execute_result"
                }
            ],
            "source": [
                "gpa=pd.read_csv(\"gpa.csv\")\n",
                "gpa "
            ]
        },
        {
            "attachments": {},
            "cell_type": "markdown",
            "metadata": {},
            "source": [
                "## Q1. [14 points]\n",
                "\n",
                " \n",
                "\n",
                "Randomly sample 500 students **without replacement** from the original dataset based on `DataFrame.sample()` method. Use `random_state=300`.\n",
                "\n",
                "Using only the information of these 500 students, test the following hypothesis using $\\alpha=0.05$: \n",
                "\n",
                "*The average GPA of the students from this university is lower than 3.*\n",
                "\n",
                "In your answer, provide the following information\n",
                "\n",
                "1.   Null hypothesis/Alternative hypothesis\n",
                "2.   Test the hypothesis based on 1000 rounds of simulation using Bootstrapping. \n",
                "3.   Visualize the distribution of the sample statistics from simulation, the rejection region(s), and the observed statistics in the same graph.\n",
                "4.   Provide the conclusion.\n",
                " "
            ]
        },
        {
            "attachments": {},
            "cell_type": "markdown",
            "metadata": {},
            "source": [
                "Null hypothesis: The average GPA of students from this university is greater than or equal to  3. \n",
                "\n",
                "Alternative hypothesis: The average GPA of students from this university is lower than 3."
            ]
        },
        {
            "cell_type": "code",
            "execution_count": 356,
            "metadata": {},
            "outputs": [
                {
                    "name": "stdout",
                    "output_type": "stream",
                    "text": "2.684540000000001\n"
                }
            ],
            "source": [
                "subset = gpa.sample(n=500, replace=False, random_state=300)\n",
                "samples=subset.colgpa\n",
                "samples_adj=samples-np.mean(samples)+3\n",
                "observed_s=np.mean(samples)\n",
                "def sampling():\n",
                "    samples_new=np.random.choice(samples_adj, size=500)\n",
                "    return np.mean(samples_new)\n",
                "print(observed_s)"
            ]
        },
        {
            "cell_type": "code",
            "execution_count": 357,
            "metadata": {},
            "outputs": [],
            "source": [
                "stats=[sampling() for i in range(1000)]"
            ]
        },
        {
            "cell_type": "code",
            "execution_count": 358,
            "metadata": {},
            "outputs": [
                {
                    "data": {
                        "image/png": "[encoded data removed]",
                        "text/plain": "\u003cFigure size 432x288 with 1 Axes\u003e"
                    },
                    "metadata": {
                        "needs_background": "light"
                    },
                    "output_type": "display_data"
                }
            ],
            "source": [
                "plt.hist(stats,bins=30, density=True)\n",
                "#alpha=.05\n",
                "cutoffs=np.percentile(stats, 0.95)\n",
                "plt.vlines(cutoffs, 0, 16,color=\"red\" ,lw=5 )\n",
                "plt.scatter(observed_s,0,c=\"pink\",s=100,zorder=300,clip_on=False)\n",
                "plt.show()"
            ]
        },
        {
            "attachments": {},
            "cell_type": "markdown",
            "metadata": {},
            "source": [
                "Conclusion: We reject the null hypothesis because the observed statistic falls in the rejection region. There is not enough evidence to accept the null hypothesis that average GPA is greater than or equal to 3, thus we support the alternative hypothesis. "
            ]
        },
        {
            "attachments": {},
            "cell_type": "markdown",
            "metadata": {},
            "source": [
                "## Q2. [14 points]\n",
                "\n",
                "Randomly sample 500 students **without replacement** from the original dataset based on `DataFrame.sample()` method. Use `random_state=300`.\n",
                "\n",
                "Using only the information of these 500 students, test the following hypothesis using $\\alpha=0.05$: \n",
                "\n",
                "*There is a difference between the average GPA of athletes and the average GPA non-athletes in this university*\n",
                "\n",
                "In your answer, provide the following information\n",
                "\n",
                "1.   Null hypothesis/Alternative hypothesis\n",
                "2.   Test the hypothesis based on 1000 rounds of simulation based on Bootstrapping. \n",
                "3.   Visualize the distribution of the sample statistics from simulation, the rejection region(s), and the observed statistics in the same graph.\n",
                "4.   Provide the conclusion."
            ]
        },
        {
            "attachments": {},
            "cell_type": "markdown",
            "metadata": {},
            "source": [
                "Null hypothesis: There is no difference between the average GPA of athletes and the average GPA of non-athletes in this university. The absolute value of the difference between the average GPA of atheletes and nonathletes is zero. \n",
                "\n",
                "Alternative hypothesis: There is a difference between the average GPA of athletes and non-athlete students in this university.The absolute value of difference between the average GPA of atheletes and nonathletes is greater than zero."
            ]
        },
        {
            "cell_type": "code",
            "execution_count": 359,
            "metadata": {},
            "outputs": [],
            "source": [
                "subset = gpa.sample(n=500, replace=False, random_state=300)\n",
                "samples = subset.colgpa\n",
                "Filter = (subset.athlete == 1)\n",
                "athletes = subset.loc[Filter]\n",
                "non_athletes = subset.loc[~Filter]\n",
                "athletes_adj = athletes.colgpa - np.mean(athletes.colgpa) + np.mean(subset.colgpa)\n",
                "nonathletes_adj = non_athletes.colgpa - np.mean(non_athletes.colgpa) + np.mean(subset.colgpa)\n",
                "observed_s = np.mean(non_athletes.colgpa) - np.mean(athletes.colgpa)"
            ]
        },
        {
            "cell_type": "code",
            "execution_count": 360,
            "metadata": {},
            "outputs": [],
            "source": [
                "def sampling():\n",
                "    athletes_new = np.random.choice(athletes_adj, size=len(athletes_adj))\n",
                "    nonathletes_new = np.random.choice(nonathletes_adj, size=len(nonathletes_adj))\n",
                "    return np.mean(nonathletes_new) - np.mean(athletes_new)"
            ]
        },
        {
            "cell_type": "code",
            "execution_count": 361,
            "metadata": {},
            "outputs": [],
            "source": [
                "stats=[sampling() for i in range(10000)]"
            ]
        },
        {
            "cell_type": "code",
            "execution_count": 362,
            "metadata": {},
            "outputs": [
                {
                    "data": {
                        "image/png": "[encoded data removed]",
                        "text/plain": "\u003cFigure size 432x288 with 1 Axes\u003e"
                    },
                    "metadata": {
                        "needs_background": "light"
                    },
                    "output_type": "display_data"
                }
            ],
            "source": [
                "plt.hist(stats,bins=30,density=True)\n",
                "#alpha=.05\n",
                "cutoffs=[np.percentile(stats, 97.5), np.percentile(stats, 2.5)]\n",
                "plt.vlines(cutoffs, 0, 16,color=\"red\" ,lw=5 )\n",
                "plt.scatter(observed_s,0,c=\"pink\",s=100,zorder=300,clip_on=False)\n",
                "plt.show()"
            ]
        },
        {
            "attachments": {},
            "cell_type": "markdown",
            "metadata": {},
            "source": [
                "Conclusion: We reject the null hypothesis because the observed statistic falls into the rejection region. We conclusde there is not enough evidence to support the null hypothesis that there is no difference between GPAs of athletes and non-athletes, and accept the alternative hypothesis. "
            ]
        },
        {
            "attachments": {},
            "cell_type": "markdown",
            "metadata": {},
            "source": [
                "## Q3. [6 Points]\n",
                "\n",
                "For this question, let's use the full dataset again.\n",
                "\n",
                "\n",
                "* Split the data into three components:\n",
                "\n",
                "\u003e * First, randomly select 3000 samples from the original dataset as the training set using `train_test_split`. Use random_state=30. Do not shuffle the data. \n",
                "\n",
                "\u003e * Next, from the rest of the data, randomly select 500 samples as the validation using `train_test_split`. Use random_state=40. Do not shuffle the data. \n",
                "\n",
                "\u003e * The observations that are left will be used as the testing set. \n",
                "\n",
                "* Report the average value of `sat` column for  each set of data.\n",
                ""
            ]
        },
        {
            "cell_type": "code",
            "execution_count": 363,
            "metadata": {},
            "outputs": [
                {
                    "name": "stdout",
                    "output_type": "stream",
                    "text": "1031.58\n"
                },
                {
                    "data": {
                        "text/html": "\u003cdiv\u003e\n\u003cstyle scoped\u003e\n    .dataframe tbody tr th:only-of-type {\n        vertical-align: middle;\n    }\n\n    .dataframe tbody tr th {\n        vertical-align: top;\n    }\n\n    .dataframe thead th {\n        text-align: right;\n    }\n\u003c/style\u003e\n\u003ctable border=\"1\" class=\"dataframe\"\u003e\n  \u003cthead\u003e\n    \u003ctr style=\"text-align: right;\"\u003e\n      \u003cth\u003e\u003c/th\u003e\n      \u003cth\u003esat\u003c/th\u003e\n      \u003cth\u003etothrs\u003c/th\u003e\n      \u003cth\u003ecolgpa\u003c/th\u003e\n      \u003cth\u003eathlete\u003c/th\u003e\n      \u003cth\u003everbmath\u003c/th\u003e\n      \u003cth\u003ehsize\u003c/th\u003e\n      \u003cth\u003ehsrank\u003c/th\u003e\n      \u003cth\u003ehsperc\u003c/th\u003e\n      \u003cth\u003efemale\u003c/th\u003e\n      \u003cth\u003ewhite\u003c/th\u003e\n      \u003cth\u003eblack\u003c/th\u003e\n      \u003cth\u003eminority\u003c/th\u003e\n    \u003c/tr\u003e\n  \u003c/thead\u003e\n  \u003ctbody\u003e\n    \u003ctr\u003e\n      \u003cth\u003e0\u003c/th\u003e\n      \u003ctd\u003e920\u003c/td\u003e\n      \u003ctd\u003e43\u003c/td\u003e\n      \u003ctd\u003e2.04\u003c/td\u003e\n      \u003ctd\u003e1\u003c/td\u003e\n      \u003ctd\u003e0.48387\u003c/td\u003e\n      \u003ctd\u003e0.10\u003c/td\u003e\n      \u003ctd\u003e4\u003c/td\u003e\n      \u003ctd\u003e40.000000\u003c/td\u003e\n      \u003ctd\u003e1\u003c/td\u003e\n      \u003ctd\u003e0\u003c/td\u003e\n      \u003ctd\u003e0\u003c/td\u003e\n      \u003ctd\u003e1\u003c/td\u003e\n    \u003c/tr\u003e\n    \u003ctr\u003e\n      \u003cth\u003e1\u003c/th\u003e\n      \u003ctd\u003e1170\u003c/td\u003e\n      \u003ctd\u003e18\u003c/td\u003e\n      \u003ctd\u003e4.00\u003c/td\u003e\n      \u003ctd\u003e0\u003c/td\u003e\n      \u003ctd\u003e0.82813\u003c/td\u003e\n      \u003ctd\u003e9.40\u003c/td\u003e\n      \u003ctd\u003e191\u003c/td\u003e\n      \u003ctd\u003e20.319150\u003c/td\u003e\n      \u003ctd\u003e0\u003c/td\u003e\n      \u003ctd\u003e1\u003c/td\u003e\n      \u003ctd\u003e0\u003c/td\u003e\n      \u003ctd\u003e0\u003c/td\u003e\n    \u003c/tr\u003e\n    \u003ctr\u003e\n      \u003cth\u003e2\u003c/th\u003e\n      \u003ctd\u003e810\u003c/td\u003e\n      \u003ctd\u003e14\u003c/td\u003e\n      \u003ctd\u003e1.78\u003c/td\u003e\n      \u003ctd\u003e1\u003c/td\u003e\n      \u003ctd\u003e0.88372\u003c/td\u003e\n      \u003ctd\u003e1.19\u003c/td\u003e\n      \u003ctd\u003e42\u003c/td\u003e\n      \u003ctd\u003e35.294120\u003c/td\u003e\n      \u003ctd\u003e0\u003c/td\u003e\n      \u003ctd\u003e1\u003c/td\u003e\n      \u003ctd\u003e0\u003c/td\u003e\n      \u003ctd\u003e0\u003c/td\u003e\n    \u003c/tr\u003e\n    \u003ctr\u003e\n      \u003cth\u003e3\u003c/th\u003e\n      \u003ctd\u003e940\u003c/td\u003e\n      \u003ctd\u003e40\u003c/td\u003e\n      \u003ctd\u003e2.42\u003c/td\u003e\n      \u003ctd\u003e0\u003c/td\u003e\n      \u003ctd\u003e0.80769\u003c/td\u003e\n      \u003ctd\u003e5.71\u003c/td\u003e\n      \u003ctd\u003e252\u003c/td\u003e\n      \u003ctd\u003e44.133100\u003c/td\u003e\n      \u003ctd\u003e0\u003c/td\u003e\n      \u003ctd\u003e1\u003c/td\u003e\n      \u003ctd\u003e0\u003c/td\u003e\n      \u003ctd\u003e0\u003c/td\u003e\n    \u003c/tr\u003e\n    \u003ctr\u003e\n      \u003cth\u003e4\u003c/th\u003e\n      \u003ctd\u003e1180\u003c/td\u003e\n      \u003ctd\u003e18\u003c/td\u003e\n      \u003ctd\u003e2.61\u003c/td\u003e\n      \u003ctd\u003e0\u003c/td\u003e\n      \u003ctd\u003e0.73529\u003c/td\u003e\n      \u003ctd\u003e2.14\u003c/td\u003e\n      \u003ctd\u003e86\u003c/td\u003e\n      \u003ctd\u003e40.186920\u003c/td\u003e\n      \u003ctd\u003e0\u003c/td\u003e\n      \u003ctd\u003e1\u003c/td\u003e\n      \u003ctd\u003e0\u003c/td\u003e\n      \u003ctd\u003e0\u003c/td\u003e\n    \u003c/tr\u003e\n    \u003ctr\u003e\n      \u003cth\u003e...\u003c/th\u003e\n      \u003ctd\u003e...\u003c/td\u003e\n      \u003ctd\u003e...\u003c/td\u003e\n      \u003ctd\u003e...\u003c/td\u003e\n      \u003ctd\u003e...\u003c/td\u003e\n      \u003ctd\u003e...\u003c/td\u003e\n      \u003ctd\u003e...\u003c/td\u003e\n      \u003ctd\u003e...\u003c/td\u003e\n      \u003ctd\u003e...\u003c/td\u003e\n      \u003ctd\u003e...\u003c/td\u003e\n      \u003ctd\u003e...\u003c/td\u003e\n      \u003ctd\u003e...\u003c/td\u003e\n      \u003ctd\u003e...\u003c/td\u003e\n    \u003c/tr\u003e\n    \u003ctr\u003e\n      \u003cth\u003e2995\u003c/th\u003e\n      \u003ctd\u003e1050\u003c/td\u003e\n      \u003ctd\u003e14\u003c/td\u003e\n      \u003ctd\u003e2.50\u003c/td\u003e\n      \u003ctd\u003e0\u003c/td\u003e\n      \u003ctd\u003e0.87500\u003c/td\u003e\n      \u003ctd\u003e2.12\u003c/td\u003e\n      \u003ctd\u003e35\u003c/td\u003e\n      \u003ctd\u003e16.509430\u003c/td\u003e\n      \u003ctd\u003e1\u003c/td\u003e\n      \u003ctd\u003e1\u003c/td\u003e\n      \u003ctd\u003e0\u003c/td\u003e\n      \u003ctd\u003e0\u003c/td\u003e\n    \u003c/tr\u003e\n    \u003ctr\u003e\n      \u003cth\u003e2996\u003c/th\u003e\n      \u003ctd\u003e1160\u003c/td\u003e\n      \u003ctd\u003e79\u003c/td\u003e\n      \u003ctd\u003e1.64\u003c/td\u003e\n      \u003ctd\u003e0\u003c/td\u003e\n      \u003ctd\u003e0.75758\u003c/td\u003e\n      \u003ctd\u003e3.11\u003c/td\u003e\n      \u003ctd\u003e15\u003c/td\u003e\n      \u003ctd\u003e4.823151\u003c/td\u003e\n      \u003ctd\u003e0\u003c/td\u003e\n      \u003ctd\u003e1\u003c/td\u003e\n      \u003ctd\u003e0\u003c/td\u003e\n      \u003ctd\u003e0\u003c/td\u003e\n    \u003c/tr\u003e\n    \u003ctr\u003e\n      \u003cth\u003e2997\u003c/th\u003e\n      \u003ctd\u003e1290\u003c/td\u003e\n      \u003ctd\u003e42\u003c/td\u003e\n      \u003ctd\u003e3.04\u003c/td\u003e\n      \u003ctd\u003e0\u003c/td\u003e\n      \u003ctd\u003e1.08065\u003c/td\u003e\n      \u003ctd\u003e3.45\u003c/td\u003e\n      \u003ctd\u003e36\u003c/td\u003e\n      \u003ctd\u003e10.434780\u003c/td\u003e\n      \u003ctd\u003e0\u003c/td\u003e\n      \u003ctd\u003e1\u003c/td\u003e\n      \u003ctd\u003e0\u003c/td\u003e\n      \u003ctd\u003e0\u003c/td\u003e\n    \u003c/tr\u003e\n    \u003ctr\u003e\n      \u003cth\u003e2998\u003c/th\u003e\n      \u003ctd\u003e1010\u003c/td\u003e\n      \u003ctd\u003e44\u003c/td\u003e\n      \u003ctd\u003e1.81\u003c/td\u003e\n      \u003ctd\u003e0\u003c/td\u003e\n      \u003ctd\u003e0.87037\u003c/td\u003e\n      \u003ctd\u003e3.40\u003c/td\u003e\n      \u003ctd\u003e115\u003c/td\u003e\n      \u003ctd\u003e33.823530\u003c/td\u003e\n      \u003ctd\u003e0\u003c/td\u003e\n      \u003ctd\u003e1\u003c/td\u003e\n      \u003ctd\u003e0\u003c/td\u003e\n      \u003ctd\u003e0\u003c/td\u003e\n    \u003c/tr\u003e\n    \u003ctr\u003e\n      \u003cth\u003e2999\u003c/th\u003e\n      \u003ctd\u003e920\u003c/td\u003e\n      \u003ctd\u003e52\u003c/td\u003e\n      \u003ctd\u003e2.44\u003c/td\u003e\n      \u003ctd\u003e0\u003c/td\u003e\n      \u003ctd\u003e1.04444\u003c/td\u003e\n      \u003ctd\u003e3.45\u003c/td\u003e\n      \u003ctd\u003e55\u003c/td\u003e\n      \u003ctd\u003e15.942030\u003c/td\u003e\n      \u003ctd\u003e0\u003c/td\u003e\n      \u003ctd\u003e1\u003c/td\u003e\n      \u003ctd\u003e0\u003c/td\u003e\n      \u003ctd\u003e0\u003c/td\u003e\n    \u003c/tr\u003e\n  \u003c/tbody\u003e\n\u003c/table\u003e\n\u003cp\u003e3000 rows × 12 columns\u003c/p\u003e\n\u003c/div\u003e",
                        "text/plain": "       sat  tothrs  colgpa  athlete  verbmath  hsize  hsrank     hsperc  \\\n0      920      43    2.04        1   0.48387   0.10       4  40.000000   \n1     1170      18    4.00        0   0.82813   9.40     191  20.319150   \n2      810      14    1.78        1   0.88372   1.19      42  35.294120   \n3      940      40    2.42        0   0.80769   5.71     252  44.133100   \n4     1180      18    2.61        0   0.73529   2.14      86  40.186920   \n...    ...     ...     ...      ...       ...    ...     ...        ...   \n2995  1050      14    2.50        0   0.87500   2.12      35  16.509430   \n2996  1160      79    1.64        0   0.75758   3.11      15   4.823151   \n2997  1290      42    3.04        0   1.08065   3.45      36  10.434780   \n2998  1010      44    1.81        0   0.87037   3.40     115  33.823530   \n2999   920      52    2.44        0   1.04444   3.45      55  15.942030   \n\n      female  white  black  minority  \n0          1      0      0         1  \n1          0      1      0         0  \n2          0      1      0         0  \n3          0      1      0         0  \n4          0      1      0         0  \n...      ...    ...    ...       ...  \n2995       1      1      0         0  \n2996       0      1      0         0  \n2997       0      1      0         0  \n2998       0      1      0         0  \n2999       0      1      0         0  \n\n[3000 rows x 12 columns]"
                    },
                    "execution_count": 363,
                    "metadata": {},
                    "output_type": "execute_result"
                }
            ],
            "source": [
                "from sklearn.model_selection import train_test_split\n",
                "import numpy as np\n",
                "\n",
                "train, data1=train_test_split(gpa, test_size=1137, shuffle=False, random_state=30)\n",
                "print(np.mean(train.sat))\n",
                "train"
            ]
        },
        {
            "cell_type": "code",
            "execution_count": 364,
            "metadata": {},
            "outputs": [
                {
                    "name": "stdout",
                    "output_type": "stream",
                    "text": "1014.76\n"
                },
                {
                    "data": {
                        "text/html": "\u003cdiv\u003e\n\u003cstyle scoped\u003e\n    .dataframe tbody tr th:only-of-type {\n        vertical-align: middle;\n    }\n\n    .dataframe tbody tr th {\n        vertical-align: top;\n    }\n\n    .dataframe thead th {\n        text-align: right;\n    }\n\u003c/style\u003e\n\u003ctable border=\"1\" class=\"dataframe\"\u003e\n  \u003cthead\u003e\n    \u003ctr style=\"text-align: right;\"\u003e\n      \u003cth\u003e\u003c/th\u003e\n      \u003cth\u003esat\u003c/th\u003e\n      \u003cth\u003etothrs\u003c/th\u003e\n      \u003cth\u003ecolgpa\u003c/th\u003e\n      \u003cth\u003eathlete\u003c/th\u003e\n      \u003cth\u003everbmath\u003c/th\u003e\n      \u003cth\u003ehsize\u003c/th\u003e\n      \u003cth\u003ehsrank\u003c/th\u003e\n      \u003cth\u003ehsperc\u003c/th\u003e\n      \u003cth\u003efemale\u003c/th\u003e\n      \u003cth\u003ewhite\u003c/th\u003e\n      \u003cth\u003eblack\u003c/th\u003e\n      \u003cth\u003eminority\u003c/th\u003e\n    \u003c/tr\u003e\n  \u003c/thead\u003e\n  \u003ctbody\u003e\n    \u003ctr\u003e\n      \u003cth\u003e3000\u003c/th\u003e\n      \u003ctd\u003e1030\u003c/td\u003e\n      \u003ctd\u003e15\u003c/td\u003e\n      \u003ctd\u003e2.80\u003c/td\u003e\n      \u003ctd\u003e0\u003c/td\u003e\n      \u003ctd\u003e0.74576\u003c/td\u003e\n      \u003ctd\u003e3.65\u003c/td\u003e\n      \u003ctd\u003e34\u003c/td\u003e\n      \u003ctd\u003e9.315068\u003c/td\u003e\n      \u003ctd\u003e0\u003c/td\u003e\n      \u003ctd\u003e1\u003c/td\u003e\n      \u003ctd\u003e0\u003c/td\u003e\n      \u003ctd\u003e0\u003c/td\u003e\n    \u003c/tr\u003e\n    \u003ctr\u003e\n      \u003cth\u003e3001\u003c/th\u003e\n      \u003ctd\u003e830\u003c/td\u003e\n      \u003ctd\u003e55\u003c/td\u003e\n      \u003ctd\u003e2.03\u003c/td\u003e\n      \u003ctd\u003e0\u003c/td\u003e\n      \u003ctd\u003e0.93023\u003c/td\u003e\n      \u003ctd\u003e3.35\u003c/td\u003e\n      \u003ctd\u003e172\u003c/td\u003e\n      \u003ctd\u003e51.343280\u003c/td\u003e\n      \u003ctd\u003e0\u003c/td\u003e\n      \u003ctd\u003e1\u003c/td\u003e\n      \u003ctd\u003e0\u003c/td\u003e\n      \u003ctd\u003e0\u003c/td\u003e\n    \u003c/tr\u003e\n    \u003ctr\u003e\n      \u003cth\u003e3002\u003c/th\u003e\n      \u003ctd\u003e1170\u003c/td\u003e\n      \u003ctd\u003e29\u003c/td\u003e\n      \u003ctd\u003e2.48\u003c/td\u003e\n      \u003ctd\u003e0\u003c/td\u003e\n      \u003ctd\u003e0.88710\u003c/td\u003e\n      \u003ctd\u003e3.45\u003c/td\u003e\n      \u003ctd\u003e46\u003c/td\u003e\n      \u003ctd\u003e13.333330\u003c/td\u003e\n      \u003ctd\u003e0\u003c/td\u003e\n      \u003ctd\u003e1\u003c/td\u003e\n      \u003ctd\u003e0\u003c/td\u003e\n      \u003ctd\u003e0\u003c/td\u003e\n    \u003c/tr\u003e\n    \u003ctr\u003e\n      \u003cth\u003e3003\u003c/th\u003e\n      \u003ctd\u003e860\u003c/td\u003e\n      \u003ctd\u003e50\u003c/td\u003e\n      \u003ctd\u003e1.92\u003c/td\u003e\n      \u003ctd\u003e0\u003c/td\u003e\n      \u003ctd\u003e0.62264\u003c/td\u003e\n      \u003ctd\u003e3.45\u003c/td\u003e\n      \u003ctd\u003e117\u003c/td\u003e\n      \u003ctd\u003e33.913040\u003c/td\u003e\n      \u003ctd\u003e0\u003c/td\u003e\n      \u003ctd\u003e1\u003c/td\u003e\n      \u003ctd\u003e0\u003c/td\u003e\n      \u003ctd\u003e0\u003c/td\u003e\n    \u003c/tr\u003e\n    \u003ctr\u003e\n      \u003cth\u003e3004\u003c/th\u003e\n      \u003ctd\u003e870\u003c/td\u003e\n      \u003ctd\u003e54\u003c/td\u003e\n      \u003ctd\u003e3.27\u003c/td\u003e\n      \u003ctd\u003e0\u003c/td\u003e\n      \u003ctd\u003e0.93333\u003c/td\u003e\n      \u003ctd\u003e3.45\u003c/td\u003e\n      \u003ctd\u003e28\u003c/td\u003e\n      \u003ctd\u003e8.115942\u003c/td\u003e\n      \u003ctd\u003e1\u003c/td\u003e\n      \u003ctd\u003e1\u003c/td\u003e\n      \u003ctd\u003e0\u003c/td\u003e\n      \u003ctd\u003e0\u003c/td\u003e\n    \u003c/tr\u003e\n    \u003ctr\u003e\n      \u003cth\u003e...\u003c/th\u003e\n      \u003ctd\u003e...\u003c/td\u003e\n      \u003ctd\u003e...\u003c/td\u003e\n      \u003ctd\u003e...\u003c/td\u003e\n      \u003ctd\u003e...\u003c/td\u003e\n      \u003ctd\u003e...\u003c/td\u003e\n      \u003ctd\u003e...\u003c/td\u003e\n      \u003ctd\u003e...\u003c/td\u003e\n      \u003ctd\u003e...\u003c/td\u003e\n      \u003ctd\u003e...\u003c/td\u003e\n      \u003ctd\u003e...\u003c/td\u003e\n      \u003ctd\u003e...\u003c/td\u003e\n      \u003ctd\u003e...\u003c/td\u003e\n    \u003c/tr\u003e\n    \u003ctr\u003e\n      \u003cth\u003e3495\u003c/th\u003e\n      \u003ctd\u003e910\u003c/td\u003e\n      \u003ctd\u003e40\u003c/td\u003e\n      \u003ctd\u003e2.35\u003c/td\u003e\n      \u003ctd\u003e0\u003c/td\u003e\n      \u003ctd\u003e0.82000\u003c/td\u003e\n      \u003ctd\u003e4.77\u003c/td\u003e\n      \u003ctd\u003e125\u003c/td\u003e\n      \u003ctd\u003e26.205450\u003c/td\u003e\n      \u003ctd\u003e0\u003c/td\u003e\n      \u003ctd\u003e1\u003c/td\u003e\n      \u003ctd\u003e0\u003c/td\u003e\n      \u003ctd\u003e0\u003c/td\u003e\n    \u003c/tr\u003e\n    \u003ctr\u003e\n      \u003cth\u003e3496\u003c/th\u003e\n      \u003ctd\u003e1220\u003c/td\u003e\n      \u003ctd\u003e76\u003c/td\u003e\n      \u003ctd\u003e2.77\u003c/td\u003e\n      \u003ctd\u003e0\u003c/td\u003e\n      \u003ctd\u003e0.96774\u003c/td\u003e\n      \u003ctd\u003e5.22\u003c/td\u003e\n      \u003ctd\u003e13\u003c/td\u003e\n      \u003ctd\u003e2.490422\u003c/td\u003e\n      \u003ctd\u003e0\u003c/td\u003e\n      \u003ctd\u003e1\u003c/td\u003e\n      \u003ctd\u003e0\u003c/td\u003e\n      \u003ctd\u003e0\u003c/td\u003e\n    \u003c/tr\u003e\n    \u003ctr\u003e\n      \u003cth\u003e3497\u003c/th\u003e\n      \u003ctd\u003e1250\u003c/td\u003e\n      \u003ctd\u003e86\u003c/td\u003e\n      \u003ctd\u003e2.32\u003c/td\u003e\n      \u003ctd\u003e0\u003c/td\u003e\n      \u003ctd\u003e1.01613\u003c/td\u003e\n      \u003ctd\u003e5.22\u003c/td\u003e\n      \u003ctd\u003e75\u003c/td\u003e\n      \u003ctd\u003e14.367820\u003c/td\u003e\n      \u003ctd\u003e0\u003c/td\u003e\n      \u003ctd\u003e1\u003c/td\u003e\n      \u003ctd\u003e0\u003c/td\u003e\n      \u003ctd\u003e0\u003c/td\u003e\n    \u003c/tr\u003e\n    \u003ctr\u003e\n      \u003cth\u003e3498\u003c/th\u003e\n      \u003ctd\u003e870\u003c/td\u003e\n      \u003ctd\u003e28\u003c/td\u003e\n      \u003ctd\u003e2.07\u003c/td\u003e\n      \u003ctd\u003e0\u003c/td\u003e\n      \u003ctd\u003e0.74000\u003c/td\u003e\n      \u003ctd\u003e4.77\u003c/td\u003e\n      \u003ctd\u003e116\u003c/td\u003e\n      \u003ctd\u003e24.318660\u003c/td\u003e\n      \u003ctd\u003e1\u003c/td\u003e\n      \u003ctd\u003e0\u003c/td\u003e\n      \u003ctd\u003e1\u003c/td\u003e\n      \u003ctd\u003e0\u003c/td\u003e\n    \u003c/tr\u003e\n    \u003ctr\u003e\n      \u003cth\u003e3499\u003c/th\u003e\n      \u003ctd\u003e980\u003c/td\u003e\n      \u003ctd\u003e16\u003c/td\u003e\n      \u003ctd\u003e3.75\u003c/td\u003e\n      \u003ctd\u003e0\u003c/td\u003e\n      \u003ctd\u003e1.04167\u003c/td\u003e\n      \u003ctd\u003e4.89\u003c/td\u003e\n      \u003ctd\u003e33\u003c/td\u003e\n      \u003ctd\u003e6.748466\u003c/td\u003e\n      \u003ctd\u003e1\u003c/td\u003e\n      \u003ctd\u003e1\u003c/td\u003e\n      \u003ctd\u003e0\u003c/td\u003e\n      \u003ctd\u003e0\u003c/td\u003e\n    \u003c/tr\u003e\n  \u003c/tbody\u003e\n\u003c/table\u003e\n\u003cp\u003e500 rows × 12 columns\u003c/p\u003e\n\u003c/div\u003e",
                        "text/plain": "       sat  tothrs  colgpa  athlete  verbmath  hsize  hsrank     hsperc  \\\n3000  1030      15    2.80        0   0.74576   3.65      34   9.315068   \n3001   830      55    2.03        0   0.93023   3.35     172  51.343280   \n3002  1170      29    2.48        0   0.88710   3.45      46  13.333330   \n3003   860      50    1.92        0   0.62264   3.45     117  33.913040   \n3004   870      54    3.27        0   0.93333   3.45      28   8.115942   \n...    ...     ...     ...      ...       ...    ...     ...        ...   \n3495   910      40    2.35        0   0.82000   4.77     125  26.205450   \n3496  1220      76    2.77        0   0.96774   5.22      13   2.490422   \n3497  1250      86    2.32        0   1.01613   5.22      75  14.367820   \n3498   870      28    2.07        0   0.74000   4.77     116  24.318660   \n3499   980      16    3.75        0   1.04167   4.89      33   6.748466   \n\n      female  white  black  minority  \n3000       0      1      0         0  \n3001       0      1      0         0  \n3002       0      1      0         0  \n3003       0      1      0         0  \n3004       1      1      0         0  \n...      ...    ...    ...       ...  \n3495       0      1      0         0  \n3496       0      1      0         0  \n3497       0      1      0         0  \n3498       1      0      1         0  \n3499       1      1      0         0  \n\n[500 rows x 12 columns]"
                    },
                    "execution_count": 364,
                    "metadata": {},
                    "output_type": "execute_result"
                }
            ],
            "source": [
                "validation, test = train_test_split(data1, test_size=637, shuffle=False, random_state=30)\n",
                "print(np.mean(validation.sat))\n",
                "validation"
            ]
        },
        {
            "cell_type": "code",
            "execution_count": 365,
            "metadata": {},
            "outputs": [
                {
                    "name": "stdout",
                    "output_type": "stream",
                    "text": "1036.6718995290423\n"
                },
                {
                    "data": {
                        "text/html": "\u003cdiv\u003e\n\u003cstyle scoped\u003e\n    .dataframe tbody tr th:only-of-type {\n        vertical-align: middle;\n    }\n\n    .dataframe tbody tr th {\n        vertical-align: top;\n    }\n\n    .dataframe thead th {\n        text-align: right;\n    }\n\u003c/style\u003e\n\u003ctable border=\"1\" class=\"dataframe\"\u003e\n  \u003cthead\u003e\n    \u003ctr style=\"text-align: right;\"\u003e\n      \u003cth\u003e\u003c/th\u003e\n      \u003cth\u003esat\u003c/th\u003e\n      \u003cth\u003etothrs\u003c/th\u003e\n      \u003cth\u003ecolgpa\u003c/th\u003e\n      \u003cth\u003eathlete\u003c/th\u003e\n      \u003cth\u003everbmath\u003c/th\u003e\n      \u003cth\u003ehsize\u003c/th\u003e\n      \u003cth\u003ehsrank\u003c/th\u003e\n      \u003cth\u003ehsperc\u003c/th\u003e\n      \u003cth\u003efemale\u003c/th\u003e\n      \u003cth\u003ewhite\u003c/th\u003e\n      \u003cth\u003eblack\u003c/th\u003e\n      \u003cth\u003eminority\u003c/th\u003e\n    \u003c/tr\u003e\n  \u003c/thead\u003e\n  \u003ctbody\u003e\n    \u003ctr\u003e\n      \u003cth\u003e3500\u003c/th\u003e\n      \u003ctd\u003e1090\u003c/td\u003e\n      \u003ctd\u003e42\u003c/td\u003e\n      \u003ctd\u003e3.07\u003c/td\u003e\n      \u003ctd\u003e0\u003c/td\u003e\n      \u003ctd\u003e0.87931\u003c/td\u003e\n      \u003ctd\u003e4.77\u003c/td\u003e\n      \u003ctd\u003e5\u003c/td\u003e\n      \u003ctd\u003e1.048218\u003c/td\u003e\n      \u003ctd\u003e0\u003c/td\u003e\n      \u003ctd\u003e1\u003c/td\u003e\n      \u003ctd\u003e0\u003c/td\u003e\n      \u003ctd\u003e0\u003c/td\u003e\n    \u003c/tr\u003e\n    \u003ctr\u003e\n      \u003cth\u003e3501\u003c/th\u003e\n      \u003ctd\u003e1110\u003c/td\u003e\n      \u003ctd\u003e18\u003c/td\u003e\n      \u003ctd\u003e3.22\u003c/td\u003e\n      \u003ctd\u003e1\u003c/td\u003e\n      \u003ctd\u003e0.94737\u003c/td\u003e\n      \u003ctd\u003e5.91\u003c/td\u003e\n      \u003ctd\u003e10\u003c/td\u003e\n      \u003ctd\u003e1.692047\u003c/td\u003e\n      \u003ctd\u003e0\u003c/td\u003e\n      \u003ctd\u003e1\u003c/td\u003e\n      \u003ctd\u003e0\u003c/td\u003e\n      \u003ctd\u003e0\u003c/td\u003e\n    \u003c/tr\u003e\n    \u003ctr\u003e\n      \u003cth\u003e3502\u003c/th\u003e\n      \u003ctd\u003e950\u003c/td\u003e\n      \u003ctd\u003e38\u003c/td\u003e\n      \u003ctd\u003e2.18\u003c/td\u003e\n      \u003ctd\u003e0\u003c/td\u003e\n      \u003ctd\u003e0.79245\u003c/td\u003e\n      \u003ctd\u003e5.84\u003c/td\u003e\n      \u003ctd\u003e300\u003c/td\u003e\n      \u003ctd\u003e51.369860\u003c/td\u003e\n      \u003ctd\u003e0\u003c/td\u003e\n      \u003ctd\u003e1\u003c/td\u003e\n      \u003ctd\u003e0\u003c/td\u003e\n      \u003ctd\u003e0\u003c/td\u003e\n    \u003c/tr\u003e\n    \u003ctr\u003e\n      \u003cth\u003e3503\u003c/th\u003e\n      \u003ctd\u003e1050\u003c/td\u003e\n      \u003ctd\u003e16\u003c/td\u003e\n      \u003ctd\u003e1.68\u003c/td\u003e\n      \u003ctd\u003e0\u003c/td\u003e\n      \u003ctd\u003e0.69355\u003c/td\u003e\n      \u003ctd\u003e4.89\u003c/td\u003e\n      \u003ctd\u003e198\u003c/td\u003e\n      \u003ctd\u003e40.490800\u003c/td\u003e\n      \u003ctd\u003e1\u003c/td\u003e\n      \u003ctd\u003e1\u003c/td\u003e\n      \u003ctd\u003e0\u003c/td\u003e\n      \u003ctd\u003e0\u003c/td\u003e\n    \u003c/tr\u003e\n    \u003ctr\u003e\n      \u003cth\u003e3504\u003c/th\u003e\n      \u003ctd\u003e820\u003c/td\u003e\n      \u003ctd\u003e15\u003c/td\u003e\n      \u003ctd\u003e2.53\u003c/td\u003e\n      \u003ctd\u003e0\u003c/td\u003e\n      \u003ctd\u003e0.70833\u003c/td\u003e\n      \u003ctd\u003e5.51\u003c/td\u003e\n      \u003ctd\u003e133\u003c/td\u003e\n      \u003ctd\u003e24.137930\u003c/td\u003e\n      \u003ctd\u003e1\u003c/td\u003e\n      \u003ctd\u003e1\u003c/td\u003e\n      \u003ctd\u003e0\u003c/td\u003e\n      \u003ctd\u003e0\u003c/td\u003e\n    \u003c/tr\u003e\n    \u003ctr\u003e\n      \u003cth\u003e...\u003c/th\u003e\n      \u003ctd\u003e...\u003c/td\u003e\n      \u003ctd\u003e...\u003c/td\u003e\n      \u003ctd\u003e...\u003c/td\u003e\n      \u003ctd\u003e...\u003c/td\u003e\n      \u003ctd\u003e...\u003c/td\u003e\n      \u003ctd\u003e...\u003c/td\u003e\n      \u003ctd\u003e...\u003c/td\u003e\n      \u003ctd\u003e...\u003c/td\u003e\n      \u003ctd\u003e...\u003c/td\u003e\n      \u003ctd\u003e...\u003c/td\u003e\n      \u003ctd\u003e...\u003c/td\u003e\n      \u003ctd\u003e...\u003c/td\u003e\n    \u003c/tr\u003e\n    \u003ctr\u003e\n      \u003cth\u003e4132\u003c/th\u003e\n      \u003ctd\u003e990\u003c/td\u003e\n      \u003ctd\u003e49\u003c/td\u003e\n      \u003ctd\u003e2.24\u003c/td\u003e\n      \u003ctd\u003e0\u003c/td\u003e\n      \u003ctd\u003e1.02041\u003c/td\u003e\n      \u003ctd\u003e2.33\u003c/td\u003e\n      \u003ctd\u003e89\u003c/td\u003e\n      \u003ctd\u003e38.197430\u003c/td\u003e\n      \u003ctd\u003e1\u003c/td\u003e\n      \u003ctd\u003e1\u003c/td\u003e\n      \u003ctd\u003e0\u003c/td\u003e\n      \u003ctd\u003e0\u003c/td\u003e\n    \u003c/tr\u003e\n    \u003ctr\u003e\n      \u003cth\u003e4133\u003c/th\u003e\n      \u003ctd\u003e900\u003c/td\u003e\n      \u003ctd\u003e50\u003c/td\u003e\n      \u003ctd\u003e2.46\u003c/td\u003e\n      \u003ctd\u003e0\u003c/td\u003e\n      \u003ctd\u003e0.95652\u003c/td\u003e\n      \u003ctd\u003e0.10\u003c/td\u003e\n      \u003ctd\u003e2\u003c/td\u003e\n      \u003ctd\u003e20.000000\u003c/td\u003e\n      \u003ctd\u003e1\u003c/td\u003e\n      \u003ctd\u003e1\u003c/td\u003e\n      \u003ctd\u003e0\u003c/td\u003e\n      \u003ctd\u003e0\u003c/td\u003e\n    \u003c/tr\u003e\n    \u003ctr\u003e\n      \u003cth\u003e4134\u003c/th\u003e\n      \u003ctd\u003e1340\u003c/td\u003e\n      \u003ctd\u003e62\u003c/td\u003e\n      \u003ctd\u003e4.00\u003c/td\u003e\n      \u003ctd\u003e0\u003c/td\u003e\n      \u003ctd\u003e0.94203\u003c/td\u003e\n      \u003ctd\u003e0.45\u003c/td\u003e\n      \u003ctd\u003e1\u003c/td\u003e\n      \u003ctd\u003e2.222222\u003c/td\u003e\n      \u003ctd\u003e0\u003c/td\u003e\n      \u003ctd\u003e1\u003c/td\u003e\n      \u003ctd\u003e0\u003c/td\u003e\n      \u003ctd\u003e0\u003c/td\u003e\n    \u003c/tr\u003e\n    \u003ctr\u003e\n      \u003cth\u003e4135\u003c/th\u003e\n      \u003ctd\u003e980\u003c/td\u003e\n      \u003ctd\u003e12\u003c/td\u003e\n      \u003ctd\u003e2.83\u003c/td\u003e\n      \u003ctd\u003e0\u003c/td\u003e\n      \u003ctd\u003e0.68966\u003c/td\u003e\n      \u003ctd\u003e0.35\u003c/td\u003e\n      \u003ctd\u003e23\u003c/td\u003e\n      \u003ctd\u003e65.714290\u003c/td\u003e\n      \u003ctd\u003e1\u003c/td\u003e\n      \u003ctd\u003e1\u003c/td\u003e\n      \u003ctd\u003e0\u003c/td\u003e\n      \u003ctd\u003e0\u003c/td\u003e\n    \u003c/tr\u003e\n    \u003ctr\u003e\n      \u003cth\u003e4136\u003c/th\u003e\n      \u003ctd\u003e1420\u003c/td\u003e\n      \u003ctd\u003e128\u003c/td\u003e\n      \u003ctd\u003e3.94\u003c/td\u003e\n      \u003ctd\u003e0\u003c/td\u003e\n      \u003ctd\u003e0.91892\u003c/td\u003e\n      \u003ctd\u003e3.13\u003c/td\u003e\n      \u003ctd\u003e38\u003c/td\u003e\n      \u003ctd\u003e12.140580\u003c/td\u003e\n      \u003ctd\u003e0\u003c/td\u003e\n      \u003ctd\u003e1\u003c/td\u003e\n      \u003ctd\u003e0\u003c/td\u003e\n      \u003ctd\u003e0\u003c/td\u003e\n    \u003c/tr\u003e\n  \u003c/tbody\u003e\n\u003c/table\u003e\n\u003cp\u003e637 rows × 12 columns\u003c/p\u003e\n\u003c/div\u003e",
                        "text/plain": "       sat  tothrs  colgpa  athlete  verbmath  hsize  hsrank     hsperc  \\\n3500  1090      42    3.07        0   0.87931   4.77       5   1.048218   \n3501  1110      18    3.22        1   0.94737   5.91      10   1.692047   \n3502   950      38    2.18        0   0.79245   5.84     300  51.369860   \n3503  1050      16    1.68        0   0.69355   4.89     198  40.490800   \n3504   820      15    2.53        0   0.70833   5.51     133  24.137930   \n...    ...     ...     ...      ...       ...    ...     ...        ...   \n4132   990      49    2.24        0   1.02041   2.33      89  38.197430   \n4133   900      50    2.46        0   0.95652   0.10       2  20.000000   \n4134  1340      62    4.00        0   0.94203   0.45       1   2.222222   \n4135   980      12    2.83        0   0.68966   0.35      23  65.714290   \n4136  1420     128    3.94        0   0.91892   3.13      38  12.140580   \n\n      female  white  black  minority  \n3500       0      1      0         0  \n3501       0      1      0         0  \n3502       0      1      0         0  \n3503       1      1      0         0  \n3504       1      1      0         0  \n...      ...    ...    ...       ...  \n4132       1      1      0         0  \n4133       1      1      0         0  \n4134       0      1      0         0  \n4135       1      1      0         0  \n4136       0      1      0         0  \n\n[637 rows x 12 columns]"
                    },
                    "execution_count": 365,
                    "metadata": {},
                    "output_type": "execute_result"
                }
            ],
            "source": [
                "print(np.mean(test.sat))\n",
                "test"
            ]
        },
        {
            "attachments": {},
            "cell_type": "markdown",
            "metadata": {},
            "source": [
                "## Q4. [16 Points]\n",
                "\n",
                "Using the 3 datasets you created in Q3, select the best model of the following three for prediction of college GPA.\n",
                "\n",
                "Model1:\n",
                "$$colgpa=\\beta_0+\\beta_1 sat +\\epsilon$$\n",
                "\n",
                "Model 2:\n",
                "$$colgpa=\\beta_0+\\beta_1 sat +\\beta_2 tothrs +\\epsilon$$\n",
                "\n",
                "Model 3:\n",
                "\n",
                "$$colgpa=\\beta_0+\\beta_1 sat +\\beta_2 tothrs +\\beta_3 verbmath+\\epsilon$$\n",
                "\n",
                "\n",
                "\n",
                "* Train each model on the training set, report RMSE on the validation set for each model. Choose the model that gives the lowest RMSE as the best model. \n",
                "* Use the best model to predict the outcome on the testing set. Use scatter plot to present the relationship between the actual outcome (x-axis) and the predicted value (y-axis). In the same graph, add a line plot starting from (0,0) to (4,4). Based on the graph, comment on how well the model predicts the GPA. \n",
                "* If a person has tothrs=40, sat=1000,verbmath=0.5, based on the best model, calculate the predicted GPA?"
            ]
        },
        {
            "cell_type": "code",
            "execution_count": 373,
            "metadata": {},
            "outputs": [
                {
                    "data": {
                        "text/plain": "colgpa    0.405889\ndtype: float64"
                    },
                    "execution_count": 373,
                    "metadata": {},
                    "output_type": "execute_result"
                }
            ],
            "source": [
                "#Model1 \n",
                "X1 = train.loc[:, [\"sat\"]]\n",
                "y1 = train.loc[:, [\"colgpa\"]]\n",
                "model1 = LinearRegression().fit(X1,y1)\n",
                "MSE1 = np.mean((model1.predict(validation.loc[:, [\"sat\"]]) - validation.loc[:, [\"colgpa\"]])**2)\n",
                "MSE1"
            ]
        },
        {
            "cell_type": "code",
            "execution_count": 375,
            "metadata": {},
            "outputs": [
                {
                    "data": {
                        "text/plain": "colgpa    0.393911\ndtype: float64"
                    },
                    "execution_count": 375,
                    "metadata": {},
                    "output_type": "execute_result"
                }
            ],
            "source": [
                "#Model2\n",
                "X2 = train.loc[:, [\"sat\",\"tothrs\"]]\n",
                "y2 = train.loc[:, [\"colgpa\"]]\n",
                "model2 = LinearRegression().fit(X2,y2)\n",
                "MSE2 = np.mean((model2.predict(validation.loc[:, [\"sat\",\"tothrs\"]]) - validation.loc[:, [\"colgpa\"]])**2)\n",
                "MSE2"
            ]
        },
        {
            "cell_type": "code",
            "execution_count": 376,
            "metadata": {},
            "outputs": [
                {
                    "data": {
                        "text/plain": "colgpa    0.394175\ndtype: float64"
                    },
                    "execution_count": 376,
                    "metadata": {},
                    "output_type": "execute_result"
                }
            ],
            "source": [
                "#Model3\n",
                "X3 = train.loc[:, [\"sat\",\"tothrs\",\"verbmath\"]]\n",
                "y3 = train.loc[:, [\"colgpa\"]]\n",
                "model3 = LinearRegression().fit(X3,y3)\n",
                "MSE3 = np.mean((model3.predict(validation.loc[:, [\"sat\",\"tothrs\",\"verbmath\"]]) - validation.loc[:, [\"colgpa\"]])**2)\n",
                "MSE3"
            ]
        },
        {
            "cell_type": "code",
            "execution_count": 392,
            "metadata": {},
            "outputs": [
                {
                    "data": {
                        "image/png": "[encoded data removed]",
                        "text/plain": "\u003cFigure size 432x288 with 1 Axes\u003e"
                    },
                    "metadata": {
                        "needs_background": "light"
                    },
                    "output_type": "display_data"
                }
            ],
            "source": [
                "#The 2nd model (model2) has the lowest MSE so it is the best model\n",
                "y_hat = model2.predict(test.loc[:, [\"sat\",\"tothrs\"]])\n",
                "y = test.loc[:, [\"colgpa\"]]\n",
                "plt.scatter(y,y_hat,marker=\"o\")\n",
                "x = [0,1,2,3,4]\n",
                "plt.plot(x,x)\n",
                "plt.show()"
            ]
        },
        {
            "attachments": {},
            "cell_type": "markdown",
            "metadata": {},
            "source": [
                "The model does not do the best job predicting the data (at least at lower levels of y). Even though I am using the \"best\" model, the scatter plot of the predicted and actual values do not perfectly fall along the line of y=x. This would have indicated that the predicted and actual values are approximately equal, and would have confirmed the accuracy of the model. However, it appears that scatter plot does not follow this trend that well. "
            ]
        },
        {
            "cell_type": "code",
            "execution_count": 401,
            "metadata": {},
            "outputs": [
                {
                    "name": "stdout",
                    "output_type": "stream",
                    "text": "[[2.57876676]]\n"
                }
            ],
            "source": [
                "#predicted gpa\n",
                "print(model2.predict([[1000,40]]))"
            ]
        },
        {
            "attachments": {},
            "cell_type": "markdown",
            "metadata": {},
            "source": [
                "## Q5 [10 Points]\n",
                "\n",
                "Free 10 Points as a reward for your hard work in the past semester. Best luck with your final exams."
            ]
        },
        {
            "cell_type": "code",
            "execution_count": 371,
            "metadata": {},
            "outputs": [],
            "source": [
                ""
            ]
        }
    ]
}
