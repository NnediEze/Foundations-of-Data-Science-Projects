{
    "metadata": {
        "kernelspec": {
            "name": "python3",
            "display_name": "Python 3",
            "language": "python"
        }
    },
    "nbformat": 4,
    "nbformat_minor": 2,
    "cells": [
        {
            "cell_type": "code",
            "execution_count": 115,
            "metadata": {},
            "outputs": [],
            "source": [
                "import pandas as pd \n",
                "import numpy as np\n",
                "import matplotlib.pyplot as plt \n",
                "%matplotlib inline"
            ]
        },
        {
            "attachments": {},
            "cell_type": "markdown",
            "metadata": {},
            "source": [
                "\n",
                "\n",
                "## Setting\n",
                "\n",
                "![alt text](https://i.ytimg.com/vi/wDajm2VwQX4/maxresdefault.jpg)\n",
                "\n",
                "\n",
                "In this exercise, we will work with a dataset about cars. In this dataset, we have information on 205 cars. These cars serve as a sample of all the cars we would like to study. Each car is associated with 26 attributes. The original data can be accessed from [here](https://archive.ics.uci.edu/ml/datasets/Automobile).  \n",
                "\n",
                "According to the data source, a detailed description of the data and the description of the attributes are given as follows:\n",
                "\n",
                "**Data Set Information**\n",
                "\n",
                "This data set consists of three types of entities: \n",
                "\n",
                "\u003e (a) the specification of an auto in terms of various characteristics\n",
                "\n",
                "\u003e (b) its assigned insurance risk rating\n",
                "\n",
                "\u003e (c) its normalized losses in use as compared to other cars. \n",
                "\n",
                "Type (b) corresponds to the degree to which the auto is more risky than its price indicates. Cars are initially assigned a risk factor symbol associated with its price. Then, if it is more risky (or less), this symbol is adjusted by moving it up (or down) the scale. Actuarians call this process \"symboling\". A value of +3 indicates that the auto is risky, -3 that it is probably pretty safe. \n",
                "\n",
                "Type (c) gives the relative average loss payment per insured vehicle year. This value is normalized for all autos within a particular size classification (two-door small, station wagons, sports/speciality, etc...), and represents the average loss per car per year. \n",
                "\n",
                "Note: Several of the attributes in the database could be used as a \"class\" attribute.\n",
                "\n",
                "\n",
                "**Attribute Information**\n",
                "\n",
                "|No|Attribute|Attribute Range|\n",
                "|---|---|---|\n",
                "|1|symboling| -3, -2, -1, 0, 1, 2, 3|\n",
                "|2| normalized-losses| continuous from 65 to 256|\n",
                "|3|make|alfa-romero, audi, bmw, chevrolet, dodge, honda, isuzu, jaguar, mazda, \u003cbr\u003e mercedes-benz, mercury,  mitsubishi, nissan, peugot, plymouth, porsche,  renault, \u003cbr\u003e saab, subaru, toyota, volkswagen, volvo| \n",
                "|4|fuel-type| diesel, gas|\n",
                "|5| aspiration| std, turbo|\n",
                "|6| num-of-doors| four, two| \n",
                "|7| body-style| hardtop, wagon, sedan, hatchback, convertible|\n",
                "|8| drive-wheels| 4wd, fwd, rwd|\n",
                "|9| engine-location| front, rear|\n",
                "|10| wheel-base| continuous from 86.6 120.9|\n",
                "|11| length| continuous from 141.1 to 208.1|\n",
                "|12| width| continuous from 60.3 to 72.3| \n",
                "|13| height| continuous from 47.8 to 59.8|\n",
                "|14| curb-weight| continuous from 1488 to 4066|\n",
                "|15| engine-type| dohc, dohcv, l, ohc, ohcf, ohcv, rotor| \n",
                "|16| num-of-cylinders| eight, five, four, six, three, twelve, two| \n",
                "|17| engine-size| continuous from 61 to 326|\n",
                "|18| fuel-system| 1bbl, 2bbl, 4bbl, idi, mfi, mpfi, spdi, spfi|\n",
                "|19| bore| continuous from 2.54 to 3.94|\n",
                "|20| stroke| continuous from 2.07 to 4.17|\n",
                "|21| compression-ratio| continuous from 7 to 23| \n",
                "|22| horsepower| continuous from 48 to 288| \n",
                "|23| peak-rpm| continuous from 4150 to 6600|\n",
                "|24| city-mpg| continuous from 13 to 49|\n",
                "|25| highway-mpg|continuous from 16 to 54|\n",
                "|26| price|continuous from 5118 to 45400|\n",
                "\n",
                ""
            ]
        },
        {
            "cell_type": "code",
            "execution_count": 116,
            "metadata": {},
            "outputs": [
                {
                    "data": {
                        "text/html": "\u003cdiv\u003e\n\u003cstyle scoped\u003e\n    .dataframe tbody tr th:only-of-type {\n        vertical-align: middle;\n    }\n\n    .dataframe tbody tr th {\n        vertical-align: top;\n    }\n\n    .dataframe thead th {\n        text-align: right;\n    }\n\u003c/style\u003e\n\u003ctable border=\"1\" class=\"dataframe\"\u003e\n  \u003cthead\u003e\n    \u003ctr style=\"text-align: right;\"\u003e\n      \u003cth\u003e\u003c/th\u003e\n      \u003cth\u003esymboling\u003c/th\u003e\n      \u003cth\u003enormalized-losses\u003c/th\u003e\n      \u003cth\u003emake\u003c/th\u003e\n      \u003cth\u003efuel-type\u003c/th\u003e\n      \u003cth\u003easpiration\u003c/th\u003e\n      \u003cth\u003enum-of-doors\u003c/th\u003e\n      \u003cth\u003ebody-style\u003c/th\u003e\n      \u003cth\u003edrive-wheels\u003c/th\u003e\n      \u003cth\u003eengine-location\u003c/th\u003e\n      \u003cth\u003ewheel-base\u003c/th\u003e\n      \u003cth\u003e...\u003c/th\u003e\n      \u003cth\u003eengine-size\u003c/th\u003e\n      \u003cth\u003efuel-system\u003c/th\u003e\n      \u003cth\u003ebore\u003c/th\u003e\n      \u003cth\u003estroke\u003c/th\u003e\n      \u003cth\u003ecompression-ratio\u003c/th\u003e\n      \u003cth\u003ehorsepower\u003c/th\u003e\n      \u003cth\u003epeak-rpm\u003c/th\u003e\n      \u003cth\u003ecity-mpg\u003c/th\u003e\n      \u003cth\u003ehighway-mpg\u003c/th\u003e\n      \u003cth\u003eprice\u003c/th\u003e\n    \u003c/tr\u003e\n  \u003c/thead\u003e\n  \u003ctbody\u003e\n    \u003ctr\u003e\n      \u003cth\u003e0\u003c/th\u003e\n      \u003ctd\u003e3\u003c/td\u003e\n      \u003ctd\u003e?\u003c/td\u003e\n      \u003ctd\u003ealfa-romero\u003c/td\u003e\n      \u003ctd\u003egas\u003c/td\u003e\n      \u003ctd\u003estd\u003c/td\u003e\n      \u003ctd\u003etwo\u003c/td\u003e\n      \u003ctd\u003econvertible\u003c/td\u003e\n      \u003ctd\u003erwd\u003c/td\u003e\n      \u003ctd\u003efront\u003c/td\u003e\n      \u003ctd\u003e88.6\u003c/td\u003e\n      \u003ctd\u003e...\u003c/td\u003e\n      \u003ctd\u003e130\u003c/td\u003e\n      \u003ctd\u003empfi\u003c/td\u003e\n      \u003ctd\u003e3.47\u003c/td\u003e\n      \u003ctd\u003e2.68\u003c/td\u003e\n      \u003ctd\u003e9.0\u003c/td\u003e\n      \u003ctd\u003e111\u003c/td\u003e\n      \u003ctd\u003e5000\u003c/td\u003e\n      \u003ctd\u003e21\u003c/td\u003e\n      \u003ctd\u003e27\u003c/td\u003e\n      \u003ctd\u003e13495\u003c/td\u003e\n    \u003c/tr\u003e\n    \u003ctr\u003e\n      \u003cth\u003e1\u003c/th\u003e\n      \u003ctd\u003e3\u003c/td\u003e\n      \u003ctd\u003e?\u003c/td\u003e\n      \u003ctd\u003ealfa-romero\u003c/td\u003e\n      \u003ctd\u003egas\u003c/td\u003e\n      \u003ctd\u003estd\u003c/td\u003e\n      \u003ctd\u003etwo\u003c/td\u003e\n      \u003ctd\u003econvertible\u003c/td\u003e\n      \u003ctd\u003erwd\u003c/td\u003e\n      \u003ctd\u003efront\u003c/td\u003e\n      \u003ctd\u003e88.6\u003c/td\u003e\n      \u003ctd\u003e...\u003c/td\u003e\n      \u003ctd\u003e130\u003c/td\u003e\n      \u003ctd\u003empfi\u003c/td\u003e\n      \u003ctd\u003e3.47\u003c/td\u003e\n      \u003ctd\u003e2.68\u003c/td\u003e\n      \u003ctd\u003e9.0\u003c/td\u003e\n      \u003ctd\u003e111\u003c/td\u003e\n      \u003ctd\u003e5000\u003c/td\u003e\n      \u003ctd\u003e21\u003c/td\u003e\n      \u003ctd\u003e27\u003c/td\u003e\n      \u003ctd\u003e16500\u003c/td\u003e\n    \u003c/tr\u003e\n    \u003ctr\u003e\n      \u003cth\u003e2\u003c/th\u003e\n      \u003ctd\u003e1\u003c/td\u003e\n      \u003ctd\u003e?\u003c/td\u003e\n      \u003ctd\u003ealfa-romero\u003c/td\u003e\n      \u003ctd\u003egas\u003c/td\u003e\n      \u003ctd\u003estd\u003c/td\u003e\n      \u003ctd\u003etwo\u003c/td\u003e\n      \u003ctd\u003ehatchback\u003c/td\u003e\n      \u003ctd\u003erwd\u003c/td\u003e\n      \u003ctd\u003efront\u003c/td\u003e\n      \u003ctd\u003e94.5\u003c/td\u003e\n      \u003ctd\u003e...\u003c/td\u003e\n      \u003ctd\u003e152\u003c/td\u003e\n      \u003ctd\u003empfi\u003c/td\u003e\n      \u003ctd\u003e2.68\u003c/td\u003e\n      \u003ctd\u003e3.47\u003c/td\u003e\n      \u003ctd\u003e9.0\u003c/td\u003e\n      \u003ctd\u003e154\u003c/td\u003e\n      \u003ctd\u003e5000\u003c/td\u003e\n      \u003ctd\u003e19\u003c/td\u003e\n      \u003ctd\u003e26\u003c/td\u003e\n      \u003ctd\u003e16500\u003c/td\u003e\n    \u003c/tr\u003e\n    \u003ctr\u003e\n      \u003cth\u003e3\u003c/th\u003e\n      \u003ctd\u003e2\u003c/td\u003e\n      \u003ctd\u003e164\u003c/td\u003e\n      \u003ctd\u003eaudi\u003c/td\u003e\n      \u003ctd\u003egas\u003c/td\u003e\n      \u003ctd\u003estd\u003c/td\u003e\n      \u003ctd\u003efour\u003c/td\u003e\n      \u003ctd\u003esedan\u003c/td\u003e\n      \u003ctd\u003efwd\u003c/td\u003e\n      \u003ctd\u003efront\u003c/td\u003e\n      \u003ctd\u003e99.8\u003c/td\u003e\n      \u003ctd\u003e...\u003c/td\u003e\n      \u003ctd\u003e109\u003c/td\u003e\n      \u003ctd\u003empfi\u003c/td\u003e\n      \u003ctd\u003e3.19\u003c/td\u003e\n      \u003ctd\u003e3.4\u003c/td\u003e\n      \u003ctd\u003e10.0\u003c/td\u003e\n      \u003ctd\u003e102\u003c/td\u003e\n      \u003ctd\u003e5500\u003c/td\u003e\n      \u003ctd\u003e24\u003c/td\u003e\n      \u003ctd\u003e30\u003c/td\u003e\n      \u003ctd\u003e13950\u003c/td\u003e\n    \u003c/tr\u003e\n    \u003ctr\u003e\n      \u003cth\u003e4\u003c/th\u003e\n      \u003ctd\u003e2\u003c/td\u003e\n      \u003ctd\u003e164\u003c/td\u003e\n      \u003ctd\u003eaudi\u003c/td\u003e\n      \u003ctd\u003egas\u003c/td\u003e\n      \u003ctd\u003estd\u003c/td\u003e\n      \u003ctd\u003efour\u003c/td\u003e\n      \u003ctd\u003esedan\u003c/td\u003e\n      \u003ctd\u003e4wd\u003c/td\u003e\n      \u003ctd\u003efront\u003c/td\u003e\n      \u003ctd\u003e99.4\u003c/td\u003e\n      \u003ctd\u003e...\u003c/td\u003e\n      \u003ctd\u003e136\u003c/td\u003e\n      \u003ctd\u003empfi\u003c/td\u003e\n      \u003ctd\u003e3.19\u003c/td\u003e\n      \u003ctd\u003e3.4\u003c/td\u003e\n      \u003ctd\u003e8.0\u003c/td\u003e\n      \u003ctd\u003e115\u003c/td\u003e\n      \u003ctd\u003e5500\u003c/td\u003e\n      \u003ctd\u003e18\u003c/td\u003e\n      \u003ctd\u003e22\u003c/td\u003e\n      \u003ctd\u003e17450\u003c/td\u003e\n    \u003c/tr\u003e\n    \u003ctr\u003e\n      \u003cth\u003e...\u003c/th\u003e\n      \u003ctd\u003e...\u003c/td\u003e\n      \u003ctd\u003e...\u003c/td\u003e\n      \u003ctd\u003e...\u003c/td\u003e\n      \u003ctd\u003e...\u003c/td\u003e\n      \u003ctd\u003e...\u003c/td\u003e\n      \u003ctd\u003e...\u003c/td\u003e\n      \u003ctd\u003e...\u003c/td\u003e\n      \u003ctd\u003e...\u003c/td\u003e\n      \u003ctd\u003e...\u003c/td\u003e\n      \u003ctd\u003e...\u003c/td\u003e\n      \u003ctd\u003e...\u003c/td\u003e\n      \u003ctd\u003e...\u003c/td\u003e\n      \u003ctd\u003e...\u003c/td\u003e\n      \u003ctd\u003e...\u003c/td\u003e\n      \u003ctd\u003e...\u003c/td\u003e\n      \u003ctd\u003e...\u003c/td\u003e\n      \u003ctd\u003e...\u003c/td\u003e\n      \u003ctd\u003e...\u003c/td\u003e\n      \u003ctd\u003e...\u003c/td\u003e\n      \u003ctd\u003e...\u003c/td\u003e\n      \u003ctd\u003e...\u003c/td\u003e\n    \u003c/tr\u003e\n    \u003ctr\u003e\n      \u003cth\u003e200\u003c/th\u003e\n      \u003ctd\u003e-1\u003c/td\u003e\n      \u003ctd\u003e95\u003c/td\u003e\n      \u003ctd\u003evolvo\u003c/td\u003e\n      \u003ctd\u003egas\u003c/td\u003e\n      \u003ctd\u003estd\u003c/td\u003e\n      \u003ctd\u003efour\u003c/td\u003e\n      \u003ctd\u003esedan\u003c/td\u003e\n      \u003ctd\u003erwd\u003c/td\u003e\n      \u003ctd\u003efront\u003c/td\u003e\n      \u003ctd\u003e109.1\u003c/td\u003e\n      \u003ctd\u003e...\u003c/td\u003e\n      \u003ctd\u003e141\u003c/td\u003e\n      \u003ctd\u003empfi\u003c/td\u003e\n      \u003ctd\u003e3.78\u003c/td\u003e\n      \u003ctd\u003e3.15\u003c/td\u003e\n      \u003ctd\u003e9.5\u003c/td\u003e\n      \u003ctd\u003e114\u003c/td\u003e\n      \u003ctd\u003e5400\u003c/td\u003e\n      \u003ctd\u003e23\u003c/td\u003e\n      \u003ctd\u003e28\u003c/td\u003e\n      \u003ctd\u003e16845\u003c/td\u003e\n    \u003c/tr\u003e\n    \u003ctr\u003e\n      \u003cth\u003e201\u003c/th\u003e\n      \u003ctd\u003e-1\u003c/td\u003e\n      \u003ctd\u003e95\u003c/td\u003e\n      \u003ctd\u003evolvo\u003c/td\u003e\n      \u003ctd\u003egas\u003c/td\u003e\n      \u003ctd\u003eturbo\u003c/td\u003e\n      \u003ctd\u003efour\u003c/td\u003e\n      \u003ctd\u003esedan\u003c/td\u003e\n      \u003ctd\u003erwd\u003c/td\u003e\n      \u003ctd\u003efront\u003c/td\u003e\n      \u003ctd\u003e109.1\u003c/td\u003e\n      \u003ctd\u003e...\u003c/td\u003e\n      \u003ctd\u003e141\u003c/td\u003e\n      \u003ctd\u003empfi\u003c/td\u003e\n      \u003ctd\u003e3.78\u003c/td\u003e\n      \u003ctd\u003e3.15\u003c/td\u003e\n      \u003ctd\u003e8.7\u003c/td\u003e\n      \u003ctd\u003e160\u003c/td\u003e\n      \u003ctd\u003e5300\u003c/td\u003e\n      \u003ctd\u003e19\u003c/td\u003e\n      \u003ctd\u003e25\u003c/td\u003e\n      \u003ctd\u003e19045\u003c/td\u003e\n    \u003c/tr\u003e\n    \u003ctr\u003e\n      \u003cth\u003e202\u003c/th\u003e\n      \u003ctd\u003e-1\u003c/td\u003e\n      \u003ctd\u003e95\u003c/td\u003e\n      \u003ctd\u003evolvo\u003c/td\u003e\n      \u003ctd\u003egas\u003c/td\u003e\n      \u003ctd\u003estd\u003c/td\u003e\n      \u003ctd\u003efour\u003c/td\u003e\n      \u003ctd\u003esedan\u003c/td\u003e\n      \u003ctd\u003erwd\u003c/td\u003e\n      \u003ctd\u003efront\u003c/td\u003e\n      \u003ctd\u003e109.1\u003c/td\u003e\n      \u003ctd\u003e...\u003c/td\u003e\n      \u003ctd\u003e173\u003c/td\u003e\n      \u003ctd\u003empfi\u003c/td\u003e\n      \u003ctd\u003e3.58\u003c/td\u003e\n      \u003ctd\u003e2.87\u003c/td\u003e\n      \u003ctd\u003e8.8\u003c/td\u003e\n      \u003ctd\u003e134\u003c/td\u003e\n      \u003ctd\u003e5500\u003c/td\u003e\n      \u003ctd\u003e18\u003c/td\u003e\n      \u003ctd\u003e23\u003c/td\u003e\n      \u003ctd\u003e21485\u003c/td\u003e\n    \u003c/tr\u003e\n    \u003ctr\u003e\n      \u003cth\u003e203\u003c/th\u003e\n      \u003ctd\u003e-1\u003c/td\u003e\n      \u003ctd\u003e95\u003c/td\u003e\n      \u003ctd\u003evolvo\u003c/td\u003e\n      \u003ctd\u003ediesel\u003c/td\u003e\n      \u003ctd\u003eturbo\u003c/td\u003e\n      \u003ctd\u003efour\u003c/td\u003e\n      \u003ctd\u003esedan\u003c/td\u003e\n      \u003ctd\u003erwd\u003c/td\u003e\n      \u003ctd\u003efront\u003c/td\u003e\n      \u003ctd\u003e109.1\u003c/td\u003e\n      \u003ctd\u003e...\u003c/td\u003e\n      \u003ctd\u003e145\u003c/td\u003e\n      \u003ctd\u003eidi\u003c/td\u003e\n      \u003ctd\u003e3.01\u003c/td\u003e\n      \u003ctd\u003e3.4\u003c/td\u003e\n      \u003ctd\u003e23.0\u003c/td\u003e\n      \u003ctd\u003e106\u003c/td\u003e\n      \u003ctd\u003e4800\u003c/td\u003e\n      \u003ctd\u003e26\u003c/td\u003e\n      \u003ctd\u003e27\u003c/td\u003e\n      \u003ctd\u003e22470\u003c/td\u003e\n    \u003c/tr\u003e\n    \u003ctr\u003e\n      \u003cth\u003e204\u003c/th\u003e\n      \u003ctd\u003e-1\u003c/td\u003e\n      \u003ctd\u003e95\u003c/td\u003e\n      \u003ctd\u003evolvo\u003c/td\u003e\n      \u003ctd\u003egas\u003c/td\u003e\n      \u003ctd\u003eturbo\u003c/td\u003e\n      \u003ctd\u003efour\u003c/td\u003e\n      \u003ctd\u003esedan\u003c/td\u003e\n      \u003ctd\u003erwd\u003c/td\u003e\n      \u003ctd\u003efront\u003c/td\u003e\n      \u003ctd\u003e109.1\u003c/td\u003e\n      \u003ctd\u003e...\u003c/td\u003e\n      \u003ctd\u003e141\u003c/td\u003e\n      \u003ctd\u003empfi\u003c/td\u003e\n      \u003ctd\u003e3.78\u003c/td\u003e\n      \u003ctd\u003e3.15\u003c/td\u003e\n      \u003ctd\u003e9.5\u003c/td\u003e\n      \u003ctd\u003e114\u003c/td\u003e\n      \u003ctd\u003e5400\u003c/td\u003e\n      \u003ctd\u003e19\u003c/td\u003e\n      \u003ctd\u003e25\u003c/td\u003e\n      \u003ctd\u003e22625\u003c/td\u003e\n    \u003c/tr\u003e\n  \u003c/tbody\u003e\n\u003c/table\u003e\n\u003cp\u003e205 rows × 26 columns\u003c/p\u003e\n\u003c/div\u003e",
                        "text/plain": "     symboling normalized-losses         make fuel-type aspiration  \\\n0            3                 ?  alfa-romero       gas        std   \n1            3                 ?  alfa-romero       gas        std   \n2            1                 ?  alfa-romero       gas        std   \n3            2               164         audi       gas        std   \n4            2               164         audi       gas        std   \n..         ...               ...          ...       ...        ...   \n200         -1                95        volvo       gas        std   \n201         -1                95        volvo       gas      turbo   \n202         -1                95        volvo       gas        std   \n203         -1                95        volvo    diesel      turbo   \n204         -1                95        volvo       gas      turbo   \n\n    num-of-doors   body-style drive-wheels engine-location  wheel-base  ...  \\\n0            two  convertible          rwd           front        88.6  ...   \n1            two  convertible          rwd           front        88.6  ...   \n2            two    hatchback          rwd           front        94.5  ...   \n3           four        sedan          fwd           front        99.8  ...   \n4           four        sedan          4wd           front        99.4  ...   \n..           ...          ...          ...             ...         ...  ...   \n200         four        sedan          rwd           front       109.1  ...   \n201         four        sedan          rwd           front       109.1  ...   \n202         four        sedan          rwd           front       109.1  ...   \n203         four        sedan          rwd           front       109.1  ...   \n204         four        sedan          rwd           front       109.1  ...   \n\n     engine-size  fuel-system  bore  stroke compression-ratio horsepower  \\\n0            130         mpfi  3.47    2.68               9.0        111   \n1            130         mpfi  3.47    2.68               9.0        111   \n2            152         mpfi  2.68    3.47               9.0        154   \n3            109         mpfi  3.19     3.4              10.0        102   \n4            136         mpfi  3.19     3.4               8.0        115   \n..           ...          ...   ...     ...               ...        ...   \n200          141         mpfi  3.78    3.15               9.5        114   \n201          141         mpfi  3.78    3.15               8.7        160   \n202          173         mpfi  3.58    2.87               8.8        134   \n203          145          idi  3.01     3.4              23.0        106   \n204          141         mpfi  3.78    3.15               9.5        114   \n\n     peak-rpm city-mpg highway-mpg  price  \n0        5000       21          27  13495  \n1        5000       21          27  16500  \n2        5000       19          26  16500  \n3        5500       24          30  13950  \n4        5500       18          22  17450  \n..        ...      ...         ...    ...  \n200      5400       23          28  16845  \n201      5300       19          25  19045  \n202      5500       18          23  21485  \n203      4800       26          27  22470  \n204      5400       19          25  22625  \n\n[205 rows x 26 columns]"
                    },
                    "execution_count": 116,
                    "metadata": {},
                    "output_type": "execute_result"
                }
            ],
            "source": [
                "Auto=pd.read_csv(\"Auto.csv\")\n",
                "Auto"
            ]
        },
        {
            "attachments": {},
            "cell_type": "markdown",
            "metadata": {},
            "source": [
                "## Q1. [6 points]\n",
                "\n",
                "Based on the samples, we can identify the maker that produced cars with the lowest average risk and the maker that produced the cars with the highest average risk. Create a table that reports the names of those two makers and the value of average risk for each producer."
            ]
        },
        {
            "cell_type": "code",
            "execution_count": 117,
            "metadata": {},
            "outputs": [
                {
                    "data": {
                        "text/html": "\u003cdiv\u003e\n\u003cstyle scoped\u003e\n    .dataframe tbody tr th:only-of-type {\n        vertical-align: middle;\n    }\n\n    .dataframe tbody tr th {\n        vertical-align: top;\n    }\n\n    .dataframe thead tr th {\n        text-align: left;\n    }\n\u003c/style\u003e\n\u003ctable border=\"1\" class=\"dataframe\"\u003e\n  \u003cthead\u003e\n    \u003ctr\u003e\n      \u003cth\u003e\u003c/th\u003e\n      \u003cth\u003emaker\u003c/th\u003e\n      \u003cth\u003eaverage risk\u003c/th\u003e\n    \u003c/tr\u003e\n  \u003c/thead\u003e\n  \u003ctbody\u003e\n    \u003ctr\u003e\n      \u003cth\u003e0\u003c/th\u003e\n      \u003ctd\u003evolvo\u003c/td\u003e\n      \u003ctd\u003e-1.272727\u003c/td\u003e\n    \u003c/tr\u003e\n    \u003ctr\u003e\n      \u003cth\u003e21\u003c/th\u003e\n      \u003ctd\u003eporsche\u003c/td\u003e\n      \u003ctd\u003e2.600000\u003c/td\u003e\n    \u003c/tr\u003e\n  \u003c/tbody\u003e\n\u003c/table\u003e\n\u003c/div\u003e",
                        "text/plain": "      maker average risk\n0     volvo    -1.272727\n21  porsche     2.600000"
                    },
                    "execution_count": 117,
                    "metadata": {},
                    "output_type": "execute_result"
                }
            ],
            "source": [
                "auto_df = Auto[[\"symboling\",\"make\"]]\n",
                "avg_risk = auto_df.groupby(by=\"make\").mean()\n",
                "avg_risk.sort_values(by=\"symboling\", ascending=True, inplace=True)\n",
                "avg_risk.reset_index(inplace=True)\n",
                "table = avg_risk.loc[[0, avg_risk.symboling.size-1],[\"make\",\"symboling\"]]\n",
                "table.columns = [[\"maker\", \"average risk\"]]\n",
                "table"
            ]
        },
        {
            "attachments": {},
            "cell_type": "markdown",
            "metadata": {},
            "source": [
                "## Q2. [12 points]\n",
                "\n",
                "In some columns, we have \"?\" as the values for certain observations. For example, the price for the 10th model is \"?\". These question marks indicate missing values.\n",
                "\n",
                "* Substitue all the \"?\" values in the \"price\" column with the average price computed using non-missing values in the price column. \n",
                "* Do the same thing for the \"horsepower\" column.\n",
                "* For these two columns, report the average price and average horsepower after you finish the previous two steps.\n",
                "\n",
                "[hint: in order to compute the average, you need to convert the column to float type. Thus, you have to convert ? to `np.nan`]\n",
                "\n",
                "[hint: if [`Series.mean()`](https://pandas.pydata.org/pandas-docs/stable/reference/api/pandas.Series.mean.html) method and [`np.nanmean()`](https://numpy.org/doc/stable/reference/generated/numpy.nanmean.html) can both calculate the average when you have missing values in a column]"
            ]
        },
        {
            "cell_type": "code",
            "execution_count": 118,
            "metadata": {},
            "outputs": [
                {
                    "data": {
                        "text/plain": "average price         13207.129353\naverage horsepower      104.256158\ndtype: float64"
                    },
                    "execution_count": 118,
                    "metadata": {},
                    "output_type": "execute_result"
                }
            ],
            "source": [
                "Auto.price.replace('?',np.nan,inplace=True)\n",
                "Auto.horsepower.replace('?',np.nan,inplace=True)\n",
                "Auto = Auto.astype({\"price\":float,\"horsepower\":float})\n",
                "\n",
                "Auto.iloc[np.where(Auto.price.isnull())[0], 25] = Auto.price.mean()\n",
                "Auto.iloc[np.where(Auto.horsepower.isnull())[0], 21] = Auto.horsepower.mean()\n",
                "\n",
                "avg_val = Auto[[\"price\",\"horsepower\"]]\n",
                "avg_val.columns = [\"average price\", \"average horsepower\"]\n",
                "avg_val = avg_val.mean()\n",
                "avg_val"
            ]
        },
        {
            "attachments": {},
            "cell_type": "markdown",
            "metadata": {},
            "source": [
                "## Q3. [6 points]\n",
                "\n",
                "Add two columns to the table named \"HighPrice\" and \"HighHorsepower\".\n",
                "\n",
                "The values in \"High Price\" column can be 0 or 1:\n",
                "\n",
                "              1: If the price of the car is higher than the median price\n",
                "              0: if the price of the car is lower than or equal to the median price\n",
                "\n",
                "\n",
                "The values in \"High Horsepower\" column can be 0 or 1:\n",
                "\n",
                "              1: If the horsepower of the car is higher than the median horsepower\n",
                "              0. If the horsepower of the car is lower than or equal to the median horsepower"
            ]
        },
        {
            "cell_type": "code",
            "execution_count": 119,
            "metadata": {},
            "outputs": [
                {
                    "data": {
                        "text/html": "\u003cdiv\u003e\n\u003cstyle scoped\u003e\n    .dataframe tbody tr th:only-of-type {\n        vertical-align: middle;\n    }\n\n    .dataframe tbody tr th {\n        vertical-align: top;\n    }\n\n    .dataframe thead th {\n        text-align: right;\n    }\n\u003c/style\u003e\n\u003ctable border=\"1\" class=\"dataframe\"\u003e\n  \u003cthead\u003e\n    \u003ctr style=\"text-align: right;\"\u003e\n      \u003cth\u003e\u003c/th\u003e\n      \u003cth\u003esymboling\u003c/th\u003e\n      \u003cth\u003enormalized-losses\u003c/th\u003e\n      \u003cth\u003emake\u003c/th\u003e\n      \u003cth\u003efuel-type\u003c/th\u003e\n      \u003cth\u003easpiration\u003c/th\u003e\n      \u003cth\u003enum-of-doors\u003c/th\u003e\n      \u003cth\u003ebody-style\u003c/th\u003e\n      \u003cth\u003edrive-wheels\u003c/th\u003e\n      \u003cth\u003eengine-location\u003c/th\u003e\n      \u003cth\u003ewheel-base\u003c/th\u003e\n      \u003cth\u003e...\u003c/th\u003e\n      \u003cth\u003ebore\u003c/th\u003e\n      \u003cth\u003estroke\u003c/th\u003e\n      \u003cth\u003ecompression-ratio\u003c/th\u003e\n      \u003cth\u003ehorsepower\u003c/th\u003e\n      \u003cth\u003epeak-rpm\u003c/th\u003e\n      \u003cth\u003ecity-mpg\u003c/th\u003e\n      \u003cth\u003ehighway-mpg\u003c/th\u003e\n      \u003cth\u003eprice\u003c/th\u003e\n      \u003cth\u003eHighPrice\u003c/th\u003e\n      \u003cth\u003eHighHorsepower\u003c/th\u003e\n    \u003c/tr\u003e\n  \u003c/thead\u003e\n  \u003ctbody\u003e\n    \u003ctr\u003e\n      \u003cth\u003e0\u003c/th\u003e\n      \u003ctd\u003e3\u003c/td\u003e\n      \u003ctd\u003e?\u003c/td\u003e\n      \u003ctd\u003ealfa-romero\u003c/td\u003e\n      \u003ctd\u003egas\u003c/td\u003e\n      \u003ctd\u003estd\u003c/td\u003e\n      \u003ctd\u003etwo\u003c/td\u003e\n      \u003ctd\u003econvertible\u003c/td\u003e\n      \u003ctd\u003erwd\u003c/td\u003e\n      \u003ctd\u003efront\u003c/td\u003e\n      \u003ctd\u003e88.6\u003c/td\u003e\n      \u003ctd\u003e...\u003c/td\u003e\n      \u003ctd\u003e3.47\u003c/td\u003e\n      \u003ctd\u003e2.68\u003c/td\u003e\n      \u003ctd\u003e9.0\u003c/td\u003e\n      \u003ctd\u003e111.0\u003c/td\u003e\n      \u003ctd\u003e5000\u003c/td\u003e\n      \u003ctd\u003e21\u003c/td\u003e\n      \u003ctd\u003e27\u003c/td\u003e\n      \u003ctd\u003e13495.0\u003c/td\u003e\n      \u003ctd\u003e1.0\u003c/td\u003e\n      \u003ctd\u003e1.0\u003c/td\u003e\n    \u003c/tr\u003e\n    \u003ctr\u003e\n      \u003cth\u003e1\u003c/th\u003e\n      \u003ctd\u003e3\u003c/td\u003e\n      \u003ctd\u003e?\u003c/td\u003e\n      \u003ctd\u003ealfa-romero\u003c/td\u003e\n      \u003ctd\u003egas\u003c/td\u003e\n      \u003ctd\u003estd\u003c/td\u003e\n      \u003ctd\u003etwo\u003c/td\u003e\n      \u003ctd\u003econvertible\u003c/td\u003e\n      \u003ctd\u003erwd\u003c/td\u003e\n      \u003ctd\u003efront\u003c/td\u003e\n      \u003ctd\u003e88.6\u003c/td\u003e\n      \u003ctd\u003e...\u003c/td\u003e\n      \u003ctd\u003e3.47\u003c/td\u003e\n      \u003ctd\u003e2.68\u003c/td\u003e\n      \u003ctd\u003e9.0\u003c/td\u003e\n      \u003ctd\u003e111.0\u003c/td\u003e\n      \u003ctd\u003e5000\u003c/td\u003e\n      \u003ctd\u003e21\u003c/td\u003e\n      \u003ctd\u003e27\u003c/td\u003e\n      \u003ctd\u003e16500.0\u003c/td\u003e\n      \u003ctd\u003e1.0\u003c/td\u003e\n      \u003ctd\u003e1.0\u003c/td\u003e\n    \u003c/tr\u003e\n    \u003ctr\u003e\n      \u003cth\u003e2\u003c/th\u003e\n      \u003ctd\u003e1\u003c/td\u003e\n      \u003ctd\u003e?\u003c/td\u003e\n      \u003ctd\u003ealfa-romero\u003c/td\u003e\n      \u003ctd\u003egas\u003c/td\u003e\n      \u003ctd\u003estd\u003c/td\u003e\n      \u003ctd\u003etwo\u003c/td\u003e\n      \u003ctd\u003ehatchback\u003c/td\u003e\n      \u003ctd\u003erwd\u003c/td\u003e\n      \u003ctd\u003efront\u003c/td\u003e\n      \u003ctd\u003e94.5\u003c/td\u003e\n      \u003ctd\u003e...\u003c/td\u003e\n      \u003ctd\u003e2.68\u003c/td\u003e\n      \u003ctd\u003e3.47\u003c/td\u003e\n      \u003ctd\u003e9.0\u003c/td\u003e\n      \u003ctd\u003e154.0\u003c/td\u003e\n      \u003ctd\u003e5000\u003c/td\u003e\n      \u003ctd\u003e19\u003c/td\u003e\n      \u003ctd\u003e26\u003c/td\u003e\n      \u003ctd\u003e16500.0\u003c/td\u003e\n      \u003ctd\u003e1.0\u003c/td\u003e\n      \u003ctd\u003e1.0\u003c/td\u003e\n    \u003c/tr\u003e\n    \u003ctr\u003e\n      \u003cth\u003e3\u003c/th\u003e\n      \u003ctd\u003e2\u003c/td\u003e\n      \u003ctd\u003e164\u003c/td\u003e\n      \u003ctd\u003eaudi\u003c/td\u003e\n      \u003ctd\u003egas\u003c/td\u003e\n      \u003ctd\u003estd\u003c/td\u003e\n      \u003ctd\u003efour\u003c/td\u003e\n      \u003ctd\u003esedan\u003c/td\u003e\n      \u003ctd\u003efwd\u003c/td\u003e\n      \u003ctd\u003efront\u003c/td\u003e\n      \u003ctd\u003e99.8\u003c/td\u003e\n      \u003ctd\u003e...\u003c/td\u003e\n      \u003ctd\u003e3.19\u003c/td\u003e\n      \u003ctd\u003e3.4\u003c/td\u003e\n      \u003ctd\u003e10.0\u003c/td\u003e\n      \u003ctd\u003e102.0\u003c/td\u003e\n      \u003ctd\u003e5500\u003c/td\u003e\n      \u003ctd\u003e24\u003c/td\u003e\n      \u003ctd\u003e30\u003c/td\u003e\n      \u003ctd\u003e13950.0\u003c/td\u003e\n      \u003ctd\u003e1.0\u003c/td\u003e\n      \u003ctd\u003e1.0\u003c/td\u003e\n    \u003c/tr\u003e\n    \u003ctr\u003e\n      \u003cth\u003e4\u003c/th\u003e\n      \u003ctd\u003e2\u003c/td\u003e\n      \u003ctd\u003e164\u003c/td\u003e\n      \u003ctd\u003eaudi\u003c/td\u003e\n      \u003ctd\u003egas\u003c/td\u003e\n      \u003ctd\u003estd\u003c/td\u003e\n      \u003ctd\u003efour\u003c/td\u003e\n      \u003ctd\u003esedan\u003c/td\u003e\n      \u003ctd\u003e4wd\u003c/td\u003e\n      \u003ctd\u003efront\u003c/td\u003e\n      \u003ctd\u003e99.4\u003c/td\u003e\n      \u003ctd\u003e...\u003c/td\u003e\n      \u003ctd\u003e3.19\u003c/td\u003e\n      \u003ctd\u003e3.4\u003c/td\u003e\n      \u003ctd\u003e8.0\u003c/td\u003e\n      \u003ctd\u003e115.0\u003c/td\u003e\n      \u003ctd\u003e5500\u003c/td\u003e\n      \u003ctd\u003e18\u003c/td\u003e\n      \u003ctd\u003e22\u003c/td\u003e\n      \u003ctd\u003e17450.0\u003c/td\u003e\n      \u003ctd\u003e1.0\u003c/td\u003e\n      \u003ctd\u003e1.0\u003c/td\u003e\n    \u003c/tr\u003e\n    \u003ctr\u003e\n      \u003cth\u003e...\u003c/th\u003e\n      \u003ctd\u003e...\u003c/td\u003e\n      \u003ctd\u003e...\u003c/td\u003e\n      \u003ctd\u003e...\u003c/td\u003e\n      \u003ctd\u003e...\u003c/td\u003e\n      \u003ctd\u003e...\u003c/td\u003e\n      \u003ctd\u003e...\u003c/td\u003e\n      \u003ctd\u003e...\u003c/td\u003e\n      \u003ctd\u003e...\u003c/td\u003e\n      \u003ctd\u003e...\u003c/td\u003e\n      \u003ctd\u003e...\u003c/td\u003e\n      \u003ctd\u003e...\u003c/td\u003e\n      \u003ctd\u003e...\u003c/td\u003e\n      \u003ctd\u003e...\u003c/td\u003e\n      \u003ctd\u003e...\u003c/td\u003e\n      \u003ctd\u003e...\u003c/td\u003e\n      \u003ctd\u003e...\u003c/td\u003e\n      \u003ctd\u003e...\u003c/td\u003e\n      \u003ctd\u003e...\u003c/td\u003e\n      \u003ctd\u003e...\u003c/td\u003e\n      \u003ctd\u003e...\u003c/td\u003e\n      \u003ctd\u003e...\u003c/td\u003e\n    \u003c/tr\u003e\n    \u003ctr\u003e\n      \u003cth\u003e200\u003c/th\u003e\n      \u003ctd\u003e-1\u003c/td\u003e\n      \u003ctd\u003e95\u003c/td\u003e\n      \u003ctd\u003evolvo\u003c/td\u003e\n      \u003ctd\u003egas\u003c/td\u003e\n      \u003ctd\u003estd\u003c/td\u003e\n      \u003ctd\u003efour\u003c/td\u003e\n      \u003ctd\u003esedan\u003c/td\u003e\n      \u003ctd\u003erwd\u003c/td\u003e\n      \u003ctd\u003efront\u003c/td\u003e\n      \u003ctd\u003e109.1\u003c/td\u003e\n      \u003ctd\u003e...\u003c/td\u003e\n      \u003ctd\u003e3.78\u003c/td\u003e\n      \u003ctd\u003e3.15\u003c/td\u003e\n      \u003ctd\u003e9.5\u003c/td\u003e\n      \u003ctd\u003e114.0\u003c/td\u003e\n      \u003ctd\u003e5400\u003c/td\u003e\n      \u003ctd\u003e23\u003c/td\u003e\n      \u003ctd\u003e28\u003c/td\u003e\n      \u003ctd\u003e16845.0\u003c/td\u003e\n      \u003ctd\u003e1.0\u003c/td\u003e\n      \u003ctd\u003e1.0\u003c/td\u003e\n    \u003c/tr\u003e\n    \u003ctr\u003e\n      \u003cth\u003e201\u003c/th\u003e\n      \u003ctd\u003e-1\u003c/td\u003e\n      \u003ctd\u003e95\u003c/td\u003e\n      \u003ctd\u003evolvo\u003c/td\u003e\n      \u003ctd\u003egas\u003c/td\u003e\n      \u003ctd\u003eturbo\u003c/td\u003e\n      \u003ctd\u003efour\u003c/td\u003e\n      \u003ctd\u003esedan\u003c/td\u003e\n      \u003ctd\u003erwd\u003c/td\u003e\n      \u003ctd\u003efront\u003c/td\u003e\n      \u003ctd\u003e109.1\u003c/td\u003e\n      \u003ctd\u003e...\u003c/td\u003e\n      \u003ctd\u003e3.78\u003c/td\u003e\n      \u003ctd\u003e3.15\u003c/td\u003e\n      \u003ctd\u003e8.7\u003c/td\u003e\n      \u003ctd\u003e160.0\u003c/td\u003e\n      \u003ctd\u003e5300\u003c/td\u003e\n      \u003ctd\u003e19\u003c/td\u003e\n      \u003ctd\u003e25\u003c/td\u003e\n      \u003ctd\u003e19045.0\u003c/td\u003e\n      \u003ctd\u003e1.0\u003c/td\u003e\n      \u003ctd\u003e1.0\u003c/td\u003e\n    \u003c/tr\u003e\n    \u003ctr\u003e\n      \u003cth\u003e202\u003c/th\u003e\n      \u003ctd\u003e-1\u003c/td\u003e\n      \u003ctd\u003e95\u003c/td\u003e\n      \u003ctd\u003evolvo\u003c/td\u003e\n      \u003ctd\u003egas\u003c/td\u003e\n      \u003ctd\u003estd\u003c/td\u003e\n      \u003ctd\u003efour\u003c/td\u003e\n      \u003ctd\u003esedan\u003c/td\u003e\n      \u003ctd\u003erwd\u003c/td\u003e\n      \u003ctd\u003efront\u003c/td\u003e\n      \u003ctd\u003e109.1\u003c/td\u003e\n      \u003ctd\u003e...\u003c/td\u003e\n      \u003ctd\u003e3.58\u003c/td\u003e\n      \u003ctd\u003e2.87\u003c/td\u003e\n      \u003ctd\u003e8.8\u003c/td\u003e\n      \u003ctd\u003e134.0\u003c/td\u003e\n      \u003ctd\u003e5500\u003c/td\u003e\n      \u003ctd\u003e18\u003c/td\u003e\n      \u003ctd\u003e23\u003c/td\u003e\n      \u003ctd\u003e21485.0\u003c/td\u003e\n      \u003ctd\u003e1.0\u003c/td\u003e\n      \u003ctd\u003e1.0\u003c/td\u003e\n    \u003c/tr\u003e\n    \u003ctr\u003e\n      \u003cth\u003e203\u003c/th\u003e\n      \u003ctd\u003e-1\u003c/td\u003e\n      \u003ctd\u003e95\u003c/td\u003e\n      \u003ctd\u003evolvo\u003c/td\u003e\n      \u003ctd\u003ediesel\u003c/td\u003e\n      \u003ctd\u003eturbo\u003c/td\u003e\n      \u003ctd\u003efour\u003c/td\u003e\n      \u003ctd\u003esedan\u003c/td\u003e\n      \u003ctd\u003erwd\u003c/td\u003e\n      \u003ctd\u003efront\u003c/td\u003e\n      \u003ctd\u003e109.1\u003c/td\u003e\n      \u003ctd\u003e...\u003c/td\u003e\n      \u003ctd\u003e3.01\u003c/td\u003e\n      \u003ctd\u003e3.4\u003c/td\u003e\n      \u003ctd\u003e23.0\u003c/td\u003e\n      \u003ctd\u003e106.0\u003c/td\u003e\n      \u003ctd\u003e4800\u003c/td\u003e\n      \u003ctd\u003e26\u003c/td\u003e\n      \u003ctd\u003e27\u003c/td\u003e\n      \u003ctd\u003e22470.0\u003c/td\u003e\n      \u003ctd\u003e1.0\u003c/td\u003e\n      \u003ctd\u003e1.0\u003c/td\u003e\n    \u003c/tr\u003e\n    \u003ctr\u003e\n      \u003cth\u003e204\u003c/th\u003e\n      \u003ctd\u003e-1\u003c/td\u003e\n      \u003ctd\u003e95\u003c/td\u003e\n      \u003ctd\u003evolvo\u003c/td\u003e\n      \u003ctd\u003egas\u003c/td\u003e\n      \u003ctd\u003eturbo\u003c/td\u003e\n      \u003ctd\u003efour\u003c/td\u003e\n      \u003ctd\u003esedan\u003c/td\u003e\n      \u003ctd\u003erwd\u003c/td\u003e\n      \u003ctd\u003efront\u003c/td\u003e\n      \u003ctd\u003e109.1\u003c/td\u003e\n      \u003ctd\u003e...\u003c/td\u003e\n      \u003ctd\u003e3.78\u003c/td\u003e\n      \u003ctd\u003e3.15\u003c/td\u003e\n      \u003ctd\u003e9.5\u003c/td\u003e\n      \u003ctd\u003e114.0\u003c/td\u003e\n      \u003ctd\u003e5400\u003c/td\u003e\n      \u003ctd\u003e19\u003c/td\u003e\n      \u003ctd\u003e25\u003c/td\u003e\n      \u003ctd\u003e22625.0\u003c/td\u003e\n      \u003ctd\u003e1.0\u003c/td\u003e\n      \u003ctd\u003e1.0\u003c/td\u003e\n    \u003c/tr\u003e\n  \u003c/tbody\u003e\n\u003c/table\u003e\n\u003cp\u003e205 rows × 28 columns\u003c/p\u003e\n\u003c/div\u003e",
                        "text/plain": "     symboling normalized-losses         make fuel-type aspiration  \\\n0            3                 ?  alfa-romero       gas        std   \n1            3                 ?  alfa-romero       gas        std   \n2            1                 ?  alfa-romero       gas        std   \n3            2               164         audi       gas        std   \n4            2               164         audi       gas        std   \n..         ...               ...          ...       ...        ...   \n200         -1                95        volvo       gas        std   \n201         -1                95        volvo       gas      turbo   \n202         -1                95        volvo       gas        std   \n203         -1                95        volvo    diesel      turbo   \n204         -1                95        volvo       gas      turbo   \n\n    num-of-doors   body-style drive-wheels engine-location  wheel-base  ...  \\\n0            two  convertible          rwd           front        88.6  ...   \n1            two  convertible          rwd           front        88.6  ...   \n2            two    hatchback          rwd           front        94.5  ...   \n3           four        sedan          fwd           front        99.8  ...   \n4           four        sedan          4wd           front        99.4  ...   \n..           ...          ...          ...             ...         ...  ...   \n200         four        sedan          rwd           front       109.1  ...   \n201         four        sedan          rwd           front       109.1  ...   \n202         four        sedan          rwd           front       109.1  ...   \n203         four        sedan          rwd           front       109.1  ...   \n204         four        sedan          rwd           front       109.1  ...   \n\n     bore  stroke  compression-ratio  horsepower peak-rpm city-mpg  \\\n0    3.47    2.68                9.0       111.0     5000       21   \n1    3.47    2.68                9.0       111.0     5000       21   \n2    2.68    3.47                9.0       154.0     5000       19   \n3    3.19     3.4               10.0       102.0     5500       24   \n4    3.19     3.4                8.0       115.0     5500       18   \n..    ...     ...                ...         ...      ...      ...   \n200  3.78    3.15                9.5       114.0     5400       23   \n201  3.78    3.15                8.7       160.0     5300       19   \n202  3.58    2.87                8.8       134.0     5500       18   \n203  3.01     3.4               23.0       106.0     4800       26   \n204  3.78    3.15                9.5       114.0     5400       19   \n\n     highway-mpg    price HighPrice HighHorsepower  \n0             27  13495.0       1.0            1.0  \n1             27  16500.0       1.0            1.0  \n2             26  16500.0       1.0            1.0  \n3             30  13950.0       1.0            1.0  \n4             22  17450.0       1.0            1.0  \n..           ...      ...       ...            ...  \n200           28  16845.0       1.0            1.0  \n201           25  19045.0       1.0            1.0  \n202           23  21485.0       1.0            1.0  \n203           27  22470.0       1.0            1.0  \n204           25  22625.0       1.0            1.0  \n\n[205 rows x 28 columns]"
                    },
                    "execution_count": 119,
                    "metadata": {},
                    "output_type": "execute_result"
                }
            ],
            "source": [
                "high_price = pd.DataFrame(Auto.price)\n",
                "high_price_median = Auto.price.median()\n",
                "high_price.iloc[np.where(Auto.price \u003e high_price_median)] = 1\n",
                "high_price.iloc[np.where(Auto.price \u003c= high_price_median)] = 0\n",
                "\n",
                "high_horsepower = pd.DataFrame(Auto.horsepower)\n",
                "high_horsepower_median = Auto.horsepower.median()\n",
                "high_horsepower.iloc[np.where(Auto.horsepower \u003e high_horsepower_median)] = 1\n",
                "high_horsepower.iloc[np.where(Auto.horsepower \u003c= high_horsepower_median)] = 0\n",
                "Auto = Auto.assign(HighPrice = high_price, HighHorsepower=high_horsepower)\n",
                "Auto"
            ]
        },
        {
            "attachments": {},
            "cell_type": "markdown",
            "metadata": {},
            "source": [
                "## Q4.  [8 points]\n",
                "\n",
                "* What is the probability of a car having high horse power conditional on this car has high price? \n",
                "\n",
                "* Does the data suggest that having high horse power and high price are independent? "
            ]
        },
        {
            "cell_type": "code",
            "execution_count": 120,
            "metadata": {},
            "outputs": [
                {
                    "data": {
                        "text/plain": "0.8137254901960785"
                    },
                    "execution_count": 120,
                    "metadata": {},
                    "output_type": "execute_result"
                }
            ],
            "source": [
                "#Event A: highhorsepower = 1, Event B: highprice = 1  P(A|B) = P(A and B)/P(B)\n",
                "sample_space = 205 \n",
                "Pr_B = np.sum(Auto.HighPrice)/sample_space\n",
                "Filter = (Auto.HighPrice.values == 1) \u0026 (Auto.HighHorsepower.values == 1) \n",
                "table = Auto.loc[Filter, [\"HighPrice\",\"HighHorsepower\"]]\n",
                "Pr_AB = table.HighPrice.size/sample_space\n",
                "Pr_event = Pr_AB/Pr_B\n",
                "Pr_event"
            ]
        },
        {
            "cell_type": "code",
            "execution_count": 121,
            "metadata": {},
            "outputs": [
                {
                    "data": {
                        "text/plain": "False"
                    },
                    "execution_count": 121,
                    "metadata": {},
                    "output_type": "execute_result"
                }
            ],
            "source": [
                "Pr_A = np.sum(Auto.HighHorsepower)/sample_space\n",
                "Pr_A == Pr_event"
            ]
        },
        {
            "attachments": {},
            "cell_type": "markdown",
            "metadata": {},
            "source": [
                "The data does not suggest having high horse power and a high price are independent because the probability of having a high horse power conditional on having a high car price is not equal to the probability of just having a high horse power. This condition of independence is not met therefore the events are dependent. "
            ]
        },
        {
            "attachments": {},
            "cell_type": "markdown",
            "metadata": {},
            "source": [
                "## Q5.  [14 points]\n",
                "\n",
                "We want to test whether the probability of a car having horsepower higher than 150 is **less than** 0.1.   \n",
                "\n",
                "* Test the hypothesis based on repeated sampling using $\\alpha=0.1$. Clearly show the following:\n",
                "\n",
                "\u003e 1.   Null hypothesis/Alternative hypothesis\n",
                "\u003e 2.   Visualize the distribution of the sample statistics from simulation, the rejection region(s), and the observed statistics in the same graph.\n",
                "\u003e 3.   Provide the conclusion.\n",
                "\n",
                "* Interpret the type 1 and type 2 error in the context of this question.\n",
                "\n",
                "**[Loop/List comprehension is allowed.]**"
            ]
        },
        {
            "attachments": {},
            "cell_type": "markdown",
            "metadata": {},
            "source": [
                "Event: car having a horsepower higher than 150\n",
                "\n",
                "Null hypothesis: P(E) $\\geq$ 0.1 \n",
                "\n",
                "Alternative hypothesis: P(E) \u003c 0.1"
            ]
        },
        {
            "cell_type": "code",
            "execution_count": 122,
            "metadata": {},
            "outputs": [
                {
                    "data": {
                        "text/plain": "0.15609756097560976"
                    },
                    "execution_count": 122,
                    "metadata": {},
                    "output_type": "execute_result"
                }
            ],
            "source": [
                "#actual probability from sample \n",
                "Filter = Auto.horsepower \u003e 150 \n",
                "event_space = Auto.loc[Filter, [\"horsepower\"]].size\n",
                "pr = event_space/205\n",
                "pr"
            ]
        },
        {
            "cell_type": "code",
            "execution_count": 123,
            "metadata": {},
            "outputs": [],
            "source": [
                "def sampling():\n",
                "    samples = np.random.choice([0,1], size=205, p=[0.9,0.1])\n",
                "    return np.mean(samples == 1)\n",
                "samples = np.array([sampling() for i in range(1000)])"
            ]
        },
        {
            "cell_type": "code",
            "execution_count": 124,
            "metadata": {},
            "outputs": [
                {
                    "data": {
                        "image/png": "[encoded data removed]",
                        "text/plain": "\u003cFigure size 432x288 with 1 Axes\u003e"
                    },
                    "metadata": {
                        "needs_background": "light"
                    },
                    "output_type": "display_data"
                }
            ],
            "source": [
                "#rejection regions:if the actual value lies below the 10th percentile of the sample means, reject the \n",
                "#null hypothesis\n",
                "plt.hist(samples,bins=30,density=True)\n",
                "#alpha=.1\n",
                "cutoffs=np.percentile(samples,10)\n",
                "plt.vlines(cutoffs, 0, 40,color=\"red\" ,lw=5)\n",
                "plt.scatter(0.15609756097560976,0,c=\"pink\",s=100,zorder=300,clip_on=False)\n",
                "plt.show()"
            ]
        },
        {
            "attachments": {},
            "cell_type": "markdown",
            "metadata": {},
            "source": [
                "Conclustion: The actual probability p, 0.1561 does not lie below the 10th percentile of the sample means, so I fail to reject the null hypothesis, indicating that there is not enough evidence to support that the probability of having a horsepower of 150 is less than 0.1 for the entire population. \n",
                "\n",
                "In this case, a type 1 error would occur if I had found the opposite of my conclusion and recjected the null hypothesis. I would have determined that the that the probability of having a horsepower of 150 is likely less than 0.1 for the entire population, even though that is actually false. \n",
                "\n",
                "A type 2 error would occur if my current conlcusion is actually false, and the probability of having a horsepower of 150 is actually less than 0.1 for the entire population, but I failed to reject the null hypothesis and accept that conclusion. "
            ]
        },
        {
            "attachments": {},
            "cell_type": "markdown",
            "metadata": {},
            "source": [
                "## Q6. [14 Points]\n",
                "\n",
                "* Perform sample $n$ with replacement from this dataset, where $n$ is the number of observations we have in the dataset. Compute the **median** price from this new sample. Repeat this step 1000 times and plot the distribution of the 1000 sample medians you get. \n",
                "\n",
                "* Construct the $95\\%$ confidence interval for  population median price. \n",
                "\n",
                "**[Loop/List comprehension is allowed.]**\n",
                ""
            ]
        },
        {
            "cell_type": "code",
            "execution_count": 125,
            "metadata": {},
            "outputs": [
                {
                    "data": {
                        "image/png": "[encoded data removed]",
                        "text/plain": "\u003cFigure size 432x288 with 1 Axes\u003e"
                    },
                    "metadata": {
                        "needs_background": "light"
                    },
                    "output_type": "display_data"
                }
            ],
            "source": [
                "theta_hat= high_price_median\n",
                "def sampling_from_sample():\n",
                "  samples=np.random.choice(Auto.price,replace=True,size=205)\n",
                "  return np.median(samples)\n",
                "sample_medians=np.array([sampling_from_sample() for i in range(1000)])\n",
                "plt.hist(sample_medians,bins=30,density=True)\n",
                "plt.show()"
            ]
        },
        {
            "cell_type": "code",
            "execution_count": 126,
            "metadata": {},
            "outputs": [
                {
                    "data": {
                        "text/plain": "9340.0"
                    },
                    "execution_count": 126,
                    "metadata": {},
                    "output_type": "execute_result"
                }
            ],
            "source": [
                "CL=0.95\n",
                "alpha=1-CL\n",
                "lower_bound=2*theta_hat-np.percentile(sample_medians,(1-alpha/2)*100)\n",
                "lower_bound"
            ]
        },
        {
            "cell_type": "code",
            "execution_count": 127,
            "metadata": {},
            "outputs": [
                {
                    "data": {
                        "text/plain": "11641.0"
                    },
                    "execution_count": 127,
                    "metadata": {},
                    "output_type": "execute_result"
                }
            ],
            "source": [
                "upper_bound=2*theta_hat-np.percentile(sample_medians,(alpha/2)*100)\n",
                "upper_bound"
            ]
        }
    ]
}
